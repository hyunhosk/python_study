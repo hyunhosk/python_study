{
 "cells": [
  {
   "cell_type": "code",
   "execution_count": 113,
   "id": "9cc58a59-5f05-4780-9bd8-1438a786445a",
   "metadata": {},
   "outputs": [],
   "source": [
    "import pandas as pd\n",
    "import numpy as np\n",
    "data = pd.read_csv('2017교통사고현황.csv')"
   ]
  },
  {
   "cell_type": "code",
   "execution_count": 116,
   "id": "a3c59134-63b1-4730-8353-bf90d76c61d4",
   "metadata": {},
   "outputs": [
    {
     "data": {
      "text/html": [
       "<div>\n",
       "<style scoped>\n",
       "    .dataframe tbody tr th:only-of-type {\n",
       "        vertical-align: middle;\n",
       "    }\n",
       "\n",
       "    .dataframe tbody tr th {\n",
       "        vertical-align: top;\n",
       "    }\n",
       "\n",
       "    .dataframe thead th {\n",
       "        text-align: right;\n",
       "    }\n",
       "</style>\n",
       "<table border=\"1\" class=\"dataframe\">\n",
       "  <thead>\n",
       "    <tr style=\"text-align: right;\">\n",
       "      <th></th>\n",
       "      <th>day</th>\n",
       "      <th>count</th>\n",
       "    </tr>\n",
       "  </thead>\n",
       "  <tbody>\n",
       "    <tr>\n",
       "      <th>0</th>\n",
       "      <td>2017-01-01</td>\n",
       "      <td>69</td>\n",
       "    </tr>\n",
       "    <tr>\n",
       "      <th>1</th>\n",
       "      <td>2017-01-02</td>\n",
       "      <td>82</td>\n",
       "    </tr>\n",
       "    <tr>\n",
       "      <th>2</th>\n",
       "      <td>2017-01-03</td>\n",
       "      <td>87</td>\n",
       "    </tr>\n",
       "    <tr>\n",
       "      <th>3</th>\n",
       "      <td>2017-01-04</td>\n",
       "      <td>114</td>\n",
       "    </tr>\n",
       "    <tr>\n",
       "      <th>4</th>\n",
       "      <td>2017-01-05</td>\n",
       "      <td>101</td>\n",
       "    </tr>\n",
       "    <tr>\n",
       "      <th>...</th>\n",
       "      <td>...</td>\n",
       "      <td>...</td>\n",
       "    </tr>\n",
       "    <tr>\n",
       "      <th>360</th>\n",
       "      <td>2017-12-27</td>\n",
       "      <td>91</td>\n",
       "    </tr>\n",
       "    <tr>\n",
       "      <th>361</th>\n",
       "      <td>2017-12-28</td>\n",
       "      <td>91</td>\n",
       "    </tr>\n",
       "    <tr>\n",
       "      <th>362</th>\n",
       "      <td>2017-12-29</td>\n",
       "      <td>117</td>\n",
       "    </tr>\n",
       "    <tr>\n",
       "      <th>363</th>\n",
       "      <td>2017-12-30</td>\n",
       "      <td>82</td>\n",
       "    </tr>\n",
       "    <tr>\n",
       "      <th>364</th>\n",
       "      <td>2017-12-31</td>\n",
       "      <td>71</td>\n",
       "    </tr>\n",
       "  </tbody>\n",
       "</table>\n",
       "<p>365 rows × 2 columns</p>\n",
       "</div>"
      ],
      "text/plain": [
       "            day  count\n",
       "0    2017-01-01     69\n",
       "1    2017-01-02     82\n",
       "2    2017-01-03     87\n",
       "3    2017-01-04    114\n",
       "4    2017-01-05    101\n",
       "..          ...    ...\n",
       "360  2017-12-27     91\n",
       "361  2017-12-28     91\n",
       "362  2017-12-29    117\n",
       "363  2017-12-30     82\n",
       "364  2017-12-31     71\n",
       "\n",
       "[365 rows x 2 columns]"
      ]
     },
     "execution_count": 116,
     "metadata": {},
     "output_type": "execute_result"
    }
   ],
   "source": [
    "#발생일, 사고건수 정보만 가진 df 새로 생성\n",
    "data_aci = pd.DataFrame({'day' : data['발생일'],\n",
    "                         'count' : data['사고건수']})\n",
    "\n",
    "# #발생일, 사고건수만 묶어서 인덱스 번호 재부여\n",
    "df_aci = data_aci.groupby('day').count().reset_index(level = ['day'])\n",
    "\n",
    "df_aci"
   ]
  },
  {
   "cell_type": "markdown",
   "id": "5e37b94d-3ce8-4135-bfff-02d7af6dcf93",
   "metadata": {},
   "source": [
    "---"
   ]
  },
  {
   "cell_type": "code",
   "execution_count": 4,
   "id": "9b3791f3-0051-4a92-89a1-687981e97d6d",
   "metadata": {},
   "outputs": [
    {
     "data": {
      "text/html": [
       "<div>\n",
       "<style scoped>\n",
       "    .dataframe tbody tr th:only-of-type {\n",
       "        vertical-align: middle;\n",
       "    }\n",
       "\n",
       "    .dataframe tbody tr th {\n",
       "        vertical-align: top;\n",
       "    }\n",
       "\n",
       "    .dataframe thead th {\n",
       "        text-align: right;\n",
       "    }\n",
       "</style>\n",
       "<table border=\"1\" class=\"dataframe\">\n",
       "  <thead>\n",
       "    <tr style=\"text-align: right;\">\n",
       "      <th></th>\n",
       "      <th>day</th>\n",
       "      <th>count</th>\n",
       "    </tr>\n",
       "  </thead>\n",
       "  <tbody>\n",
       "    <tr>\n",
       "      <th>0</th>\n",
       "      <td>2017-01-01</td>\n",
       "      <td>69</td>\n",
       "    </tr>\n",
       "    <tr>\n",
       "      <th>1</th>\n",
       "      <td>2017-01-02</td>\n",
       "      <td>82</td>\n",
       "    </tr>\n",
       "    <tr>\n",
       "      <th>2</th>\n",
       "      <td>2017-01-03</td>\n",
       "      <td>87</td>\n",
       "    </tr>\n",
       "    <tr>\n",
       "      <th>3</th>\n",
       "      <td>2017-01-04</td>\n",
       "      <td>114</td>\n",
       "    </tr>\n",
       "    <tr>\n",
       "      <th>4</th>\n",
       "      <td>2017-01-05</td>\n",
       "      <td>101</td>\n",
       "    </tr>\n",
       "    <tr>\n",
       "      <th>...</th>\n",
       "      <td>...</td>\n",
       "      <td>...</td>\n",
       "    </tr>\n",
       "    <tr>\n",
       "      <th>360</th>\n",
       "      <td>2017-12-27</td>\n",
       "      <td>91</td>\n",
       "    </tr>\n",
       "    <tr>\n",
       "      <th>361</th>\n",
       "      <td>2017-12-28</td>\n",
       "      <td>91</td>\n",
       "    </tr>\n",
       "    <tr>\n",
       "      <th>362</th>\n",
       "      <td>2017-12-29</td>\n",
       "      <td>117</td>\n",
       "    </tr>\n",
       "    <tr>\n",
       "      <th>363</th>\n",
       "      <td>2017-12-30</td>\n",
       "      <td>82</td>\n",
       "    </tr>\n",
       "    <tr>\n",
       "      <th>364</th>\n",
       "      <td>2017-12-31</td>\n",
       "      <td>71</td>\n",
       "    </tr>\n",
       "  </tbody>\n",
       "</table>\n",
       "<p>365 rows × 2 columns</p>\n",
       "</div>"
      ],
      "text/plain": [
       "            day  count\n",
       "0    2017-01-01     69\n",
       "1    2017-01-02     82\n",
       "2    2017-01-03     87\n",
       "3    2017-01-04    114\n",
       "4    2017-01-05    101\n",
       "..          ...    ...\n",
       "360  2017-12-27     91\n",
       "361  2017-12-28     91\n",
       "362  2017-12-29    117\n",
       "363  2017-12-30     82\n",
       "364  2017-12-31     71\n",
       "\n",
       "[365 rows x 2 columns]"
      ]
     },
     "execution_count": 4,
     "metadata": {},
     "output_type": "execute_result"
    }
   ],
   "source": [
    "import pandas as pd\n",
    "import numpy as np\n",
    "df_aci = pd.read_csv('17사고현황수정.csv')\n",
    "\n",
    "df_aci"
   ]
  },
  {
   "cell_type": "markdown",
   "id": "6bf75cb5-332e-4f72-ac7a-8b4096de1ffa",
   "metadata": {},
   "source": [
    "index = False 없으면 저장할때마다 계속 index값이 새로 추가되서 찍힘"
   ]
  },
  {
   "cell_type": "code",
   "execution_count": 5,
   "id": "895ecbdb-1224-43c3-b52a-1937d1f08dde",
   "metadata": {},
   "outputs": [],
   "source": [
    "# 발생일, 사고건수만 정리한 내용 파일로 저장\n",
    "df_aci.to_csv('사고현황1.csv', mode = 'w', index = False)"
   ]
  },
  {
   "cell_type": "markdown",
   "id": "abbc15df-1d81-4da3-a56a-2f25ac110e33",
   "metadata": {},
   "source": [
    "---"
   ]
  },
  {
   "cell_type": "code",
   "execution_count": null,
   "id": "48f577ae-8a62-41cc-a008-80c2ec79b157",
   "metadata": {},
   "outputs": [
    {
     "name": "stderr",
     "output_type": "stream",
     "text": [
      "C:\\Users\\BIT\\AppData\\Local\\Temp/ipykernel_10788/740026575.py:5: DeprecationWarning: executable_path has been deprecated, please pass in a Service object\n",
      "  driver = webdriver.Chrome('../driver/chromedriver')\n"
     ]
    },
    {
     "name": "stdout",
     "output_type": "stream",
     "text": [
      "<selenium.webdriver.remote.webelement.WebElement (session=\"6a0e641578430de4b162a9dc72290009\", element=\"af3fd944-f9c3-469b-b10c-447624043d40\")>\n"
     ]
    },
    {
     "name": "stderr",
     "output_type": "stream",
     "text": [
      "C:\\Users\\BIT\\AppData\\Local\\Temp/ipykernel_10788/740026575.py:8: DeprecationWarning: find_elements_by_* commands are deprecated. Please use find_elements() instead\n",
      "  weather = driver.find_elements_by_css_selector('body > div.container > section > div > div.cont-wrap > div.cmp-past-obs > div:nth-child(3) > div > table > tbody > tr:nth-child(1)')\n"
     ]
    }
   ],
   "source": [
    "import requests\n",
    "from selenium import webdriver\n",
    "\n",
    "#브라우저 생성\n",
    "driver = webdriver.Chrome('../driver/chromedriver')\n",
    "#브라우저 열기\n",
    "driver.get('https://www.weather.go.kr/w/obs-climate/land/past-obs/obs-by-day.do?stn=108&yy=2017&mm=1&obs=9')\n",
    "weather = driver.find_elements_by_tag_name"
   ]
  },
  {
   "cell_type": "code",
   "execution_count": 71,
   "id": "0979e6c8-36a1-4640-991f-ceb3bf93cdfa",
   "metadata": {},
   "outputs": [],
   "source": [
    "import requests\n",
    "from bs4 import BeautifulSoup\n",
    "import re\n",
    "import pandas as pd\n",
    "\n",
    "#response = requests.get('https://www.weather.go.kr/w/obs-climate/land/past-obs/obs-by-day.do?stn=108&yy=2017&mm=1&obs=9')\n",
    "#html_doc = response.text\n",
    "\n",
    "#soup = BeautifulSoup(html_doc, \"html.parser\")"
   ]
  },
  {
   "cell_type": "code",
   "execution_count": 72,
   "id": "c6af2e7c-7d50-4d2e-9b71-255a49d0061b",
   "metadata": {},
   "outputs": [],
   "source": [
    "def get_adress(adress):\n",
    "    response = requests.get(adress)\n",
    "    html_doc = response.text\n",
    "\n",
    "    soup = BeautifulSoup(html_doc, \"html.parser\")\n",
    "    \n",
    "    return soup"
   ]
  },
  {
   "cell_type": "code",
   "execution_count": 107,
   "id": "60e2a129-94b9-4c4d-b670-9ffd93386e8e",
   "metadata": {},
   "outputs": [],
   "source": [
    "def get_address(adress):\n",
    "    response = requests.get(adress)\n",
    "    html_doc = response.text\n",
    "\n",
    "    soup = BeautifulSoup(html_doc, \"html.parser\")\n",
    "    \n",
    "    for i in range(5):\n",
    "        weak_day = soup.select_one('body > div.container > section > div > div.cont-wrap > div.cmp-past-obs > div:nth-child(3) > div > table > tbody > tr:nth-child(%d)'%((i+1)*2-1))\n",
    "        day = weak_day.select('tr > td > span')\n",
    "\n",
    "        weak_weather = soup.select_one('body > div.container > section > div > div.cont-wrap > div.cmp-past-obs > div:nth-child(3) > div > table > tbody > tr:nth-child(%d)'%((i+1)*2))\n",
    "        weather = weak_weather.select('tr > td ')\n",
    "\n",
    "        weather_jan = pd.DataFrame()\n",
    "\n",
    "        for i in day:\n",
    "            if i == '\\xa0':\n",
    "                continue\n",
    "            else:\n",
    "                day_list.append(i.text)\n",
    "\n",
    "        for j in weather:\n",
    "            if j == ' \\xa0 ':\n",
    "                continue\n",
    "            else:\n",
    "                weather_day = re.sub('\\n', ' ', j.text)\n",
    "                weather_list.append(weather_day)\n",
    "    "
   ]
  },
  {
   "cell_type": "code",
   "execution_count": 111,
   "id": "ad1c647a-26a1-4bd0-a4b2-cdb5b447883c",
   "metadata": {
    "tags": []
   },
   "outputs": [],
   "source": [
    "day_list = list()\n",
    "weather_list = list()"
   ]
  },
  {
   "cell_type": "code",
   "execution_count": 112,
   "id": "f30f0534-3684-42cb-9061-1fbce4b65d33",
   "metadata": {},
   "outputs": [
    {
     "name": "stdout",
     "output_type": "stream",
     "text": [
      "['1일', '2일', '3일', '4일', '5일', '6일', '7일', '8일', '9일', '10일', '11일', '12일', '13일', '14일', '15일', '16일', '17일', '18일', '19일', '20일', '21일', '22일', '23일', '24일', '25일', '26일', '27일', '28일', '29일', '30일', '31일', '\\xa0', '\\xa0', '\\xa0', '\\xa0']\n",
      "[' 박무   연무 ', ' 비   박무   연무 ', ' 박무   연무 ', ' 박무   연무 ', ' ', ' ', ' 박무   연무 ', ' 비   박무   연무 ', ' 비   박무   연무 ', ' 연무 ', ' ', ' 눈 ', ' 눈 ', ' ', ' ', ' ', ' 연무 ', ' 눈   연무 ', ' 박무   연무 ', ' 눈   박무   연무 ', ' 눈   박무   연무 ', ' 눈   연무 ', ' 연무 ', ' ', ' 연무 ', ' 비   박무   연무 ', ' 비   박무   황사 ', ' ', ' 눈   진눈깨비   박무 ', ' 눈   박무 ', ' ', ' \\xa0 ', ' \\xa0 ', ' \\xa0 ', ' \\xa0 ']\n"
     ]
    }
   ],
   "source": [
    "get_address('https://www.weather.go.kr/w/obs-climate/land/past-obs/obs-by-day.do?stn=108&yy=2017&mm=1&obs=9')\n",
    "\n",
    "print(day_list)\n",
    "print(weather_list)"
   ]
  },
  {
   "cell_type": "code",
   "execution_count": 103,
   "id": "79313837-063e-4f2f-93a3-e0ee0b5ec661",
   "metadata": {},
   "outputs": [
    {
     "name": "stdout",
     "output_type": "stream",
     "text": [
      "['1일', '2일', '3일', '4일', '5일', '6일', '7일', '8일', '9일', '10일', '11일', '12일', '13일', '14일', '15일', '16일', '17일', '18일', '19일', '20일', '21일', '22일', '23일', '24일', '25일', '26일', '27일', '28일', '29일', '30일', '31일', '\\xa0', '\\xa0', '\\xa0', '\\xa0']\n",
      "[' 박무   연무 ', ' 비   박무   연무 ', ' 박무   연무 ', ' 박무   연무 ', ' ', ' ', ' 박무   연무 ', ' 비   박무   연무 ', ' 비   박무   연무 ', ' 연무 ', ' ', ' 눈 ', ' 눈 ', ' ', ' ', ' ', ' 연무 ', ' 눈   연무 ', ' 박무   연무 ', ' 눈   박무   연무 ', ' 눈   박무   연무 ', ' 눈   연무 ', ' 연무 ', ' ', ' 연무 ', ' 비   박무   연무 ', ' 비   박무   황사 ', ' ', ' 눈   진눈깨비   박무 ', ' 눈   박무 ', ' ', ' \\xa0 ', ' \\xa0 ', ' \\xa0 ', ' \\xa0 ']\n"
     ]
    }
   ],
   "source": [
    "def get_data(soup):\n",
    "    for i in range(5):\n",
    "        weak_day = soup.select_one('body > div.container > section > div > div.cont-wrap > div.cmp-past-obs > div:nth-child(3) > div > table > tbody > tr:nth-child(%d)'%(i+1)*2-1)\n",
    "        day = weak_day.select('tr > td > span')\n",
    "\n",
    "        weak_weather = soup.select_one('body > div.container > section > div > div.cont-wrap > div.cmp-past-obs > div:nth-child(3) > div > table > tbody > tr:nth-child(%d)'%((i+1)*2))\n",
    "        weather = weak_weather.select('tr > td ')\n",
    "\n",
    "        weather_jan = pd.DataFrame()\n",
    "\n",
    "        for i in day:\n",
    "            day_list.append(i.text)\n",
    "\n",
    "        for j in weather:\n",
    "            weather_day = re.sub('\\n', ' ', j.text)\n",
    "            weather_list.append(weather_day)\n",
    "    \n",
    "print(day_list)\n",
    "print(weather_list)"
   ]
  },
  {
   "cell_type": "code",
   "execution_count": null,
   "id": "a806303a-f35c-4f97-a1b9-5d77c8e1d412",
   "metadata": {},
   "outputs": [
    {
     "ename": "TypeError",
     "evalue": "unsupported operand type(s) for -: 'str' and 'int'",
     "output_type": "error",
     "traceback": [
      "\u001b[1;31m---------------------------------------------------------------------------\u001b[0m",
      "\u001b[1;31mTypeError\u001b[0m                                 Traceback (most recent call last)",
      "\u001b[1;32m~\\AppData\\Local\\Temp/ipykernel_10788/2977123648.py\u001b[0m in \u001b[0;36m<module>\u001b[1;34m\u001b[0m\n\u001b[0;32m      1\u001b[0m \u001b[0msoup\u001b[0m \u001b[1;33m=\u001b[0m \u001b[0mget_adress\u001b[0m\u001b[1;33m(\u001b[0m\u001b[1;34m'https://www.weather.go.kr/w/obs-climate/land/past-obs/obs-by-day.do?stn=108&yy=2017&mm=1&obs=9'\u001b[0m\u001b[1;33m)\u001b[0m\u001b[1;33m\u001b[0m\u001b[1;33m\u001b[0m\u001b[0m\n\u001b[0;32m      2\u001b[0m \u001b[1;31m#type(soup)\u001b[0m\u001b[1;33m\u001b[0m\u001b[1;33m\u001b[0m\u001b[0m\n\u001b[1;32m----> 3\u001b[1;33m \u001b[0mget_data\u001b[0m\u001b[1;33m(\u001b[0m\u001b[0msoup\u001b[0m\u001b[1;33m)\u001b[0m\u001b[1;33m\u001b[0m\u001b[1;33m\u001b[0m\u001b[0m\n\u001b[0m\u001b[0;32m      4\u001b[0m \u001b[1;33m\u001b[0m\u001b[0m\n\u001b[0;32m      5\u001b[0m \u001b[0mprint\u001b[0m\u001b[1;33m(\u001b[0m\u001b[0mday_list\u001b[0m\u001b[1;33m)\u001b[0m\u001b[1;33m\u001b[0m\u001b[1;33m\u001b[0m\u001b[0m\n",
      "\u001b[1;32m~\\AppData\\Local\\Temp/ipykernel_10788/2024344655.py\u001b[0m in \u001b[0;36mget_data\u001b[1;34m(soup)\u001b[0m\n\u001b[0;32m      1\u001b[0m \u001b[1;32mdef\u001b[0m \u001b[0mget_data\u001b[0m\u001b[1;33m(\u001b[0m\u001b[0msoup\u001b[0m\u001b[1;33m)\u001b[0m\u001b[1;33m:\u001b[0m\u001b[1;33m\u001b[0m\u001b[1;33m\u001b[0m\u001b[0m\n\u001b[0;32m      2\u001b[0m     \u001b[1;32mfor\u001b[0m \u001b[0mi\u001b[0m \u001b[1;32min\u001b[0m \u001b[0mrange\u001b[0m\u001b[1;33m(\u001b[0m\u001b[1;36m5\u001b[0m\u001b[1;33m)\u001b[0m\u001b[1;33m:\u001b[0m\u001b[1;33m\u001b[0m\u001b[1;33m\u001b[0m\u001b[0m\n\u001b[1;32m----> 3\u001b[1;33m         \u001b[0mweak_day\u001b[0m \u001b[1;33m=\u001b[0m \u001b[0msoup\u001b[0m\u001b[1;33m.\u001b[0m\u001b[0mselect_one\u001b[0m\u001b[1;33m(\u001b[0m\u001b[1;34m'body > div.container > section > div > div.cont-wrap > div.cmp-past-obs > div:nth-child(3) > div > table > tbody > tr:nth-child(%d)'\u001b[0m\u001b[1;33m%\u001b[0m\u001b[1;33m(\u001b[0m\u001b[0mi\u001b[0m\u001b[1;33m+\u001b[0m\u001b[1;36m1\u001b[0m\u001b[1;33m)\u001b[0m\u001b[1;33m*\u001b[0m\u001b[1;36m2\u001b[0m\u001b[1;33m-\u001b[0m\u001b[1;36m1\u001b[0m\u001b[1;33m)\u001b[0m\u001b[1;33m\u001b[0m\u001b[1;33m\u001b[0m\u001b[0m\n\u001b[0m\u001b[0;32m      4\u001b[0m         \u001b[0mday\u001b[0m \u001b[1;33m=\u001b[0m \u001b[0mweak_day\u001b[0m\u001b[1;33m.\u001b[0m\u001b[0mselect\u001b[0m\u001b[1;33m(\u001b[0m\u001b[1;34m'tr > td > span'\u001b[0m\u001b[1;33m)\u001b[0m\u001b[1;33m\u001b[0m\u001b[1;33m\u001b[0m\u001b[0m\n\u001b[0;32m      5\u001b[0m \u001b[1;33m\u001b[0m\u001b[0m\n",
      "\u001b[1;31mTypeError\u001b[0m: unsupported operand type(s) for -: 'str' and 'int'"
     ]
    }
   ],
   "source": [
    "soup = get_adress('https://www.weather.go.kr/w/obs-climate/land/past-obs/obs-by-day.do?stn=108&yy=2017&mm=1&obs=9')\n",
    "#type(soup)\n",
    "get_data(soup)\n",
    "\n",
    "print(day_list)\n",
    "print(weather_list)"
   ]
  },
  {
   "cell_type": "code",
   "execution_count": null,
   "id": "92d60162-cbd3-4880-aa65-873d6462b1af",
   "metadata": {},
   "outputs": [
    {
     "name": "stdout",
     "output_type": "stream",
     "text": [
      "['1일', '2일', '3일', '4일', '5일', '6일', '7일']\n",
      "[' 박무   연무 ', ' 비   박무   연무 ', ' 박무   연무 ', ' 박무   연무 ', ' ', ' ', ' 박무   연무 ']\n"
     ]
    }
   ],
   "source": [
    "#1주단위 추출\n",
    "weak_day = soup.select_one('body > div.container > section > div > div.cont-wrap > div.cmp-past-obs > div:nth-child(3) > div > table > tbody > tr:nth-child(1)')\n",
    "day = weak_day.select('tr > td > span')\n",
    "\n",
    "weak_weather = soup.select_one('body > div.container > section > div > div.cont-wrap > div.cmp-past-obs > div:nth-child(3) > div > table > tbody > tr:nth-child(2)')\n",
    "weather = weak_weather.select('tr > td ')\n",
    "\n",
    "weather_jan = pd.DataFrame()\n",
    "\n",
    "#day_list = list()\n",
    "#weather_list = list()\n",
    "for i in day:\n",
    "    day_list.append(i.text)\n",
    "\n",
    "for j in weather:\n",
    "    weather_day = re.sub('\\n', ' ', j.text)\n",
    "    weather_list.append(weather_day)\n",
    "    \n",
    "print(day_list)\n",
    "print(weather_list)"
   ]
  },
  {
   "cell_type": "code",
   "execution_count": null,
   "id": "9a413f3d-e25b-4675-940b-183bda248119",
   "metadata": {},
   "outputs": [],
   "source": [
    "body > div.container > section > div > div.cont-wrap > div.cmp-past-obs > div:nth-child(3) > div > table > tbody > tr:nth-child(3)"
   ]
  }
 ],
 "metadata": {
  "kernelspec": {
   "display_name": "Python 3 (ipykernel)",
   "language": "python",
   "name": "python3"
  },
  "language_info": {
   "codemirror_mode": {
    "name": "ipython",
    "version": 3
   },
   "file_extension": ".py",
   "mimetype": "text/x-python",
   "name": "python",
   "nbconvert_exporter": "python",
   "pygments_lexer": "ipython3",
   "version": "3.9.7"
  }
 },
 "nbformat": 4,
 "nbformat_minor": 5
}
