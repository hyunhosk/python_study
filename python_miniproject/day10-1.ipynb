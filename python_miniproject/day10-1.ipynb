{
 "cells": [
  {
   "cell_type": "code",
   "execution_count": 1,
   "id": "6c21129d-aaa9-47a0-82b2-06518e882e7a",
   "metadata": {},
   "outputs": [
    {
     "data": {
      "text/plain": [
       "pandas.core.frame.DataFrame"
      ]
     },
     "execution_count": 1,
     "metadata": {},
     "output_type": "execute_result"
    }
   ],
   "source": [
    "import pandas as pd\n",
    "import numpy as np\n",
    "\n",
    "df = pd.DataFrame({'Num': range(1, 11),\n",
    "                    'Date': pd.date_range('20220102', periods=10),\n",
    "                    'Point': pd.Series(1, index=list(range(10)), dtype='float32'),\n",
    "                    'Class': np.array([1,2,5,2,4,5,3,2,1,3], dtype='int32'),\n",
    "                    'Type': pd.Categorical(['test', 'train', None, 'train', 'validation', 'validation', 'validation', 'test', 'train', 'test']),\n",
    "                    'Gender': [None, 'female', 'male', 'female', None, 'male', 'female', 'male', 'male', 'male']})\n",
    "\n",
    "pd.DataFrame"
   ]
  },
  {
   "cell_type": "code",
   "execution_count": 3,
   "id": "7ca73445-d20b-432d-8e1d-7e3e7afc8f42",
   "metadata": {},
   "outputs": [
    {
     "data": {
      "text/html": [
       "<div>\n",
       "<style scoped>\n",
       "    .dataframe tbody tr th:only-of-type {\n",
       "        vertical-align: middle;\n",
       "    }\n",
       "\n",
       "    .dataframe tbody tr th {\n",
       "        vertical-align: top;\n",
       "    }\n",
       "\n",
       "    .dataframe thead th {\n",
       "        text-align: right;\n",
       "    }\n",
       "</style>\n",
       "<table border=\"1\" class=\"dataframe\">\n",
       "  <thead>\n",
       "    <tr style=\"text-align: right;\">\n",
       "      <th></th>\n",
       "      <th>Num</th>\n",
       "      <th>Date</th>\n",
       "      <th>Point</th>\n",
       "      <th>Class</th>\n",
       "      <th>Type</th>\n",
       "      <th>Gender</th>\n",
       "    </tr>\n",
       "  </thead>\n",
       "  <tbody>\n",
       "    <tr>\n",
       "      <th>0</th>\n",
       "      <td>1</td>\n",
       "      <td>2022-01-02</td>\n",
       "      <td>1.0</td>\n",
       "      <td>1</td>\n",
       "      <td>test</td>\n",
       "      <td>None</td>\n",
       "    </tr>\n",
       "    <tr>\n",
       "      <th>1</th>\n",
       "      <td>2</td>\n",
       "      <td>2022-01-03</td>\n",
       "      <td>1.0</td>\n",
       "      <td>2</td>\n",
       "      <td>train</td>\n",
       "      <td>female</td>\n",
       "    </tr>\n",
       "    <tr>\n",
       "      <th>2</th>\n",
       "      <td>3</td>\n",
       "      <td>2022-01-04</td>\n",
       "      <td>1.0</td>\n",
       "      <td>5</td>\n",
       "      <td>NaN</td>\n",
       "      <td>male</td>\n",
       "    </tr>\n",
       "    <tr>\n",
       "      <th>3</th>\n",
       "      <td>4</td>\n",
       "      <td>2022-01-05</td>\n",
       "      <td>1.0</td>\n",
       "      <td>2</td>\n",
       "      <td>train</td>\n",
       "      <td>female</td>\n",
       "    </tr>\n",
       "    <tr>\n",
       "      <th>4</th>\n",
       "      <td>5</td>\n",
       "      <td>2022-01-06</td>\n",
       "      <td>1.0</td>\n",
       "      <td>4</td>\n",
       "      <td>validation</td>\n",
       "      <td>None</td>\n",
       "    </tr>\n",
       "    <tr>\n",
       "      <th>5</th>\n",
       "      <td>6</td>\n",
       "      <td>2022-01-07</td>\n",
       "      <td>1.0</td>\n",
       "      <td>5</td>\n",
       "      <td>validation</td>\n",
       "      <td>male</td>\n",
       "    </tr>\n",
       "    <tr>\n",
       "      <th>6</th>\n",
       "      <td>7</td>\n",
       "      <td>2022-01-08</td>\n",
       "      <td>1.0</td>\n",
       "      <td>3</td>\n",
       "      <td>validation</td>\n",
       "      <td>female</td>\n",
       "    </tr>\n",
       "    <tr>\n",
       "      <th>7</th>\n",
       "      <td>8</td>\n",
       "      <td>2022-01-09</td>\n",
       "      <td>1.0</td>\n",
       "      <td>2</td>\n",
       "      <td>test</td>\n",
       "      <td>male</td>\n",
       "    </tr>\n",
       "    <tr>\n",
       "      <th>8</th>\n",
       "      <td>9</td>\n",
       "      <td>2022-01-10</td>\n",
       "      <td>1.0</td>\n",
       "      <td>1</td>\n",
       "      <td>train</td>\n",
       "      <td>male</td>\n",
       "    </tr>\n",
       "    <tr>\n",
       "      <th>9</th>\n",
       "      <td>10</td>\n",
       "      <td>2022-01-11</td>\n",
       "      <td>1.0</td>\n",
       "      <td>3</td>\n",
       "      <td>test</td>\n",
       "      <td>male</td>\n",
       "    </tr>\n",
       "  </tbody>\n",
       "</table>\n",
       "</div>"
      ],
      "text/plain": [
       "   Num       Date  Point  Class        Type  Gender\n",
       "0    1 2022-01-02    1.0      1        test    None\n",
       "1    2 2022-01-03    1.0      2       train  female\n",
       "2    3 2022-01-04    1.0      5         NaN    male\n",
       "3    4 2022-01-05    1.0      2       train  female\n",
       "4    5 2022-01-06    1.0      4  validation    None\n",
       "5    6 2022-01-07    1.0      5  validation    male\n",
       "6    7 2022-01-08    1.0      3  validation  female\n",
       "7    8 2022-01-09    1.0      2        test    male\n",
       "8    9 2022-01-10    1.0      1       train    male\n",
       "9   10 2022-01-11    1.0      3        test    male"
      ]
     },
     "execution_count": 3,
     "metadata": {},
     "output_type": "execute_result"
    }
   ],
   "source": [
    "df"
   ]
  },
  {
   "cell_type": "code",
   "execution_count": 6,
   "id": "a3c54eea-3d8f-439e-a83a-b0346af9d252",
   "metadata": {},
   "outputs": [
    {
     "data": {
      "text/html": [
       "<div>\n",
       "<style scoped>\n",
       "    .dataframe tbody tr th:only-of-type {\n",
       "        vertical-align: middle;\n",
       "    }\n",
       "\n",
       "    .dataframe tbody tr th {\n",
       "        vertical-align: top;\n",
       "    }\n",
       "\n",
       "    .dataframe thead th {\n",
       "        text-align: right;\n",
       "    }\n",
       "</style>\n",
       "<table border=\"1\" class=\"dataframe\">\n",
       "  <thead>\n",
       "    <tr style=\"text-align: right;\">\n",
       "      <th></th>\n",
       "      <th>Type</th>\n",
       "      <th>Point</th>\n",
       "      <th>Num</th>\n",
       "      <th>Gender</th>\n",
       "      <th>Date</th>\n",
       "      <th>Class</th>\n",
       "    </tr>\n",
       "  </thead>\n",
       "  <tbody>\n",
       "    <tr>\n",
       "      <th>0</th>\n",
       "      <td>test</td>\n",
       "      <td>1.0</td>\n",
       "      <td>1</td>\n",
       "      <td>None</td>\n",
       "      <td>2022-01-02</td>\n",
       "      <td>1</td>\n",
       "    </tr>\n",
       "    <tr>\n",
       "      <th>1</th>\n",
       "      <td>train</td>\n",
       "      <td>1.0</td>\n",
       "      <td>2</td>\n",
       "      <td>female</td>\n",
       "      <td>2022-01-03</td>\n",
       "      <td>2</td>\n",
       "    </tr>\n",
       "    <tr>\n",
       "      <th>2</th>\n",
       "      <td>NaN</td>\n",
       "      <td>1.0</td>\n",
       "      <td>3</td>\n",
       "      <td>male</td>\n",
       "      <td>2022-01-04</td>\n",
       "      <td>5</td>\n",
       "    </tr>\n",
       "    <tr>\n",
       "      <th>3</th>\n",
       "      <td>train</td>\n",
       "      <td>1.0</td>\n",
       "      <td>4</td>\n",
       "      <td>female</td>\n",
       "      <td>2022-01-05</td>\n",
       "      <td>2</td>\n",
       "    </tr>\n",
       "    <tr>\n",
       "      <th>4</th>\n",
       "      <td>validation</td>\n",
       "      <td>1.0</td>\n",
       "      <td>5</td>\n",
       "      <td>None</td>\n",
       "      <td>2022-01-06</td>\n",
       "      <td>4</td>\n",
       "    </tr>\n",
       "    <tr>\n",
       "      <th>5</th>\n",
       "      <td>validation</td>\n",
       "      <td>1.0</td>\n",
       "      <td>6</td>\n",
       "      <td>male</td>\n",
       "      <td>2022-01-07</td>\n",
       "      <td>5</td>\n",
       "    </tr>\n",
       "    <tr>\n",
       "      <th>6</th>\n",
       "      <td>validation</td>\n",
       "      <td>1.0</td>\n",
       "      <td>7</td>\n",
       "      <td>female</td>\n",
       "      <td>2022-01-08</td>\n",
       "      <td>3</td>\n",
       "    </tr>\n",
       "    <tr>\n",
       "      <th>7</th>\n",
       "      <td>test</td>\n",
       "      <td>1.0</td>\n",
       "      <td>8</td>\n",
       "      <td>male</td>\n",
       "      <td>2022-01-09</td>\n",
       "      <td>2</td>\n",
       "    </tr>\n",
       "    <tr>\n",
       "      <th>8</th>\n",
       "      <td>train</td>\n",
       "      <td>1.0</td>\n",
       "      <td>9</td>\n",
       "      <td>male</td>\n",
       "      <td>2022-01-10</td>\n",
       "      <td>1</td>\n",
       "    </tr>\n",
       "    <tr>\n",
       "      <th>9</th>\n",
       "      <td>test</td>\n",
       "      <td>1.0</td>\n",
       "      <td>10</td>\n",
       "      <td>male</td>\n",
       "      <td>2022-01-11</td>\n",
       "      <td>3</td>\n",
       "    </tr>\n",
       "  </tbody>\n",
       "</table>\n",
       "</div>"
      ],
      "text/plain": [
       "         Type  Point  Num  Gender       Date  Class\n",
       "0        test    1.0    1    None 2022-01-02      1\n",
       "1       train    1.0    2  female 2022-01-03      2\n",
       "2         NaN    1.0    3    male 2022-01-04      5\n",
       "3       train    1.0    4  female 2022-01-05      2\n",
       "4  validation    1.0    5    None 2022-01-06      4\n",
       "5  validation    1.0    6    male 2022-01-07      5\n",
       "6  validation    1.0    7  female 2022-01-08      3\n",
       "7        test    1.0    8    male 2022-01-09      2\n",
       "8       train    1.0    9    male 2022-01-10      1\n",
       "9        test    1.0   10    male 2022-01-11      3"
      ]
     },
     "execution_count": 6,
     "metadata": {},
     "output_type": "execute_result"
    }
   ],
   "source": [
    "df.sort_index(axis = 1,ascending = False) #열 이름 내림차순으로 정렬  #axis = 1 -> 열을 기준으로 한다는 뜻"
   ]
  },
  {
   "cell_type": "code",
   "execution_count": 7,
   "id": "b61d6d28-791b-4874-a262-deca5c2c65d6",
   "metadata": {},
   "outputs": [
    {
     "data": {
      "text/html": [
       "<div>\n",
       "<style scoped>\n",
       "    .dataframe tbody tr th:only-of-type {\n",
       "        vertical-align: middle;\n",
       "    }\n",
       "\n",
       "    .dataframe tbody tr th {\n",
       "        vertical-align: top;\n",
       "    }\n",
       "\n",
       "    .dataframe thead th {\n",
       "        text-align: right;\n",
       "    }\n",
       "</style>\n",
       "<table border=\"1\" class=\"dataframe\">\n",
       "  <thead>\n",
       "    <tr style=\"text-align: right;\">\n",
       "      <th></th>\n",
       "      <th>Num</th>\n",
       "      <th>Date</th>\n",
       "      <th>Point</th>\n",
       "      <th>Class</th>\n",
       "      <th>Type</th>\n",
       "      <th>Gender</th>\n",
       "    </tr>\n",
       "  </thead>\n",
       "  <tbody>\n",
       "    <tr>\n",
       "      <th>0</th>\n",
       "      <td>1</td>\n",
       "      <td>2022-01-02</td>\n",
       "      <td>1.0</td>\n",
       "      <td>1</td>\n",
       "      <td>test</td>\n",
       "      <td>None</td>\n",
       "    </tr>\n",
       "    <tr>\n",
       "      <th>1</th>\n",
       "      <td>2</td>\n",
       "      <td>2022-01-03</td>\n",
       "      <td>1.0</td>\n",
       "      <td>2</td>\n",
       "      <td>train</td>\n",
       "      <td>female</td>\n",
       "    </tr>\n",
       "    <tr>\n",
       "      <th>2</th>\n",
       "      <td>3</td>\n",
       "      <td>2022-01-04</td>\n",
       "      <td>1.0</td>\n",
       "      <td>5</td>\n",
       "      <td>NaN</td>\n",
       "      <td>male</td>\n",
       "    </tr>\n",
       "    <tr>\n",
       "      <th>3</th>\n",
       "      <td>4</td>\n",
       "      <td>2022-01-05</td>\n",
       "      <td>1.0</td>\n",
       "      <td>2</td>\n",
       "      <td>train</td>\n",
       "      <td>female</td>\n",
       "    </tr>\n",
       "    <tr>\n",
       "      <th>4</th>\n",
       "      <td>5</td>\n",
       "      <td>2022-01-06</td>\n",
       "      <td>1.0</td>\n",
       "      <td>4</td>\n",
       "      <td>validation</td>\n",
       "      <td>None</td>\n",
       "    </tr>\n",
       "  </tbody>\n",
       "</table>\n",
       "</div>"
      ],
      "text/plain": [
       "   Num       Date  Point  Class        Type  Gender\n",
       "0    1 2022-01-02    1.0      1        test    None\n",
       "1    2 2022-01-03    1.0      2       train  female\n",
       "2    3 2022-01-04    1.0      5         NaN    male\n",
       "3    4 2022-01-05    1.0      2       train  female\n",
       "4    5 2022-01-06    1.0      4  validation    None"
      ]
     },
     "execution_count": 7,
     "metadata": {},
     "output_type": "execute_result"
    }
   ],
   "source": [
    "df[0:5]"
   ]
  },
  {
   "cell_type": "code",
   "execution_count": 8,
   "id": "ffb72033-bb1a-469c-997b-b4ea41999577",
   "metadata": {},
   "outputs": [
    {
     "data": {
      "text/plain": [
       "Num                         8\n",
       "Date      2022-01-09 00:00:00\n",
       "Point                     1.0\n",
       "Class                       2\n",
       "Type                     test\n",
       "Gender                   male\n",
       "Name: 7, dtype: object"
      ]
     },
     "execution_count": 8,
     "metadata": {},
     "output_type": "execute_result"
    }
   ],
   "source": [
    "df.loc[7]"
   ]
  },
  {
   "cell_type": "code",
   "execution_count": 12,
   "id": "2119dafe-9e79-4cb6-9e6b-7ed3559f1f2b",
   "metadata": {},
   "outputs": [
    {
     "data": {
      "text/html": [
       "<div>\n",
       "<style scoped>\n",
       "    .dataframe tbody tr th:only-of-type {\n",
       "        vertical-align: middle;\n",
       "    }\n",
       "\n",
       "    .dataframe tbody tr th {\n",
       "        vertical-align: top;\n",
       "    }\n",
       "\n",
       "    .dataframe thead th {\n",
       "        text-align: right;\n",
       "    }\n",
       "</style>\n",
       "<table border=\"1\" class=\"dataframe\">\n",
       "  <thead>\n",
       "    <tr style=\"text-align: right;\">\n",
       "      <th></th>\n",
       "      <th>Num</th>\n",
       "      <th>Date</th>\n",
       "      <th>Point</th>\n",
       "      <th>Class</th>\n",
       "      <th>Type</th>\n",
       "      <th>Gender</th>\n",
       "    </tr>\n",
       "  </thead>\n",
       "  <tbody>\n",
       "    <tr>\n",
       "      <th>0</th>\n",
       "      <td>1</td>\n",
       "      <td>2022-01-02</td>\n",
       "      <td>1.0</td>\n",
       "      <td>1</td>\n",
       "      <td>test</td>\n",
       "      <td>None</td>\n",
       "    </tr>\n",
       "  </tbody>\n",
       "</table>\n",
       "</div>"
      ],
      "text/plain": [
       "   Num       Date  Point  Class  Type Gender\n",
       "0    1 2022-01-02    1.0      1  test   None"
      ]
     },
     "execution_count": 12,
     "metadata": {},
     "output_type": "execute_result"
    }
   ],
   "source": [
    "df[df.Num == 1]"
   ]
  },
  {
   "cell_type": "markdown",
   "id": "27579004-8c28-45fc-8a3d-ca2ba95d4cd5",
   "metadata": {},
   "source": [
    "---"
   ]
  },
  {
   "cell_type": "code",
   "execution_count": 1,
   "id": "1156ed45-fa86-40ac-a923-c889f916a63c",
   "metadata": {},
   "outputs": [
    {
     "data": {
      "image/png": "[encoded data removed]",
      "text/plain": [
       "<Figure size 432x288 with 1 Axes>"
      ]
     },
     "metadata": {
      "needs_background": "light"
     },
     "output_type": "display_data"
    }
   ],
   "source": [
    "import matplotlib.pyplot as plt\n",
    "import numpy as np\n",
    "\n",
    "xpoints = np.array([1, 2, 6, 10])\n",
    "ypoints = np.array([2, 1, 8, 10])\n",
    "y2points = np.array([10, 2, 13, 7])\n",
    "\n",
    "#plot 하나당 그래프에 줄 하나\n",
    "plt.plot(xpoints, ypoints, color = 'r', linewidth = 1)\n",
    "plt.plot(xpoints, y2points, 'b', linewidth = 1)\n",
    "#표시되는 x축, y축 범위 ( 리스트형태로도 가능 )\n",
    "plt.xticks(range(0, 12))\n",
    "plt.yticks(range(0, 14))\n",
    "\n",
    "#오른쪽 위에 표시되는 설명\n",
    "plt.legend(['number1', 'number2'])\n",
    "\n",
    "#x, y 축에 표시되는 설명\n",
    "plt.xlabel('number1')\n",
    "plt.ylabel('number2')\n",
    "plt.title('numbers')\n",
    "\n",
    "#그래프의 바탕에 그어진 선\n",
    "plt.grid(color = 'black', linestyle = ':', linewidth = 0.5 )\n",
    "plt.show()"
   ]
  },
  {
   "cell_type": "code",
   "execution_count": 6,
   "id": "9f48d133-26f3-41b0-a473-965df116eed7",
   "metadata": {},
   "outputs": [
    {
     "data": {
      "image/png": "[encoded data removed]",
      "text/plain": [
       "<Figure size 720x720 with 2 Axes>"
      ]
     },
     "metadata": {
      "needs_background": "light"
     },
     "output_type": "display_data"
    }
   ],
   "source": [
    "import matplotlib.pyplot as plt\n",
    "import numpy as np\n",
    "\n",
    "x = np.array([1, 2, 6, 10])\n",
    "y = np.array([2, 1, 8, 10])\n",
    "#그래프 표시되는 크기 설정\n",
    "plt.figure(figsize = (10, 10))\n",
    "#1행 2열짜리 그래프 중 첫번째 그래프\n",
    "plt.subplot(2, 1, 1)\n",
    "plt.plot(x, y, color = 'blue')\n",
    "plt.title('a')\n",
    "\n",
    "x = np.array([-1, 8, 6, 13])\n",
    "y = np.array([22, 11, 8, 11])\n",
    "\n",
    "#1행 2열짜리 그래프 중 두번째 그래프\n",
    "plt.subplot(2, 1, 2)\n",
    "plt.plot(x, y, color = 'red', marker = '.')\n",
    "plt.title('b')\n",
    "\n",
    "plt.show()"
   ]
  },
  {
   "cell_type": "code",
   "execution_count": 71,
   "id": "132ada05-8f92-4f33-afdc-28336d6072f1",
   "metadata": {},
   "outputs": [
    {
     "data": {
      "image/png": "[encoded data removed]",
      "text/plain": [
       "<Figure size 432x288 with 1 Axes>"
      ]
     },
     "metadata": {
      "needs_background": "light"
     },
     "output_type": "display_data"
    }
   ],
   "source": [
    "import matplotlib.pyplot as plt\n",
    "import numpy as np\n",
    "\n",
    "#x = np.array([5,7,8,7,2,17,2,9,4,11,12,9,6])\n",
    "#y = np.array([99,86,87,88,111,86,103,87,94,78,77,85,86])\n",
    "\n",
    "N = 10\n",
    "x = np.random.randint(10, size = N)\n",
    "y = np.random.randint(10, size = N)\n",
    "z = np.random.randint(10, size = N)\n",
    "w = np.random.randint(10, size = N)\n",
    "\n",
    "plt.scatter(x, y, c = 'blue')\n",
    "plt.scatter(z, w, c = 'red')\n",
    "plt.show()"
   ]
  },
  {
   "cell_type": "code",
   "execution_count": 13,
   "id": "ed48a72c-9d08-4ae3-9c80-44aee30bae31",
   "metadata": {},
   "outputs": [
    {
     "data": {
      "image/png": "[encoded data removed]",
      "text/plain": [
       "<Figure size 432x288 with 1 Axes>"
      ]
     },
     "metadata": {
      "needs_background": "light"
     },
     "output_type": "display_data"
    }
   ],
   "source": [
    "import matplotlib.pyplot as plt\n",
    "import numpy as np\n",
    "\n",
    "x = np.array([\"A\", \"B\", \"C\", \"D\"])\n",
    "y = np.array([19, 66, 44, 50])\n",
    "z = np.array(['q', 'w', 'e', 'r'])\n",
    "w = np.array([11, 23, 55, 60])\n",
    "\n",
    "\n",
    "plt.bar(x,y)\n",
    "plt.bar(z,w)\n",
    "\n",
    "#plt.xticks((0, 1, 2, 3), ('Dead','Alive', 'q', 'w'))\n",
    "\n",
    "plt.show()"
   ]
  },
  {
   "cell_type": "code",
   "execution_count": 99,
   "id": "f4fe5a13-b8ae-4b9f-84fc-6e711f1cb979",
   "metadata": {},
   "outputs": [
    {
     "data": {
      "image/png": "[encoded data removed]",
      "text/plain": [
       "<Figure size 432x288 with 1 Axes>"
      ]
     },
     "metadata": {
      "needs_background": "light"
     },
     "output_type": "display_data"
    },
    {
     "data": {
      "text/plain": [
       "array([102.45104911,  96.6399412 ,  93.10262525,  99.81143046,\n",
       "        97.14339436, 105.2354061 , 107.35313921,  85.19523123,\n",
       "       111.96005261,  96.31335017, 105.31874696, 103.94867113,\n",
       "        98.24282708, 109.17916432,  94.99042603,  91.63084753,\n",
       "       109.34171057,  96.60967736, 102.22596188, 100.40709106,\n",
       "        82.08324753,  87.77927106, 106.20260534,  96.38751323,\n",
       "       103.09773756, 103.61371838,  88.57424119,  90.33849434,\n",
       "        92.67506096, 107.99909163,  84.5910856 ,  96.89606258,\n",
       "        84.94759433, 112.95492919,  84.58464518,  89.3021868 ,\n",
       "       106.72260481,  95.68262314,  94.44394712,  99.07276843,\n",
       "        97.88933901, 112.77588531,  95.40226181,  98.86859323,\n",
       "        88.08785563,  98.29483952, 112.09900657,  97.15171841,\n",
       "        98.18678508,  92.23749669, 105.57455587,  94.62801669,\n",
       "        92.53178028, 100.24602848,  88.87457356, 111.12188499,\n",
       "        95.50212089, 104.81658331, 100.37728494, 119.19170128,\n",
       "       101.21543707, 101.54176109,  92.80555292,  97.66075468,\n",
       "       100.50464743, 101.45942941,  78.61571363,  94.36294637,\n",
       "       119.63598358,  92.07725538, 106.8194076 ,  96.10561047,\n",
       "        99.40631788,  98.66802853, 108.14568954,  95.40798137,\n",
       "       119.93871141,  88.88331152,  90.42202576,  99.14822881,\n",
       "        93.80640647,  97.81216428,  89.10168217, 120.22018409,\n",
       "       104.83413005, 102.80938977,  93.12375549,  90.99364321,\n",
       "        88.22397657, 107.7342682 , 114.75585209, 118.26870772,\n",
       "        92.10880437,  87.98508469, 104.44415332,  84.56682864,\n",
       "        96.94743806,  93.12809693,  86.74217109, 103.57717807,\n",
       "        95.14836451,  96.07221943, 102.32512867,  80.92668499,\n",
       "        94.12426922,  98.96667407, 106.17307527,  90.63355256,\n",
       "       100.71787108,  96.06583541,  96.00527095, 114.56659123,\n",
       "        92.39961612,  97.68332258, 101.47390257, 110.41418404,\n",
       "       101.79975869,  86.12191504,  96.66187063, 135.39723897,\n",
       "       121.06426956,  97.07289723, 116.03069964, 128.31149964,\n",
       "       107.40479514, 106.40973085,  91.32628756, 109.85418398,\n",
       "        88.638715  , 103.16999142,  89.2855411 , 106.94917272,\n",
       "        95.45589704,  83.74788663, 100.38909211, 100.51990918,\n",
       "       100.23990729, 108.44478529, 113.23092833,  87.67097433,\n",
       "       107.06784069, 106.12638701,  88.00521336,  92.12339578,\n",
       "        96.45409749,  83.05718246, 101.56708533, 101.15862763,\n",
       "       103.20514837,  97.41390366,  95.40182096,  82.18312738,\n",
       "       110.2250379 ,  99.5203501 ,  92.0963718 , 115.52845317,\n",
       "        93.42711651, 108.80398313,  90.1208222 ,  83.11295199,\n",
       "        85.45424063, 100.09680439, 112.63167085, 102.88857136,\n",
       "        94.2764875 , 113.77615307,  93.67045921,  85.51920001,\n",
       "        97.85541144, 111.47912611, 103.51788843, 113.63137409,\n",
       "       106.34918206, 102.86452492, 108.53662889,  92.71394838,\n",
       "       107.99094406, 113.46737389,  94.12181194, 113.44551155,\n",
       "        84.22268825, 110.3529037 ,  86.18030375,  77.08716027,\n",
       "       102.9861669 ,  88.89571369, 111.29128353, 102.55651803,\n",
       "       103.69753236,  92.50664025, 101.59515888, 100.40672712,\n",
       "       109.85443007,  92.67124768, 110.67882104,  97.61128802,\n",
       "        99.31540066, 104.66118497,  79.52075921, 110.22152843,\n",
       "        81.98777719,  89.96685162, 110.47609405,  92.80028918,\n",
       "        97.26926896, 105.08042373, 106.39200261, 114.58171323,\n",
       "       101.89870667, 114.84016968,  88.86596172, 104.19484085,\n",
       "        86.44971291, 102.94699742,  94.73164652, 109.0265416 ,\n",
       "        86.31526967,  83.39492591, 108.73100491, 102.72458989,\n",
       "       101.61772798,  96.43066819,  99.94974024, 105.80445567,\n",
       "       102.01495927, 114.1268887 , 103.30038301, 108.04343224,\n",
       "       127.3462793 , 104.04326314,  84.27231459,  87.17482258,\n",
       "       110.82619582,  97.88592706, 114.92658835, 126.21926213,\n",
       "        92.3724361 ,  98.91818513, 104.61497524, 108.14110112,\n",
       "        96.59541213, 108.70471715, 102.00413205, 106.76761449,\n",
       "        91.12437956, 115.38978677, 106.62812379,  97.10862712,\n",
       "       101.43871242, 100.30626267])"
      ]
     },
     "execution_count": 99,
     "metadata": {},
     "output_type": "execute_result"
    }
   ],
   "source": [
    "import matplotlib.pyplot as plt\n",
    "import numpy as np\n",
    "\n",
    "x = np.random.normal(100, 10, 250)\n",
    "\n",
    "plt.hist(x)\n",
    "plt.show() \n",
    "x"
   ]
  },
  {
   "cell_type": "code",
   "execution_count": 117,
   "id": "5f7c64d5-39dc-4f25-93bd-a950d6e13ab2",
   "metadata": {},
   "outputs": [
    {
     "data": {
      "image/png": "[encoded data removed]",
      "text/plain": [
       "<Figure size 720x720 with 1 Axes>"
      ]
     },
     "metadata": {},
     "output_type": "display_data"
    }
   ],
   "source": [
    "import matplotlib.pyplot as plt\n",
    "import numpy as np\n",
    "\n",
    "y = np.array([1, 2, 3, 4])\n",
    "labels = ['a', 'b', 'c', 'd',]\n",
    "\n",
    "plt.figure(figsize = (10, 10), facecolor = 'white')\n",
    "plt.pie(y, labels = labels, autopct = '%.f%%', textprops = {'color' : 'red'})\n",
    "plt.legend()\n",
    "plt.show() "
   ]
  },
  {
   "cell_type": "code",
   "execution_count": 113,
   "id": "d40ad54f-2e35-4264-9b82-398c7abd4264",
   "metadata": {},
   "outputs": [
    {
     "data": {
      "image/png": "[encoded data removed]",
      "text/plain": [
       "<Figure size 432x288 with 1 Axes>"
      ]
     },
     "metadata": {
      "needs_background": "light"
     },
     "output_type": "display_data"
    }
   ],
   "source": [
    "import matplotlib.pyplot as plt \n",
    "%matplotlib inline \n",
    "\n",
    "import pandas as pd\n",
    "\n",
    "students = pd.read_csv(\"../data/students.csv\")\n",
    "students\n",
    "\n",
    "plt.boxplot(students['english'])\n",
    "plt.show()"
   ]
  },
  {
   "cell_type": "code",
   "execution_count": 128,
   "id": "470f2566-f94f-4da9-bafd-52da0500b4f1",
   "metadata": {},
   "outputs": [
    {
     "data": {
      "text/html": [
       "<div>\n",
       "<style scoped>\n",
       "    .dataframe tbody tr th:only-of-type {\n",
       "        vertical-align: middle;\n",
       "    }\n",
       "\n",
       "    .dataframe tbody tr th {\n",
       "        vertical-align: top;\n",
       "    }\n",
       "\n",
       "    .dataframe thead th {\n",
       "        text-align: right;\n",
       "    }\n",
       "</style>\n",
       "<table border=\"1\" class=\"dataframe\">\n",
       "  <thead>\n",
       "    <tr style=\"text-align: right;\">\n",
       "      <th></th>\n",
       "      <th>year</th>\n",
       "      <th>population</th>\n",
       "    </tr>\n",
       "  </thead>\n",
       "  <tbody>\n",
       "    <tr>\n",
       "      <th>0</th>\n",
       "      <td>1949</td>\n",
       "      <td>1437670</td>\n",
       "    </tr>\n",
       "    <tr>\n",
       "      <th>1</th>\n",
       "      <td>1955</td>\n",
       "      <td>1568746</td>\n",
       "    </tr>\n",
       "    <tr>\n",
       "      <th>2</th>\n",
       "      <td>1960</td>\n",
       "      <td>2445402</td>\n",
       "    </tr>\n",
       "    <tr>\n",
       "      <th>3</th>\n",
       "      <td>1966</td>\n",
       "      <td>3793280</td>\n",
       "    </tr>\n",
       "    <tr>\n",
       "      <th>4</th>\n",
       "      <td>1970</td>\n",
       "      <td>5525262</td>\n",
       "    </tr>\n",
       "    <tr>\n",
       "      <th>5</th>\n",
       "      <td>1975</td>\n",
       "      <td>6879464</td>\n",
       "    </tr>\n",
       "    <tr>\n",
       "      <th>6</th>\n",
       "      <td>1980</td>\n",
       "      <td>8350616</td>\n",
       "    </tr>\n",
       "    <tr>\n",
       "      <th>7</th>\n",
       "      <td>1985</td>\n",
       "      <td>9625755</td>\n",
       "    </tr>\n",
       "    <tr>\n",
       "      <th>8</th>\n",
       "      <td>1990</td>\n",
       "      <td>10603250</td>\n",
       "    </tr>\n",
       "    <tr>\n",
       "      <th>9</th>\n",
       "      <td>1995</td>\n",
       "      <td>10217177</td>\n",
       "    </tr>\n",
       "    <tr>\n",
       "      <th>10</th>\n",
       "      <td>2000</td>\n",
       "      <td>9853972</td>\n",
       "    </tr>\n",
       "    <tr>\n",
       "      <th>11</th>\n",
       "      <td>2005</td>\n",
       "      <td>9762546</td>\n",
       "    </tr>\n",
       "    <tr>\n",
       "      <th>12</th>\n",
       "      <td>2010</td>\n",
       "      <td>9631482</td>\n",
       "    </tr>\n",
       "  </tbody>\n",
       "</table>\n",
       "</div>"
      ],
      "text/plain": [
       "    year  population\n",
       "0   1949     1437670\n",
       "1   1955     1568746\n",
       "2   1960     2445402\n",
       "3   1966     3793280\n",
       "4   1970     5525262\n",
       "5   1975     6879464\n",
       "6   1980     8350616\n",
       "7   1985     9625755\n",
       "8   1990    10603250\n",
       "9   1995    10217177\n",
       "10  2000     9853972\n",
       "11  2005     9762546\n",
       "12  2010     9631482"
      ]
     },
     "execution_count": 128,
     "metadata": {},
     "output_type": "execute_result"
    }
   ],
   "source": [
    "import matplotlib.pyplot as plt\n",
    "import pandas as pd\n",
    "\n",
    "df = pd.read_csv('../data/pop_Seoul.csv')\n",
    "df"
   ]
  },
  {
   "cell_type": "code",
   "execution_count": 122,
   "id": "343a6349-3a3e-4e22-8d86-487a17d42369",
   "metadata": {},
   "outputs": [
    {
     "name": "stdout",
     "output_type": "stream",
     "text": [
      "<class 'pandas.core.frame.DataFrame'>\n",
      "RangeIndex: 13 entries, 0 to 12\n",
      "Data columns (total 2 columns):\n",
      " #   Column      Non-Null Count  Dtype\n",
      "---  ------      --------------  -----\n",
      " 0   year        13 non-null     int64\n",
      " 1   population  13 non-null     int64\n",
      "dtypes: int64(2)\n",
      "memory usage: 336.0 bytes\n"
     ]
    },
    {
     "data": {
      "text/plain": [
       "year          0\n",
       "population    0\n",
       "dtype: int64"
      ]
     },
     "execution_count": 122,
     "metadata": {},
     "output_type": "execute_result"
    }
   ],
   "source": [
    "df.info()\n",
    "df.isnull().sum()"
   ]
  },
  {
   "cell_type": "code",
   "execution_count": 136,
   "id": "b1106ff9-c8dd-4bff-a633-e66520afb8be",
   "metadata": {},
   "outputs": [
    {
     "data": {
      "text/plain": [
       "0     1949\n",
       "1     1955\n",
       "2     1960\n",
       "3     1966\n",
       "4     1970\n",
       "5     1975\n",
       "6     1980\n",
       "7     1985\n",
       "8     1990\n",
       "9     1995\n",
       "10    2000\n",
       "11    2005\n",
       "12    2010\n",
       "Name: year, dtype: object"
      ]
     },
     "execution_count": 136,
     "metadata": {},
     "output_type": "execute_result"
    }
   ],
   "source": [
    "# year 열의 타입을 str 으로 바꾼다\n",
    "# == df['year'].astype(str)\n",
    "df2 = df.year.astype(str)\n",
    "df.year = df2\n",
    "df.year"
   ]
  },
  {
   "cell_type": "code",
   "execution_count": 137,
   "id": "ad43be86-6e39-4c46-af80-b0328de023e9",
   "metadata": {},
   "outputs": [
    {
     "data": {
      "text/plain": [
       "[<matplotlib.lines.Line2D at 0x207fc7c8b50>]"
      ]
     },
     "execution_count": 137,
     "metadata": {},
     "output_type": "execute_result"
    },
    {
     "data": {
      "image/png": "[encoded data removed]",
      "text/plain": [
       "<Figure size 720x720 with 1 Axes>"
      ]
     },
     "metadata": {
      "needs_background": "light"
     },
     "output_type": "display_data"
    }
   ],
   "source": [
    "x = np.array(df.year)\n",
    "y = np.array(df.population)\n",
    "\n",
    "plt.figure(figsize = (10, 10))\n",
    "plt.plot(x, y, 'ro:')"
   ]
  },
  {
   "cell_type": "code",
   "execution_count": 139,
   "id": "608b32bc-4f4c-4449-b760-6e0c5b17c88a",
   "metadata": {},
   "outputs": [
    {
     "data": {
      "text/plain": [
       "<BarContainer object of 13 artists>"
      ]
     },
     "execution_count": 139,
     "metadata": {},
     "output_type": "execute_result"
    },
    {
     "data": {
      "image/png": "[encoded data removed]",
      "text/plain": [
       "<Figure size 432x288 with 1 Axes>"
      ]
     },
     "metadata": {
      "needs_background": "light"
     },
     "output_type": "display_data"
    }
   ],
   "source": [
    "plt.bar(x, y, color = 'blue')"
   ]
  },
  {
   "cell_type": "code",
   "execution_count": 146,
   "id": "bd332e1e-68d3-43c5-8e64-87e5f7c01816",
   "metadata": {},
   "outputs": [
    {
     "data": {
      "text/html": [
       "<div>\n",
       "<style scoped>\n",
       "    .dataframe tbody tr th:only-of-type {\n",
       "        vertical-align: middle;\n",
       "    }\n",
       "\n",
       "    .dataframe tbody tr th {\n",
       "        vertical-align: top;\n",
       "    }\n",
       "\n",
       "    .dataframe thead th {\n",
       "        text-align: right;\n",
       "    }\n",
       "</style>\n",
       "<table border=\"1\" class=\"dataframe\">\n",
       "  <thead>\n",
       "    <tr style=\"text-align: right;\">\n",
       "      <th></th>\n",
       "      <th>year</th>\n",
       "      <th>seoul</th>\n",
       "      <th>capital</th>\n",
       "    </tr>\n",
       "  </thead>\n",
       "  <tbody>\n",
       "    <tr>\n",
       "      <th>0</th>\n",
       "      <td>1949-1955</td>\n",
       "      <td>9.12</td>\n",
       "      <td>-5.83</td>\n",
       "    </tr>\n",
       "    <tr>\n",
       "      <th>1</th>\n",
       "      <td>1955-1960</td>\n",
       "      <td>55.88</td>\n",
       "      <td>32.22</td>\n",
       "    </tr>\n",
       "    <tr>\n",
       "      <th>2</th>\n",
       "      <td>1960-1966</td>\n",
       "      <td>55.12</td>\n",
       "      <td>32.76</td>\n",
       "    </tr>\n",
       "    <tr>\n",
       "      <th>3</th>\n",
       "      <td>1966-1970</td>\n",
       "      <td>45.66</td>\n",
       "      <td>28.76</td>\n",
       "    </tr>\n",
       "    <tr>\n",
       "      <th>4</th>\n",
       "      <td>1970-1975</td>\n",
       "      <td>24.51</td>\n",
       "      <td>22.93</td>\n",
       "    </tr>\n",
       "    <tr>\n",
       "      <th>5</th>\n",
       "      <td>1975-1980</td>\n",
       "      <td>21.38</td>\n",
       "      <td>21.69</td>\n",
       "    </tr>\n",
       "    <tr>\n",
       "      <th>6</th>\n",
       "      <td>1980-1985</td>\n",
       "      <td>15.27</td>\n",
       "      <td>18.99</td>\n",
       "    </tr>\n",
       "    <tr>\n",
       "      <th>7</th>\n",
       "      <td>1985-1990</td>\n",
       "      <td>10.15</td>\n",
       "      <td>17.53</td>\n",
       "    </tr>\n",
       "    <tr>\n",
       "      <th>8</th>\n",
       "      <td>1990-1995</td>\n",
       "      <td>-3.64</td>\n",
       "      <td>8.54</td>\n",
       "    </tr>\n",
       "    <tr>\n",
       "      <th>9</th>\n",
       "      <td>1995-2000</td>\n",
       "      <td>-3.55</td>\n",
       "      <td>5.45</td>\n",
       "    </tr>\n",
       "    <tr>\n",
       "      <th>10</th>\n",
       "      <td>2000-2005</td>\n",
       "      <td>-0.93</td>\n",
       "      <td>6.41</td>\n",
       "    </tr>\n",
       "    <tr>\n",
       "      <th>11</th>\n",
       "      <td>2005-2010</td>\n",
       "      <td>-1.34</td>\n",
       "      <td>3.71</td>\n",
       "    </tr>\n",
       "  </tbody>\n",
       "</table>\n",
       "</div>"
      ],
      "text/plain": [
       "         year  seoul  capital\n",
       "0   1949-1955   9.12    -5.83\n",
       "1   1955-1960  55.88    32.22\n",
       "2   1960-1966  55.12    32.76\n",
       "3   1966-1970  45.66    28.76\n",
       "4   1970-1975  24.51    22.93\n",
       "5   1975-1980  21.38    21.69\n",
       "6   1980-1985  15.27    18.99\n",
       "7   1985-1990  10.15    17.53\n",
       "8   1990-1995  -3.64     8.54\n",
       "9   1995-2000  -3.55     5.45\n",
       "10  2000-2005  -0.93     6.41\n",
       "11  2005-2010  -1.34     3.71"
      ]
     },
     "execution_count": 146,
     "metadata": {},
     "output_type": "execute_result"
    }
   ],
   "source": [
    "import matplotlib.pyplot as plt\n",
    "import pandas as pd\n",
    "\n",
    "df = pd.read_csv('../data/pop_Seoul2.csv', names = ['year', 'seoul', 'capital'] , skiprows = [0])\n",
    "df"
   ]
  },
  {
   "cell_type": "code",
   "execution_count": 169,
   "id": "b562c078-c647-4250-8895-a46b3c75e074",
   "metadata": {},
   "outputs": [
    {
     "data": {
      "image/png": "[encoded data removed]",
      "text/plain": [
       "<Figure size 936x720 with 1 Axes>"
      ]
     },
     "metadata": {
      "needs_background": "light"
     },
     "output_type": "display_data"
    }
   ],
   "source": [
    "import matplotlib.pyplot as plt\n",
    "import pandas as pd\n",
    "\n",
    "\n",
    "# x = np.array(df.year)           #array로 만들 필요 없이 바로 df.' '로 적용 가능\n",
    "# y = np.array(df.seoul)\n",
    "# z = np.array(df.capital)\n",
    "\n",
    "plt.figure(figsize = (13, 10))\n",
    "plt.plot(df.year, df.seoul, color = 'blue')\n",
    "plt.plot(df.year, df.capital, color = 'red')\n",
    "\n",
    "plt.title('Population')\n",
    "plt.xlabel('Year')\n",
    "plt.ylabel('Percentage')\n",
    "\n",
    "plt.xticks(range(12), df.year, rotation = 45)\n",
    "plt.show()"
   ]
  }
 ],
 "metadata": {
  "kernelspec": {
   "display_name": "Python 3 (ipykernel)",
   "language": "python",
   "name": "python3"
  },
  "language_info": {
   "codemirror_mode": {
    "name": "ipython",
    "version": 3
   },
   "file_extension": ".py",
   "mimetype": "text/x-python",
   "name": "python",
   "nbconvert_exporter": "python",
   "pygments_lexer": "ipython3",
   "version": "3.9.7"
  }
 },
 "nbformat": 4,
 "nbformat_minor": 5
}
