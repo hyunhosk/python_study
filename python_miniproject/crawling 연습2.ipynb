{
 "cells": [
  {
   "cell_type": "markdown",
   "id": "5a0ef001-eb1f-4da9-90ee-e73880c516a6",
   "metadata": {},
   "source": [
    "1. 쿠팡 사이트 이동\n",
    "2. 텀블러 검색\n",
    "3. 목록 정리"
   ]
  },
  {
   "cell_type": "code",
   "execution_count": 6,
   "id": "5ceabf7d-5435-4ffe-8d3b-e283128575aa",
   "metadata": {},
   "outputs": [
    {
     "name": "stderr",
     "output_type": "stream",
     "text": [
      "C:\\Users\\BIT\\AppData\\Local\\Temp/ipykernel_9152/1171776806.py:3: DeprecationWarning: executable_path has been deprecated, please pass in a Service object\n",
      "  driver = webdriver.Chrome('../driver/chromedriver')\n"
     ]
    }
   ],
   "source": [
    "from selenium import webdriver\n",
    "\n",
    "driver = webdriver.Chrome('../driver/chromedriver')\n",
    "\n",
    "driver.get('https://www.coupang.com')"
   ]
  }
 ],
 "metadata": {
  "kernelspec": {
   "display_name": "Python 3 (ipykernel)",
   "language": "python",
   "name": "python3"
  },
  "language_info": {
   "codemirror_mode": {
    "name": "ipython",
    "version": 3
   },
   "file_extension": ".py",
   "mimetype": "text/x-python",
   "name": "python",
   "nbconvert_exporter": "python",
   "pygments_lexer": "ipython3",
   "version": "3.9.7"
  }
 },
 "nbformat": 4,
 "nbformat_minor": 5
}
