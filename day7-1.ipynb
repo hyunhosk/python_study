{
 "cells": [
  {
   "cell_type": "markdown",
   "id": "fd8f88bb-1009-4880-b74c-1d122f213844",
   "metadata": {},
   "source": [
    "# web crawling"
   ]
  },
  {
   "cell_type": "code",
   "execution_count": 25,
   "id": "d12a5cc8-cd53-4188-b57f-de15a205b7b9",
   "metadata": {},
   "outputs": [
    {
     "name": "stdout",
     "output_type": "stream",
     "text": [
      "<class 'requests.models.Response'> <Response [200]>\n",
      "200\n",
      "utf-8\n",
      "{\n",
      "  \"args\": {}, \n",
      "  \"headers\": {\n",
      "    \"Accept\": \"*/*\", \n",
      "    \"Accept-Encoding\": \"gzip, deflate, br\", \n",
      "    \"Host\": \"httpbin.org\", \n",
      "    \"User-Agent\": \"python-requests/2.26.0\", \n",
      "    \"X-Amzn-Trace-Id\": \"Root=1-61d4f4e2-2bf060d02fd293a556228404\"\n",
      "  }, \n",
      "  \"origin\": \"183.98.215.25\", \n",
      "  \"url\": \"http://httpbin.org/get\"\n",
      "}\n",
      "\n",
      "b'{\\n  \"args\": {}, \\n  \"headers\": {\\n    \"Accept\": \"*/*\", \\n    \"Accept-Encoding\": \"gzip, deflate, br\", \\n    \"Host\": \"httpbin.org\", \\n    \"User-Agent\": \"python-requests/2.26.0\", \\n    \"X-Amzn-Trace-Id\": \"Root=1-61d4f4e2-2bf060d02fd293a556228404\"\\n  }, \\n  \"origin\": \"183.98.215.25\", \\n  \"url\": \"http://httpbin.org/get\"\\n}\\n'\n"
     ]
    }
   ],
   "source": [
    "import requests\n",
    "\n",
    "response = requests.get(\"http://httpbin.org/get\")\n",
    "#response = requests.put(\"http://httpbin.org/get\")\n",
    "#response = requests.post(\"http://httpbin.org/get\")\n",
    "\n",
    "print(type(response), response)\n",
    "print(response.status_code)\n",
    "print(response.encoding)\n",
    "print(response.text)\n",
    "print(response.content)"
   ]
  },
  {
   "cell_type": "code",
   "execution_count": 26,
   "id": "d8beac6b-1408-4459-a7ed-9dd7cc1d697d",
   "metadata": {},
   "outputs": [
    {
     "name": "stdout",
     "output_type": "stream",
     "text": [
      "<class 'requests.models.Response'> <Response [405]>\n",
      "405\n",
      "ISO-8859-1\n",
      "<!DOCTYPE HTML PUBLIC \"-//W3C//DTD HTML 3.2 Final//EN\">\n",
      "<title>405 Method Not Allowed</title>\n",
      "<h1>Method Not Allowed</h1>\n",
      "<p>The method is not allowed for the requested URL.</p>\n",
      "\n",
      "b'<!DOCTYPE HTML PUBLIC \"-//W3C//DTD HTML 3.2 Final//EN\">\\n<title>405 Method Not Allowed</title>\\n<h1>Method Not Allowed</h1>\\n<p>The method is not allowed for the requested URL.</p>\\n'\n"
     ]
    }
   ],
   "source": [
    "import requests\n",
    "\n",
    "#response = requests.get(\"http://httpbin.org/get\")\n",
    "response = requests.put(\"http://httpbin.org/get\")\n",
    "#response = requests.post(\"http://httpbin.org/get\")\n",
    "\n",
    "print(type(response), response)\n",
    "print(response.status_code)\n",
    "print(response.encoding)\n",
    "print(response.text)\n",
    "print(response.content)"
   ]
  },
  {
   "cell_type": "code",
   "execution_count": 27,
   "id": "b35be978-7c3e-4975-9e69-0f3ce5c4317b",
   "metadata": {},
   "outputs": [
    {
     "name": "stdout",
     "output_type": "stream",
     "text": [
      "<class 'requests.models.Response'> <Response [405]>\n",
      "405\n",
      "ISO-8859-1\n",
      "<!DOCTYPE HTML PUBLIC \"-//W3C//DTD HTML 3.2 Final//EN\">\n",
      "<title>405 Method Not Allowed</title>\n",
      "<h1>Method Not Allowed</h1>\n",
      "<p>The method is not allowed for the requested URL.</p>\n",
      "\n",
      "b'<!DOCTYPE HTML PUBLIC \"-//W3C//DTD HTML 3.2 Final//EN\">\\n<title>405 Method Not Allowed</title>\\n<h1>Method Not Allowed</h1>\\n<p>The method is not allowed for the requested URL.</p>\\n'\n"
     ]
    }
   ],
   "source": [
    "import requests\n",
    "\n",
    "#response = requests.get(\"http://httpbin.org/get\")\n",
    "#response = requests.put(\"http://httpbin.org/get\")\n",
    "response = requests.post(\"http://httpbin.org/get\")\n",
    "\n",
    "print(type(response), response)\n",
    "print(response.status_code)\n",
    "print(response.encoding)\n",
    "print(response.text)\n",
    "print(response.content)"
   ]
  },
  {
   "cell_type": "code",
   "execution_count": 29,
   "id": "0ecab512-ba68-44e6-b428-a38ee3f9370f",
   "metadata": {},
   "outputs": [
    {
     "name": "stdout",
     "output_type": "stream",
     "text": [
      "<class 'requests.models.Response'> <Response [200]>\n",
      "200\n",
      "utf-8\n",
      "{\n",
      "  \"origin\": \"183.98.215.25\"\n",
      "}\n",
      "\n",
      "b'{\\n  \"origin\": \"183.98.215.25\"\\n}\\n'\n"
     ]
    }
   ],
   "source": [
    "response = requests.get(\"http://httpbin.org/ip\")\n",
    "\n",
    "print(type(response), response)\n",
    "print(response.status_code)\n",
    "print(response.encoding)\n",
    "print(response.text)\n",
    "print(response.content)"
   ]
  },
  {
   "cell_type": "code",
   "execution_count": 149,
   "id": "63a7ce00-e626-4d47-986b-a18e03b51406",
   "metadata": {},
   "outputs": [
    {
     "name": "stdout",
     "output_type": "stream",
     "text": [
      "<title>Sample Addresses!</title>\n",
      "title\n",
      "Sample Addresses!\n",
      "Sample Addresses!\n",
      "<li>Cecilia Chapman<br/>711-2880 Nulla St.<br/>Mankato Mississippi 96522<br/>(257) 563-7401</li>\n"
     ]
    }
   ],
   "source": [
    "import requests\n",
    "from bs4 import BeautifulSoup\n",
    "\n",
    "response = requests.get(\"http://www.summet.com/dmsi/html/codesamples/addresses.html\")\n",
    "\n",
    "#print(response.text)\n",
    "html_doc = response.text\n",
    "\n",
    "soup = BeautifulSoup(html_doc, \"html.parser\")\n",
    "print(soup.title)\n",
    "print(soup.title.name)\n",
    "print(soup.title.string)\n",
    "print(soup.title.text)\n",
    "\n",
    "print(soup.ul.li)\n"
   ]
  },
  {
   "cell_type": "code",
   "execution_count": 150,
   "id": "0d034300-c0a7-4107-8bb8-b6a54c597699",
   "metadata": {},
   "outputs": [
    {
     "name": "stdout",
     "output_type": "stream",
     "text": [
      "[<h1> A page full of sample addresses for your parsing enjoyment!</h1>]\n"
     ]
    }
   ],
   "source": [
    "print(soup.find_all(\"h1\"))"
   ]
  },
  {
   "cell_type": "code",
   "execution_count": 151,
   "id": "a473fe69-53f7-4997-af35-b578d0448484",
   "metadata": {},
   "outputs": [
    {
     "name": "stdout",
     "output_type": "stream",
     "text": [
      "Cecilia Chapman711-2880 Nulla St.Mankato Mississippi 96522(257) 563-7401\n",
      "Iris WatsonP.O. Box 283 8562 Fusce Rd.Frederick Nebraska 20620(372) 587-2335\n",
      "Celeste Slater606-3727 Ullamcorper. StreetRoseville NH 11523(786) 713-8616\n",
      "Theodore LoweAp #867-859 Sit Rd.Azusa New York 39531(793) 151-6230\n",
      "Calista Wise7292 Dictum Av.San Antonio MI 47096(492) 709-6392\n",
      "Kyla OlsenAp #651-8679 Sodales Av.Tamuning PA 10855(654) 393-5734\n",
      "Forrest Ray191-103 Integer Rd.Corona New Mexico 08219(404) 960-3807\n",
      "Hiroko PotterP.O. Box 887 2508 Dolor. Av.Muskegon KY 12482(314) 244-6306\n",
      "Nyssa Vazquez511-5762 At Rd.Chelsea MI 67708(947) 278-5929\n",
      "Lawrence Moreno935-9940 Tortor. StreetSanta Rosa MN 98804(684) 579-1879\n",
      "Ina MoranP.O. Box 929 4189 Nunc RoadLebanon KY 69409(389) 737-2852\n",
      "Aaron Hawkins5587 Nunc. AvenueErie Rhode Island 24975(660) 663-4518\n",
      "Hedy GreeneAp #696-3279 Viverra. AvenueLatrobe DE 38100(608) 265-2215\n",
      "Melvin PorterP.O. Box 132 1599 Curabitur Rd.Bandera South Dakota 45149(959) 119-8364\n",
      "Keefe Sellers347-7666 Iaculis St.Woodruff SC 49854(468) 353-2641\n",
      "Joan Romero666-4366 Lacinia AvenueIdaho Falls Ohio 19253(248) 675-4007\n",
      "Davis PatrickP.O. Box 147 2546 Sociosqu Rd.Bethlehem Utah 02913(939) 353-1107\n",
      "Leilani Boyer557-6308 Lacinia RoadSan Bernardino ND 09289(570) 873-7090\n",
      "Colby BernardAp #285-7193 Ullamcorper AvenueAmesbury HI 93373(302) 259-2375\n",
      "Bryar Pitts5543 Aliquet St.Fort Dodge GA 20783(717) 450-4729\n",
      "Rahim Henderson5037 Diam Rd.Daly City Ohio 90255(453) 391-4650\n",
      "Noelle Adams6351 Fringilla AvenueGardena Colorado 37547(559) 104-5475\n",
      "Lillith Daniel935-1670 Neque. St.Centennial Delaware 48432(387) 142-9434\n",
      "Adria Russell414-7533 Non Rd.Miami Beach North Dakota 58563(516) 745-4496\n",
      "Hilda Haynes778-9383 Suspendisse Av.Weirton IN 93479(326) 677-3419\n",
      "Sheila McintoshP.O. Box 360 4407 Et Rd.Santa Monica FL 30309(746) 679-2470\n",
      "Rebecca ChambersP.O. Box 813 5982 Sit AveLiberal Vermont 51324(455) 430-0989\n",
      "Christian EmersonP.O. Box 886 4118 Arcu St.Rolling Hills Georgia 92358(490) 936-4694\n",
      "Nevada WareP.O. Box 597 4156 Tincidunt AveGreen Bay Indiana 19759(985) 834-8285\n",
      "Margaret JosephP.O. Box 508 3919 Gravida St.Tamuning Washington 55797(662) 661-1446\n",
      "Edward Nieves928-3313 Vel Av.Idaho Falls Rhode Island 37232(802) 668-8240\n",
      "Imani TalleyP.O. Box 262 4978 Sit St.Yigo Massachusetts 50654(477) 768-9247\n",
      "Bertha RiggsP.O. Box 206 6639 In St.Easthampton TN 31626(791) 239-9057\n",
      "Wallace Ross313 Pellentesque AveVilla Park Hawaii 43526(832) 109-0213\n",
      "Chester Bennett3476 Aliquet. AveMinot AZ 95302(837) 196-3274\n",
      "Castor RichardsonP.O. Box 902 3472 Ullamcorper StreetLynchburg DC 29738(268) 442-2428\n",
      "Sonya JordanAp #443-336 Ullamcorper. StreetVisalia VA 54886(850) 676-5117\n",
      "Harrison Mcguire574-8633 Arcu StreetSan Fernando ID 77373(861) 546-5032\n",
      "Malcolm Long9291 Proin RoadLake Charles Maine 11292(176) 805-4108\n",
      "Raymond LevyAp #643-7006 Risus St.Beaumont New Mexico 73585(715) 912-6931\n",
      "Hedley Ingram737-2580 At StreetIndependence Texas 87535(993) 554-0563\n",
      "David Mathews1011 Malesuada RoadMoscow Kentucky 77382(357) 616-5411\n",
      "Xyla Cash969-1762 Tincidunt Rd.Boise CT 35282(121) 347-0086\n",
      "Madeline Gregory977-4841 Ut AveWalla Walla Michigan 82776(304) 506-6314\n",
      "Griffith Daniels6818 Eget St.Tacoma AL 92508(425) 288-2332\n",
      "Anne Beasley987-4223 Urna St.Savannah Illinois 85794(145) 987-4962\n",
      "Chaney BennettP.O. Box 721 902 Dolor Rd.Fremont AK 19408(187) 582-9707\n",
      "Daniel BernardP.O. Box 567 1561 Duis Rd.Pomona TN 08609(750) 558-3965\n",
      "Willow HuntAp #784-1887 Lobortis AveCudahy Ohio 31522(492) 467-3131\n",
      "Judith Floyd361-7936 Feugiat St.Williston Nevada 58521(774) 914-2510\n",
      "Seth Farley6216 Aenean AvenueSeattle Utah 81202(888) 106-8550\n",
      "Zephania Sanders3714 Nascetur St.Hawthorne Louisiana 10626(539) 567-3573\n",
      "Calista MerrittAp #938-5470 Posuere AveChickasha LA 58520(693) 337-2849\n",
      "Craig WilliamsP.O. Box 372 5634 Montes Rd.Springdale MO 57692(545) 604-9386\n",
      "Lee Preston981 Eget Rd.Clemson GA 04645(221) 156-5026\n",
      "Katelyn Cooper6059 Sollicitudin RoadBurlingame Colorado 26278(414) 876-0865\n",
      "Lacy Eaton1379 Nulla. Av.Asbury Park Montana 69679(932) 726-8645\n",
      "Driscoll LeachP.O. Box 120 2410 Odio AvenuePass Christian Delaware 03869(726) 710-9826\n",
      "Merritt WatsonP.O. Box 686 7014 Amet StreetCorona Oklahoma 55246(622) 594-1662\n",
      "Nehru HolmesP.O. Box 547 4764 Sed RoadGrand Rapids CT 87323(948) 600-8503\n",
      "Quamar Rivera427-5827 Ac St.Schaumburg Arkansas 84872(605) 900-7508\n",
      "Hiram Mullins754-6427 Nunc AveKennewick AL 41329(716) 977-5775\n",
      "Kim FletcherAp #345-3847 Metus RoadIndependence CO 30135(368) 239-8275\n",
      "Rigel KochP.O. Box 558 9561 Lacus. RoadLaughlin Hawaii 99602(725) 342-0650\n",
      "Jeanette SharpeAp #364-2006 Ipsum AvenueWilmington Ohio 91750(711) 993-5187\n",
      "Dahlia Lee1293 Tincidunt StreetAtwater Pennsylvania 76865(882) 399-5084\n",
      "Howard HaydenP.O. Box 847 8019 Facilisis StreetJoliet SC 73490(287) 755-9948\n",
      "Hyatt Kramer1011 Massa Av.Kent ID 63725(659) 551-3389\n",
      "Sonya RayAp #315-8441 Eleifend StreetFairbanks RI 96892(275) 730-6868\n",
      "Cara Whitehead4005 Praesent St.Torrance Wyoming 22767(725) 757-4047\n",
      "Blythe Carroll7709 Justo. AvePrinceton TX 77987(314) 882-1496\n",
      "Dale GriffinP.O. Box 854 8580 In AveRevere South Dakota 43841(639) 360-7590\n",
      "McKenzie HernandezAp #367-674 Mi StreetGreensboro VT 40684(168) 222-1592\n",
      "Haviva HolcombP.O. Box 642 3450 In RoadIsle of Palms New York 03828(896) 303-1164\n",
      "Ezra DuffyAp #782-7348 Dis Rd.Austin KY 50710(203) 982-6130\n",
      "Eleanor Jennings9631 Semper AveAstoria NJ 66309(906) 217-1470\n",
      "Remedios Hester487-5787 Mollis St.City of Industry Louisiana 67973(614) 514-1269\n",
      "Jasper Carney1195 Lobortis Rd.New Orleans New Hampshire 71983(763) 409-5446\n",
      "Vielka NielsenAp #517-7326 Elementum Rd.Fort Smith North Dakota 79637(836) 292-5324\n",
      "Wilma PaceAp #676-6532 Odio Rd.Darlington CO 06963(926) 709-3295\n",
      "Palmer Gay557-2026 Purus St.Watertown TN 07367(963) 356-9268\n",
      "Lyle SuttonAp #250-9843 Elementum St.South Gate Missouri 68999(736) 522-8584\n",
      "Ina BurtAp #130-1685 Ut StreetTyler KS 73510(410) 483-0352\n",
      "Cleo Best282-8351 Tincidunt AveSedalia Utah 53700(252) 204-1434\n",
      "Hu Park1429 Netus Rd.Reedsport NY 48247(874) 886-4174\n",
      "Liberty Walton343-6527 Purus. AvenueLogan NV 12657(581) 379-7573\n",
      "Aaron TrujilloAp #146-3132 Cras Rd.Kingsport NH 56618(983) 632-8597\n",
      "Elmo LopezAp #481-7473 Cum Rd.Yorba Linda South Carolina 28423(295) 983-3476\n",
      "Emerson EspinozaAp #247-5577 Tincidunt St.Corpus Christi WI 97020(873) 392-8802\n",
      "Daniel Malone2136 Adipiscing Av.Lima RI 93490(360) 669-3923\n",
      "Dante Bennett481-8762 Nulla StreetDearborn OR 62401(840) 987-9449\n",
      "Sade HigginsAp #287-3260 Ut St.Wilmington OR 05182(422) 517-6053\n",
      "Zorita Anderson1964 Facilisis AvenueBell Gardens Texas 87065(126) 940-2753\n",
      "Jordan Calderon430-985 Eleifend St.Duluth Washington 92611(427) 930-5255\n",
      "Ivor DelgadoAp #310-1678 Ut Av.Santa Barbara MT 88317(689) 721-5145\n",
      "Pascale PattonP.O. Box 399 4275 Amet StreetWest Allis NC 36734(676) 334-2174\n",
      "Nasim StrongAp #630-3889 Nulla. StreetWatervliet Oklahoma 70863(437) 994-5270\n",
      "Keaton UnderwoodAp #636-8082 Arcu AvenueThiensville Maryland 19587(564) 908-6970\n",
      "Keegan BlairAp #761-2515 Egestas. Rd.Manitowoc TN 07528(577) 333-6244\n",
      "Tamara Howe3415 Lobortis. AvenueRocky Mount WA 48580(655) 840-6139\n"
     ]
    }
   ],
   "source": [
    "#print(soup.find_all(\"li\"))\n",
    "#print(type(soup.find_all(\"li\")))\n",
    "\n",
    "li_list = soup.find_all(\"li\")\n",
    "for li in li_list:\n",
    "    print(li.get_text())\n",
    "#print(type(li.get_text()))"
   ]
  },
  {
   "cell_type": "code",
   "execution_count": 99,
   "id": "bf986727-0c0c-4ed6-88c3-53bcf63a18c9",
   "metadata": {},
   "outputs": [],
   "source": [
    "import requests\n",
    "from bs4 import BeautifulSoup\n",
    "\n",
    "response = requests.get(\"http://www.naver.com\")\n",
    "\n",
    "#print(response.text)\n",
    "html_doc = response.text\n",
    "soup = BeautifulSoup(html_doc, \"html.parser\") #\"html.parser\" -> html문서를 읽겠다"
   ]
  },
  {
   "cell_type": "code",
   "execution_count": 97,
   "id": "3addb0bd-4a5e-46c7-b6f6-f0c97430775c",
   "metadata": {},
   "outputs": [
    {
     "data": {
      "text/plain": [
       "[<a class=\"nav\" data-clk=\"svc.mail\" href=\"https://mail.naver.com/\"><i class=\"ico_mail\"></i>메일</a>]"
      ]
     },
     "execution_count": 97,
     "metadata": {},
     "output_type": "execute_result"
    }
   ],
   "source": [
    "#soup.find_all('a', {'href' : '#newsstand'})\n",
    "#soup.find_all('a')\n",
    "#soup.find_all('button', {'type' : 'button'})\n",
    "\n",
    "soup.select('#NM_FAVORITE > div.group_nav > ul.list_nav.type_fix > li:nth-child(1) > a')"
   ]
  },
  {
   "cell_type": "markdown",
   "id": "d00e9d54-c939-4c83-81b3-d6b5c0c88c81",
   "metadata": {},
   "source": [
    "----"
   ]
  },
  {
   "cell_type": "markdown",
   "id": "73d21017-6e31-4c07-aca2-91cec43970a5",
   "metadata": {},
   "source": [
    "# 기사 제목만 찾아보기"
   ]
  },
  {
   "cell_type": "code",
   "execution_count": 145,
   "id": "9d5340ac-3b1d-4ce7-b924-d5990ac2d522",
   "metadata": {},
   "outputs": [
    {
     "name": "stdout",
     "output_type": "stream",
     "text": [
      "[<a class=\"news_tit\" href=\"https://www.chosun.com/economy/industry-company/2022/01/04/5RBS7KTE6JFWVNJX4BCKC4VKJ4/?utm_source=naver&amp;utm_medium=referral&amp;utm_campaign=naver-news\" onclick=\"return goOtherCR(this, 'a=nws_all*h.tit&amp;r=1&amp;i=880000ED_000000000000000003663976&amp;g=023.0003663976&amp;u='+urlencode(this.href));\" target=\"_blank\" title=\"한 벌에 12만원…BTS도 놀란 ‘BTS 잠옷’ 가격\">한 벌에 12만원…<mark>BTS</mark>도 놀란 ‘<mark>BTS</mark> 잠옷’ 가격</a>, <a class=\"news_tit\" href=\"https://www.seoul.co.kr/news/newsView.php?id=20220105500019&amp;wlog_tag3=naver\" onclick=\"return goOtherCR(this, 'a=nws_all*h.tit&amp;r=4&amp;i=880000D1_000000000000000003242562&amp;g=081.0003242562&amp;u='+urlencode(this.href));\" target=\"_blank\" title=\"BTS 뷔가 부른 OST, 한국 첫 빌보드 ‘핫 100‘ 진입\"><mark>BTS</mark> 뷔가 부른 OST, 한국 첫 빌보드 ‘핫 100‘ 진입</a>, <a class=\"news_tit\" href=\"http://www.fnnews.com/news/202201040847465379\" onclick=\"return goOtherCR(this, 'a=nws_all*h.tit&amp;r=7&amp;i=880000FF_000000000000000004766273&amp;g=014.0004766273&amp;u='+urlencode(this.href));\" target=\"_blank\" title=\"네이버웹툰, BTS 슈퍼캐스팅 옥외광고 코엑스 케이팝 스퀘어에 공개\">네이버웹툰, <mark>BTS</mark> 슈퍼캐스팅 옥외광고 코엑스 케이팝 스퀘어에 공개</a>, <a class=\"news_tit\" href=\"http://yna.kr/AKR20220105005100075?did=1195m\" onclick=\"return goOtherCR(this, 'a=nws_all*a.tit&amp;r=10&amp;i=880000D8_000000000000000012897843&amp;g=001.0012897843&amp;u='+urlencode(this.href));\" target=\"_blank\" title=\"BTS 후보 오른 그래미 시상식, 오미크론 여파 연기 가능성\"><mark>BTS</mark> 후보 오른 그래미 시상식, 오미크론 여파 연기 가능성</a>]\n",
      "한 벌에 12만원…BTS도 놀란 ‘BTS 잠옷’ 가격\n",
      "['한 벌에 12만원…BTS도 놀란 ‘BTS 잠옷’ 가격']\n",
      "BTS 뷔가 부른 OST, 한국 첫 빌보드 ‘핫 100‘ 진입\n",
      "['BTS 뷔가 부른 OST, 한국 첫 빌보드 ‘핫 100‘ 진입']\n",
      "네이버웹툰, BTS 슈퍼캐스팅 옥외광고 코엑스 케이팝 스퀘어에 공개\n",
      "['네이버웹툰, BTS 슈퍼캐스팅 옥외광고 코엑스 케이팝 스퀘어에 공개']\n",
      "BTS 후보 오른 그래미 시상식, 오미크론 여파 연기 가능성\n",
      "['BTS 후보 오른 그래미 시상식, 오미크론 여파 연기 가능성']\n"
     ]
    }
   ],
   "source": [
    "response = requests.get(\"https://search.naver.com/search.naver?where=nexearch&sm=top_hty&fbm=1&ie=utf8&query=bts\")\n",
    "\n",
    "#print(response.text)\n",
    "html_doc = response.text\n",
    "soup = BeautifulSoup(html_doc, \"html.parser\") #\"html.parser\" -> html문서를 읽겠다\n",
    "\n",
    "\n",
    "title_ = soup.select_one('#main_pack > section.sc_new.sp_nnews._prs_nws_all > div > div.group_news > ul')  #sselect = 결과값이 리스트로 반환\n",
    "\n",
    "news_list = title_.select('li > div >  div > a')\n",
    "print(news_list)\n",
    "for n in news_list:\n",
    "    print(n.get_text())\n",
    "    print(n.get_attribute_list('title'))"
   ]
  },
  {
   "cell_type": "code",
   "execution_count": null,
   "id": "1a64dd1f-541f-4a6d-8631-560a9ff7d6b7",
   "metadata": {},
   "outputs": [
    {
     "name": "stdout",
     "output_type": "stream",
     "text": [
      "[<ul class=\"list_news\"> <li class=\"bx\" id=\"sp_nws_all1\"> <div class=\"news_wrap api_ani_send\"> <div class=\"news_area\"> <div class=\"news_info\"> <div class=\"api_save_group _keep_wrap\"> <a aria-pressed=\"false\" class=\"btn_save _keep_trigger\" data-url=\"http://www.newsis.com/view/?id=NISX20220104_0001713027&amp;cID=10201&amp;pID=10200\" href=\"#\" onclick=\"tCR('a=nws_all*h.kep&amp;r=1&amp;i=88000127_000000000000000010926841&amp;u=javascript'); return false;\" role=\"button\"><i class=\"spnew ico_save\">문서 저장하기</i></a> <div class=\"api_ly_save _keep_save_layer\"> <a class=\"spnew_af item item_save _keep_save\" data-cr-off=\"a=nws_all*h.kepoff&amp;r=1&amp;i=88000127_000000000000000010926841&amp;u=javascript\" data-cr-on=\"a=nws_all*h.kepon&amp;r=1&amp;i=88000127_000000000000000010926841&amp;u=javascript\" href=\"#\" role=\"button\">Keep에 저장</a> <a class=\"spnew_af item item_quick\" href=\"https://keep.naver.com/\" onclick=\"return goOtherCR(this,'a=nws_all*h.kephome&amp;r=1&amp;i=88000127_000000000000000010926841&amp;u='+urlencode(this.href));\" target=\"_blank\">Keep 바로가기</a> </div></div><div class=\"info_group\"> <a class=\"info press\" href=\"http://www.newsis.com\" onclick=\"return goOtherCR(this, 'a=nws_all*h.prof&amp;r=1&amp;i=88000127_000000000000000010926841&amp;g=003.0010926841&amp;u='+urlencode(this.href));\" target=\"_blank\"><span class=\"thumb_box\"><img alt=\"\" class=\"thumb\" height=\"20\" onerror=\"this.src='data:image/gif;base64,R0lGODlhAQABAIAAAAAAAP///yH5BAEAAAAALAAAAAABAAEAAAIBRAA7';this.className='thumb bg_default_press'\" src=\"https://search.pstatic.net/common/?src=https%3A%2F%2Fmimgnews.pstatic.net%2Fimage%2Fupload%2Foffice_logo%2F003%2F2019%2F02%2F19%2Flogo_003_18_20190219111719.jpg&amp;type=f54_54&amp;expire=24&amp;refresh=true\" width=\"20\"/></span>뉴시스<i class=\"spnew ico_pick\">언론사 선정</i></a><span class=\"info\">19시간 전</span><a class=\"info\" href=\"https://news.naver.com/main/read.naver?mode=LSD&amp;mid=sec&amp;sid1=102&amp;oid=003&amp;aid=0010926841\" onclick=\"return goOtherCR(this, 'a=nws_all*h.nav&amp;r=1&amp;i=88000127_000000000000000010926841&amp;u='+urlencode(this.href));\" target=\"_blank\">네이버뉴스</a> </div></div><a class=\"news_tit\" href=\"http://www.newsis.com/view/?id=NISX20220104_0001713027&amp;cID=10201&amp;pID=10200\" onclick=\"return goOtherCR(this, 'a=nws_all*h.tit&amp;r=1&amp;i=88000127_000000000000000010926841&amp;g=003.0010926841&amp;u='+urlencode(this.href));\" target=\"_blank\" title=\"공수처, '김학의 출금' 공익신고인 인터넷접속기록까지 조회\">공수처, '김학의 출금' 공익신고인 <mark>인터넷</mark>접속기록까지 조회</a> <div class=\"news_dsc\"> <div class=\"dsc_wrap\"> <a class=\"api_txt_lines dsc_txt_wrap\" href=\"http://www.newsis.com/view/?id=NISX20220104_0001713027&amp;cID=10201&amp;pID=10200\" onclick=\"return goOtherCR(this, 'a=nws_all*h.body&amp;r=1&amp;i=88000127_000000000000000010926841&amp;g=003.0010926841&amp;u='+urlencode(this.href));\" target=\"_blank\">검사의 <mark>인터넷</mark> 접속기록까지 조회한 것으로 파악됐다. 공수처는 이성윤 서울고검장의 공소장 유출 의혹을... 통신자료와 <mark>인터넷</mark> 접속기록 등을 조회했다. 공수처는 이 고검장의 공소장 유출 의혹에 관한 수사를 위해 장...</a> </div></div></div><a class=\"dsc_thumb\" href=\"http://www.newsis.com/view/?id=NISX20220104_0001713027&amp;cID=10201&amp;pID=10200\" onclick=\"return goOtherCR(this, 'a=nws_all*h.img&amp;r=1&amp;i=88000127_000000000000000010926841&amp;g=003.0010926841&amp;u='+urlencode(this.href));\" target=\"_blank\"><img alt=\"공수처, ‘김학의 출금\" class=\"thumb api_get\" height=\"90\" onerror=\"this.parentNode.style.display='none';\" src=\"https://search.pstatic.net/common/?src=https%3A%2F%2Fimgnews.pstatic.net%2Fimage%2Forigin%2F003%2F2022%2F01%2F04%2F10926841.jpg&amp;type=ff264_180&amp;expire=2&amp;refresh=true\" width=\"132\"/></a> </div><div class=\"news_cluster\"> <ul class=\"list_cluster\"> <li class=\"sub_bx\"> <span class=\"sub_wrap\"> <span class=\"sub_area\"> <cite class=\"sub_txt press\" title=\"머니투데이\">머니투데이</cite><span class=\"sub_txt\">17시간 전</span><a class=\"sub_txt\" href=\"https://news.naver.com/main/read.naver?mode=LSD&amp;mid=sec&amp;sid1=102&amp;oid=008&amp;aid=0004692034\" onclick=\"return goOtherCR(this, 'a=nws_all*c.nav&amp;r=2&amp;i=880000C2_000000000000000004692034&amp;u='+urlencode(this.href));\" target=\"_blank\">네이버뉴스</a> </span><a class=\"elss sub_tit\" href=\"http://news.mt.co.kr/mtview.php?no=2022010420451235279\" onclick=\"return goOtherCR(this, 'a=nws_all*c.tit&amp;r=2&amp;i=880000C2_000000000000000004692034&amp;g=008.0004692034&amp;u='+urlencode(this.href));\" target=\"_blank\" title=\"공수처, '김학의 출금' 공익신고자 인터넷 통신자료까지 조회\">공수처, '김학의 출금' 공익신고자 <mark>인터넷</mark> 통신자료까지 조회</a> </span></li> <li class=\"sub_bx\"> <span class=\"sub_wrap\"> <span class=\"sub_area\"> <cite class=\"sub_txt press\" title=\"머니투데이\">머니투데이</cite><span class=\"sub_txt\">15시간 전</span><a class=\"sub_txt\" href=\"https://news.naver.com/main/read.naver?mode=LSD&amp;mid=sec&amp;sid1=102&amp;oid=008&amp;aid=0004692047\" onclick=\"return goOtherCR(this, 'a=nws_all*c.nav&amp;r=3&amp;i=880000C2_000000000000000004692047&amp;u='+urlencode(this.href));\" target=\"_blank\">네이버뉴스</a> </span><a class=\"elss sub_tit\" href=\"http://news.mt.co.kr/mtview.php?no=2022010422581229266\" onclick=\"return goOtherCR(this, 'a=nws_all*c.tit&amp;r=3&amp;i=880000C2_000000000000000004692047&amp;g=008.0004692047&amp;u='+urlencode(this.href));\" target=\"_blank\" title=\"'김학의 사건' 공익신고자 통화내역·인터넷 통신자료 조회(상보)\">'김학의 사건' 공익신고자 통화내역·<mark>인터넷</mark> 통신자료 조회(상보)</a> </span></li> </ul></div></li> <li class=\"bx\" id=\"sp_nws_all4\"> <div class=\"news_wrap api_ani_send\"> <div class=\"news_area\"> <div class=\"news_info\"> <div class=\"api_save_group _keep_wrap\"> <a aria-pressed=\"false\" class=\"btn_save _keep_trigger\" data-url=\"https://news.kbs.co.kr/news/view.do?ncd=5365235&amp;ref=A\" href=\"#\" onclick=\"tCR('a=nws_all*a.kep&amp;r=4&amp;i=88000114_000000000000000011189147&amp;u=javascript'); return false;\" role=\"button\"><i class=\"spnew ico_save\">문서 저장하기</i></a> <div class=\"api_ly_save _keep_save_layer\"> <a class=\"spnew_af item item_save _keep_save\" data-cr-off=\"a=nws_all*a.kepoff&amp;r=4&amp;i=88000114_000000000000000011189147&amp;u=javascript\" data-cr-on=\"a=nws_all*a.kepon&amp;r=4&amp;i=88000114_000000000000000011189147&amp;u=javascript\" href=\"#\" role=\"button\">Keep에 저장</a> <a class=\"spnew_af item item_quick\" href=\"https://keep.naver.com/\" onclick=\"return goOtherCR(this,'a=nws_all*a.kephome&amp;r=4&amp;i=88000114_000000000000000011189147&amp;u='+urlencode(this.href));\" target=\"_blank\">Keep 바로가기</a> </div></div><div class=\"info_group\"> <a class=\"info press\" href=\"http://news.kbs.co.kr/\" onclick=\"return goOtherCR(this, 'a=nws_all*a.prof&amp;r=4&amp;i=88000114_000000000000000011189147&amp;g=056.0011189147&amp;u='+urlencode(this.href));\" target=\"_blank\"><span class=\"thumb_box\"><img alt=\"\" class=\"thumb\" height=\"20\" onerror=\"this.src='data:image/gif;base64,R0lGODlhAQABAIAAAAAAAP///yH5BAEAAAAALAAAAAABAAEAAAIBRAA7';this.className='thumb bg_default_press'\" src=\"https://search.pstatic.net/common/?src=https%3A%2F%2Fmimgnews.pstatic.net%2Fimage%2Fupload%2Foffice_logo%2F056%2F2021%2F10%2F28%2Flogo_056_18_20211028103107.png&amp;type=f54_54&amp;expire=24&amp;refresh=true\" width=\"20\"/></span>KBS</a><span class=\"info\">1시간 전</span><a class=\"info\" href=\"https://news.naver.com/main/read.naver?mode=LSD&amp;mid=sec&amp;sid1=101&amp;oid=056&amp;aid=0011189147\" onclick=\"return goOtherCR(this, 'a=nws_all*a.nav&amp;r=4&amp;i=88000114_000000000000000011189147&amp;u='+urlencode(this.href));\" target=\"_blank\">네이버뉴스</a> </div></div><a class=\"news_tit\" href=\"https://news.kbs.co.kr/news/view.do?ncd=5365235&amp;ref=A\" onclick=\"return goOtherCR(this, 'a=nws_all*a.tit&amp;r=4&amp;i=88000114_000000000000000011189147&amp;g=056.0011189147&amp;u='+urlencode(this.href));\" target=\"_blank\" title=\"인터넷 전문 케이뱅크 신용대출 한도 상향 조정…최대 2억 5,000만 원\"><mark>인터넷</mark> 전문 케이뱅크 신용대출 한도 상향 조정…최대 2억 5,000만 원</a> <div class=\"news_dsc\"> <div class=\"dsc_wrap\"> <a class=\"api_txt_lines dsc_txt_wrap\" href=\"https://news.kbs.co.kr/news/view.do?ncd=5365235&amp;ref=A\" onclick=\"return goOtherCR(this, 'a=nws_all*a.body&amp;r=4&amp;i=88000114_000000000000000011189147&amp;g=056.0011189147&amp;u='+urlencode(this.href));\" target=\"_blank\"><mark>인터넷</mark> 전문은행인 케이뱅크가 오늘(5일) 신용대출 한도를 상향 조정했습니다. 케이뱅크는 '신용대출' 상품의 한도를 1억 원 늘리고, '마이너스통장 대출'과 '신용대출 플러스'상품의 한도도 5,000만 원 증액했습니다....</a> </div></div></div><a class=\"dsc_thumb\" href=\"https://news.kbs.co.kr/news/view.do?ncd=5365235&amp;ref=A\" onclick=\"return goOtherCR(this, 'a=nws_all*a.img&amp;r=4&amp;i=88000114_000000000000000011189147&amp;g=056.0011189147&amp;u='+urlencode(this.href));\" target=\"_blank\"><img alt=\"인터넷 전문 케이뱅크\" class=\"thumb api_get\" height=\"90\" onerror=\"this.parentNode.style.display='none';\" src=\"https://search.pstatic.net/common/?src=https%3A%2F%2Fimgnews.pstatic.net%2Fimage%2Forigin%2F056%2F2022%2F01%2F05%2F11189147.jpg&amp;type=ff264_180&amp;expire=2&amp;refresh=true\" width=\"132\"/></a> </div><div class=\"news_cluster\"> <ul class=\"list_cluster\"> <li class=\"sub_bx\"> <span class=\"sub_wrap\"> <span class=\"sub_area\"> <cite class=\"sub_txt press\" title=\"매일경제\">매일경제</cite><span class=\"sub_txt\">2시간 전</span><a class=\"sub_txt\" href=\"https://news.naver.com/main/read.naver?mode=LSD&amp;mid=sec&amp;sid1=101&amp;oid=009&amp;aid=0004904567\" onclick=\"return goOtherCR(this, 'a=nws_all*c.nav&amp;r=5&amp;i=880000BC_000000000000000004904567&amp;u='+urlencode(this.href));\" target=\"_blank\">네이버뉴스</a> </span><a class=\"elss sub_tit\" href=\"http://news.mk.co.kr/newsRead.php?no=12232&amp;year=2022\" onclick=\"return goOtherCR(this, 'a=nws_all*c.tit&amp;r=5&amp;i=880000BC_000000000000000004904567&amp;g=009.0004904567&amp;u='+urlencode(this.href));\" target=\"_blank\" title=\"토뱅 2.7억, 케뱅 2.5억…연초 인터넷은행 공격적 대출 나선다\">토뱅 2.7억, 케뱅 2.5억…연초 <mark>인터넷</mark>은행 공격적 대출 나선다</a> </span></li> <li class=\"sub_bx\"> <span class=\"sub_wrap\"> <span class=\"sub_area\"> <cite class=\"sub_txt press\" title=\"연합인포맥스\">연합인포맥스</cite><span class=\"sub_txt\">5시간 전</span> </span><a class=\"elss sub_tit\" href=\"http://news.einfomax.co.kr/news/articleView.html?idxno=4192171\" onclick=\"return goOtherCR(this, 'a=nws_all*d.tit&amp;r=6&amp;i=88131147_000000000000000000465177&amp;g=5227.0000465177&amp;u='+urlencode(this.href));\" target=\"_blank\" title=\"새해 가계대출 빗장 열리니…인터넷은행 경쟁 심화\">새해 가계대출 빗장 열리니…<mark>인터넷</mark>은행 경쟁 심화</a> </span></li> </ul></div><a class=\"news_more\" href=\"?where=news&amp;sm=tab_tnw&amp;query=%EC%9D%B8%ED%84%B0%EB%84%B7&amp;nso=so:r,p:all,a:all&amp;related=1&amp;docid=0560011189147\" onclick=\"return goOtherCR(this, 'a=nws_all*r.more&amp;u='+urlencode(urlexpand(this.href)));\">관련뉴스 전체보기<i class=\"spnew ico_arrow\"></i></a> </li> <li class=\"bx\" id=\"sp_nws_all7\"> <div class=\"news_wrap api_ani_send\"> <div class=\"news_area\"> <div class=\"news_info\"> <div class=\"api_save_group _keep_wrap\"> <a aria-pressed=\"false\" class=\"btn_save _keep_trigger\" data-url=\"http://www.newsway.co.kr/news/view?tp=1&amp;ud=2022010510415617407\" href=\"#\" onclick=\"tCR('a=nws_all*b.kep&amp;r=7&amp;i=8813C2E6_000000000000000000746360&amp;u=javascript'); return false;\" role=\"button\"><i class=\"spnew ico_save\">문서 저장하기</i></a> <div class=\"api_ly_save _keep_save_layer\"> <a class=\"spnew_af item item_save _keep_save\" data-cr-off=\"a=nws_all*b.kepoff&amp;r=7&amp;i=8813C2E6_000000000000000000746360&amp;u=javascript\" data-cr-on=\"a=nws_all*b.kepon&amp;r=7&amp;i=8813C2E6_000000000000000000746360&amp;u=javascript\" href=\"#\" role=\"button\">Keep에 저장</a> <a class=\"spnew_af item item_quick\" href=\"https://keep.naver.com/\" onclick=\"return goOtherCR(this,'a=nws_all*b.kephome&amp;r=7&amp;i=8813C2E6_000000000000000000746360&amp;u='+urlencode(this.href));\" target=\"_blank\">Keep 바로가기</a> </div></div><div class=\"info_group\"> <a class=\"info press\" href=\"http://www.newsway.kr\" onclick=\"return goOtherCR(this, 'a=nws_all*b.prof&amp;r=7&amp;i=8813C2E6_000000000000000000746360&amp;g=5270.0000746360&amp;u='+urlencode(this.href));\" target=\"_blank\"><span class=\"thumb_box\"><img alt=\"\" class=\"thumb\" height=\"20\" onerror=\"this.src='data:image/gif;base64,R0lGODlhAQABAIAAAAAAAP///yH5BAEAAAAALAAAAAABAAEAAAIBRAA7';this.className='thumb bg_default_press'\" src=\"https://search.pstatic.net/common/?src=http%3A%2F%2Fnimage.newsway.kr%2Fne_w%2Fimages%2Fnewsway.ico&amp;type=f54_54&amp;expire=24&amp;refresh=true\" width=\"20\"/></span>뉴스웨이</a><span class=\"info\">3시간 전</span> </div></div><a class=\"news_tit\" href=\"http://www.newsway.co.kr/news/view?tp=1&amp;ud=2022010510415617407\" onclick=\"return goOtherCR(this, 'a=nws_all*b.tit&amp;r=7&amp;i=8813C2E6_000000000000000000746360&amp;g=5270.0000746360&amp;u='+urlencode(this.href));\" target=\"_blank\" title=\"대출 늘리는 인터넷전문은행, 케이뱅크 신용대출 한도 최대 2.5억원\">대출 늘리는 <mark>인터넷</mark>전문은행, 케이뱅크 신용대출 한도 최대 2.5억원</a> <div class=\"news_dsc\"> <div class=\"dsc_wrap\"> <a class=\"api_txt_lines dsc_txt_wrap\" href=\"http://www.newsway.co.kr/news/view?tp=1&amp;ud=2022010510415617407\" onclick=\"return goOtherCR(this, 'a=nws_all*b.body&amp;r=7&amp;i=8813C2E6_000000000000000000746360&amp;g=5270.0000746360&amp;u='+urlencode(this.href));\" target=\"_blank\"><mark>인터넷</mark>전문은행이 새해가 되면서 대출 늘리기에 적극 나섰다. 케이뱅크가 신용대출 한도를 최대 2억5000만원까지 상향하고 카카오뱅크는 비대면 주택담보대출 비공개 베타 테스트를 진행하는 등 주담대 출시를 위한...</a> </div></div></div><a class=\"dsc_thumb\" href=\"http://www.newsway.co.kr/news/view?tp=1&amp;ud=2022010510415617407\" onclick=\"return goOtherCR(this, 'a=nws_all*b.img&amp;r=7&amp;i=8813C2E6_000000000000000000746360&amp;g=5270.0000746360&amp;u='+urlencode(this.href));\" target=\"_blank\"><img alt=\"대출 늘리는 인터넷전\" class=\"thumb api_get\" height=\"90\" onerror=\"this.parentNode.style.display='none';\" src=\"https://search.pstatic.net/common/?src=https%3A%2F%2Fimgnews.pstatic.net%2Fimage%2Forigin%2F5270%2F2022%2F01%2F05%2F746360.jpg&amp;type=ofullfill264_180_gray&amp;expire=2&amp;refresh=true\" width=\"132\"/></a> </div><div class=\"news_cluster\"> <ul class=\"list_cluster\"> <li class=\"sub_bx\"> <span class=\"sub_wrap\"> <span class=\"sub_area\"> <cite class=\"sub_txt press\" title=\"시사포커스\">시사포커스</cite><span class=\"sub_txt\">4시간 전</span> </span><a class=\"elss sub_tit\" href=\"http://www.sisafocus.co.kr/news/articleView.html?idxno=271046\" onclick=\"return goOtherCR(this, 'a=nws_all*d.tit&amp;r=8&amp;i=88155e84_000000000000000000148239&amp;g=5329.0000148239&amp;u='+urlencode(this.href));\" target=\"_blank\" title=\"연초부터 공격 영업하는 인터넷은행\">연초부터 공격 영업하는 <mark>인터넷</mark>은행</a> </span></li> </ul></div></li> <li class=\"bx\" id=\"sp_nws_all9\"> <div class=\"news_wrap api_ani_send\"> <div class=\"news_area\"> <div class=\"news_info\"> <div class=\"api_save_group _keep_wrap\"> <a aria-pressed=\"false\" class=\"btn_save _keep_trigger\" data-url=\"https://www.hani.co.kr/arti/economy/it/1026066.html\" href=\"#\" onclick=\"tCR('a=nws_all*e.kep&amp;r=9&amp;i=88000103_000000000000000002574319&amp;u=javascript'); return false;\" role=\"button\"><i class=\"spnew ico_save\">문서 저장하기</i></a> <div class=\"api_ly_save _keep_save_layer\"> <a class=\"spnew_af item item_save _keep_save\" data-cr-off=\"a=nws_all*e.kepoff&amp;r=9&amp;i=88000103_000000000000000002574319&amp;u=javascript\" data-cr-on=\"a=nws_all*e.kepon&amp;r=9&amp;i=88000103_000000000000000002574319&amp;u=javascript\" href=\"#\" role=\"button\">Keep에 저장</a> <a class=\"spnew_af item item_quick\" href=\"https://keep.naver.com/\" onclick=\"return goOtherCR(this,'a=nws_all*e.kephome&amp;r=9&amp;i=88000103_000000000000000002574319&amp;u='+urlencode(this.href));\" target=\"_blank\">Keep 바로가기</a> </div></div><div class=\"info_group\"> <a class=\"info press\" href=\"http://www.hani.co.kr/\" onclick=\"return goOtherCR(this, 'a=nws_all*e.prof&amp;r=9&amp;i=88000103_000000000000000002574319&amp;g=028.0002574319&amp;u='+urlencode(this.href));\" target=\"_blank\"><span class=\"thumb_box\"><img alt=\"\" class=\"thumb\" height=\"20\" onerror=\"this.src='data:image/gif;base64,R0lGODlhAQABAIAAAAAAAP///yH5BAEAAAAALAAAAAABAAEAAAIBRAA7';this.className='thumb bg_default_press'\" src=\"https://search.pstatic.net/common/?src=https%3A%2F%2Fmimgnews.pstatic.net%2Fimage%2Fupload%2Foffice_logo%2F028%2F2018%2F08%2F01%2Flogo_028_18_20180801163701.png&amp;type=f54_54&amp;expire=24&amp;refresh=true\" width=\"20\"/></span>한겨레</a><span class=\"info\">2시간 전</span><a class=\"info\" href=\"https://news.naver.com/main/read.naver?mode=LSD&amp;mid=sec&amp;sid1=105&amp;oid=028&amp;aid=0002574319\" onclick=\"return goOtherCR(this, 'a=nws_all*e.nav&amp;r=9&amp;i=88000103_000000000000000002574319&amp;u='+urlencode(this.href));\" target=\"_blank\">네이버뉴스</a> </div></div><a class=\"news_tit\" href=\"https://www.hani.co.kr/arti/economy/it/1026066.html\" onclick=\"return goOtherCR(this, 'a=nws_all*e.tit&amp;r=9&amp;i=88000103_000000000000000002574319&amp;g=028.0002574319&amp;u='+urlencode(this.href));\" target=\"_blank\" title=\"원양 해상서도 초고속인터넷…KT ‘무제한 고속통신’ 출시\">원양 해상서도 초고속<mark>인터넷</mark>…KT ‘무제한 고속통신’ 출시</a> <div class=\"news_dsc\"> <div class=\"dsc_wrap\"> <a class=\"api_txt_lines dsc_txt_wrap\" href=\"https://www.hani.co.kr/arti/economy/it/1026066.html\" onclick=\"return goOtherCR(this, 'a=nws_all*e.body&amp;r=9&amp;i=88000103_000000000000000002574319&amp;g=028.0002574319&amp;u='+urlencode(this.href));\" target=\"_blank\">케이티(KT)가 대양을 오가는 원양 선박들을 위한 ‘무제한 고속통신’ 서비스를 내놓았다. 동남아시아 등 해양 통신 수요가 빠르게 증가하는 신흥시장을 노린다는 계획이다. 5일 케이티의 위성통신 계열사 케이티...</a> </div></div></div><a class=\"dsc_thumb\" href=\"https://www.hani.co.kr/arti/economy/it/1026066.html\" onclick=\"return goOtherCR(this, 'a=nws_all*e.img&amp;r=9&amp;i=88000103_000000000000000002574319&amp;g=028.0002574319&amp;u='+urlencode(this.href));\" target=\"_blank\"><img alt=\"원양 해상서도 초고속\" class=\"thumb api_get\" height=\"90\" onerror=\"this.parentNode.style.display='none';\" src=\"https://search.pstatic.net/common/?src=https%3A%2F%2Fimgnews.pstatic.net%2Fimage%2Forigin%2F028%2F2022%2F01%2F05%2F2574319.jpg&amp;type=ff264_180&amp;expire=2&amp;refresh=true\" width=\"132\"/></a> </div></li> </ul>]\n"
     ]
    }
   ],
   "source": [
    "response = requests.get(\"https://search.naver.com/search.naver?sm=tab_hty.top&where=nexearch&query=%EC%9D%B8%ED%84%B0%EB%84%B7&oquery=ai&tqi=hORBAdp0YihsslQsQAZssssssbN-485963\")\n",
    "\n",
    "html_doc = response.text\n",
    "soup = BeautifulSoup(html_doc, \"html.parser\")\n",
    "\n",
    "e_news = soup.select('#main_pack > section.sc_new.sp_nnews._prs_nws_all > div > div.group_news > ul')"
   ]
  }
 ],
 "metadata": {
  "kernelspec": {
   "display_name": "Python 3 (ipykernel)",
   "language": "python",
   "name": "python3"
  },
  "language_info": {
   "codemirror_mode": {
    "name": "ipython",
    "version": 3
   },
   "file_extension": ".py",
   "mimetype": "text/x-python",
   "name": "python",
   "nbconvert_exporter": "python",
   "pygments_lexer": "ipython3",
   "version": "3.9.7"
  }
 },
 "nbformat": 4,
 "nbformat_minor": 5
}
