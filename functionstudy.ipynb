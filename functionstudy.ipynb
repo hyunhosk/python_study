{
 "cells": [
  {
   "cell_type": "markdown",
   "id": "db55a472-ce98-44f7-84bd-72d924907166",
   "metadata": {},
   "source": [
    "### 리스트 호출"
   ]
  },
  {
   "cell_type": "code",
   "execution_count": 7,
   "id": "056b7c61-1479-4495-9faa-929eb1ce7e72",
   "metadata": {},
   "outputs": [],
   "source": [
    "def listfunc(n):\n",
    "    big = n[0]\n",
    "    small = n[0]\n",
    "    for i in n:\n",
    "        if i >= big:\n",
    "            big = i\n",
    "        elif i <= small:\n",
    "            small = i\n",
    "    print('최대값 : %d , 최소값 : %d'%(big,small))"
   ]
  },
  {
   "cell_type": "code",
   "execution_count": 6,
   "id": "0d907b72-8ae2-439b-8bb6-9f0f41bb2fe9",
   "metadata": {},
   "outputs": [
    {
     "name": "stdout",
     "output_type": "stream",
     "text": [
      "최대값 : 10 , 최소값 : 1\n"
     ]
    }
   ],
   "source": [
    "a = [1,2,3,4,5,6,7,8,9,10]\n",
    "listfunc(a)"
   ]
  },
  {
   "cell_type": "markdown",
   "id": "94acc9f2-b5f4-4bea-9a63-73dd16552adc",
   "metadata": {},
   "source": [
    "### 숫자 입력받아서 1~입력값 까지의 합 구하는 함수"
   ]
  },
  {
   "cell_type": "code",
   "execution_count": 8,
   "id": "f26b0d02-8758-40f1-957b-36d0e917f5d8",
   "metadata": {},
   "outputs": [],
   "source": [
    "def total(n):\n",
    "    a = 1\n",
    "    total = 0\n",
    "    while a <= n:\n",
    "        total = total + a\n",
    "        a += 1\n",
    "    print(total)"
   ]
  },
  {
   "cell_type": "code",
   "execution_count": 9,
   "id": "c44c779f-2a3a-49b7-a104-4e97a4a77736",
   "metadata": {},
   "outputs": [
    {
     "name": "stdin",
     "output_type": "stream",
     "text": [
      " 10\n"
     ]
    },
    {
     "name": "stdout",
     "output_type": "stream",
     "text": [
      "55\n"
     ]
    }
   ],
   "source": [
    "n = int(input())\n",
    "total(n)"
   ]
  },
  {
   "cell_type": "markdown",
   "id": "873123b7-a5e6-4e6e-b114-3c8bff8c4bc3",
   "metadata": {},
   "source": [
    "### 세 숫자를 입력받아 큰 수를 출력하는 함수"
   ]
  },
  {
   "cell_type": "code",
   "execution_count": 31,
   "id": "7821903a-7578-424d-9ede-429fb902316a",
   "metadata": {},
   "outputs": [],
   "source": [
    "def print_max(a,b,c):\n",
    "    '''\n",
    "    if a > b:\n",
    "        if a > c:\n",
    "            big = a\n",
    "        else:\n",
    "            big = c\n",
    "    elif b > c:\n",
    "        if b > a:\n",
    "            big = b\n",
    "        else:\n",
    "            big = a\n",
    "    else:\n",
    "        big = c\n",
    "    '''\n",
    "    if a > b and a > c:\n",
    "        big = a\n",
    "    elif b > a and b > c:\n",
    "        big = b\n",
    "    else:\n",
    "        big = c\n",
    "    print('최대값 : %d' %big)"
   ]
  },
  {
   "cell_type": "code",
   "execution_count": 35,
   "id": "9061e82a-e980-419c-a901-d7dde13f3feb",
   "metadata": {},
   "outputs": [
    {
     "name": "stdin",
     "output_type": "stream",
     "text": [
      "a 3\n",
      "b 1\n",
      "c 2\n"
     ]
    },
    {
     "name": "stdout",
     "output_type": "stream",
     "text": [
      "최대값 : 3\n"
     ]
    }
   ],
   "source": [
    "a = int(input('a'))\n",
    "b = int(input('b'))\n",
    "c = int(input('c'))\n",
    "print_max(a,b,c)"
   ]
  },
  {
   "cell_type": "markdown",
   "id": "e0f073fb-9d31-400d-8ad3-f845f7e4a9d8",
   "metadata": {},
   "source": [
    "### 넓이 구하기"
   ]
  },
  {
   "cell_type": "markdown",
   "id": "26ed8c3d-f776-423f-9569-960fa3b1cd5c",
   "metadata": {},
   "source": [
    "도형을 입력받고, 이후 넓이를 구함"
   ]
  },
  {
   "cell_type": "code",
   "execution_count": 10,
   "id": "d3f583e6-51a0-4b17-b0c5-02d310248c9d",
   "metadata": {},
   "outputs": [],
   "source": [
    "def area():\n",
    "    n = int(input('1. 직삼각형 2. 원 3. 정사각형 4. 직사각형'))\n",
    "    if n == 1:\n",
    "        a = float(input('가로길이 입력하세요'))\n",
    "        b = float(input('세로길이 입력하세요'))\n",
    "        c = a * b * 0.5\n",
    "    elif n == 2:\n",
    "        a = float(input('반지름을 입력하세요'))\n",
    "        c = 3.14 * (r ** 2)\n",
    "    elif n == 3:\n",
    "        a = int(input('면의길이를 입력하세요'))\n",
    "        c = a ** 2\n",
    "    elif n == 4:\n",
    "        a = float(input('가로길이 입력하세요'))\n",
    "        b = float(input('세로길이 입력하세요'))\n",
    "        c = a * b\n",
    "    print('면적은 %.2f 입니다.'%c)"
   ]
  },
  {
   "cell_type": "code",
   "execution_count": 13,
   "id": "810ddac7-ab2f-4455-8668-be6ac796741c",
   "metadata": {},
   "outputs": [
    {
     "name": "stdin",
     "output_type": "stream",
     "text": [
      "1. 직삼각형 2. 원 3. 정사각형 4. 직사각형 1\n",
      "가로길이 입력하세요 2\n",
      "세로길이 입력하세요 3\n"
     ]
    },
    {
     "name": "stdout",
     "output_type": "stream",
     "text": [
      "면적은 3.00 입니다.\n"
     ]
    }
   ],
   "source": [
    "area()"
   ]
  },
  {
   "cell_type": "markdown",
   "id": "b4560f52-b969-4957-8b34-b226dc5c42de",
   "metadata": {},
   "source": [
    "### 리스트 입력받아서 짝수, 홀수만 추출하는 함수"
   ]
  },
  {
   "cell_type": "markdown",
   "id": "4e47d9e2-9f5d-4d50-b37a-92f34efc6e15",
   "metadata": {},
   "source": [
    "함수 내에서 append해서 새로운 리스트 만들고 출력"
   ]
  },
  {
   "cell_type": "markdown",
   "id": "be8087fb-9f34-4972-81ec-c0a3b9f92506",
   "metadata": {},
   "source": [
    "함수 내에서 홀수의 합만 구해서 출력"
   ]
  },
  {
   "cell_type": "code",
   "execution_count": 38,
   "id": "799b854b-879e-4c0d-9085-98ee1b42f2f0",
   "metadata": {},
   "outputs": [],
   "source": [
    "def pickup_even(a):\n",
    "    list_e = list()\n",
    "    for i in a:\n",
    "        if i % 2 == 0:\n",
    "            list_e.append(i)\n",
    "    print(list_e)"
   ]
  },
  {
   "cell_type": "code",
   "execution_count": 39,
   "id": "55315729-83bd-4c78-84be-951b83a4b5f6",
   "metadata": {},
   "outputs": [
    {
     "name": "stdout",
     "output_type": "stream",
     "text": [
      "[2, 4, 6, 8]\n"
     ]
    }
   ],
   "source": [
    "a = [1,2,3,4,5,6,7,8,9]\n",
    "\n",
    "pickup_even(a)"
   ]
  },
  {
   "cell_type": "code",
   "execution_count": 42,
   "id": "10759c3b-ec3d-4299-8266-f91f52dba9bd",
   "metadata": {},
   "outputs": [],
   "source": [
    "def pickup_odd(a):\n",
    "    list_o = list()\n",
    "    total = 0\n",
    "    for i in a:\n",
    "        if i % 2 == 1:\n",
    "            total = total + i\n",
    "    print(total)"
   ]
  },
  {
   "cell_type": "code",
   "execution_count": 43,
   "id": "35edc19c-c398-4016-b111-878fe8e2fccd",
   "metadata": {},
   "outputs": [
    {
     "name": "stdout",
     "output_type": "stream",
     "text": [
      "25\n"
     ]
    }
   ],
   "source": [
    "a = [1,2,3,4,5,6,7,8,9]\n",
    "\n",
    "pickup_odd(a)"
   ]
  }
 ],
 "metadata": {
  "kernelspec": {
   "display_name": "Python 3 (ipykernel)",
   "language": "python",
   "name": "python3"
  },
  "language_info": {
   "codemirror_mode": {
    "name": "ipython",
    "version": 3
   },
   "file_extension": ".py",
   "mimetype": "text/x-python",
   "name": "python",
   "nbconvert_exporter": "python",
   "pygments_lexer": "ipython3",
   "version": "3.9.7"
  }
 },
 "nbformat": 4,
 "nbformat_minor": 5
}
