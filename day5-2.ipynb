{
 "cells": [
  {
   "cell_type": "markdown",
   "id": "f4f936ea-d0ee-4266-a926-2d4b7dadc3ab",
   "metadata": {},
   "source": [
    "가로,세로\n",
    "길이구하기\n",
    "넓이구하기"
   ]
  },
  {
   "cell_type": "code",
   "execution_count": 1,
   "id": "c52e0372-2c04-4f34-8535-d704c0681400",
   "metadata": {},
   "outputs": [],
   "source": [
    "class Rectangle:\n",
    "    def __init__(self, garo, sero):\n",
    "        self.__garo = garo\n",
    "        self.__sero = sero\n",
    "    \n",
    "    def length(self):\n",
    "        return (self.__garo * 2) + (self.__sero * 2)\n",
    "    \n",
    "    def area(self):\n",
    "        return self.__garo * self.__sero\n",
    "    \n",
    "    def get_garo(self):\n",
    "        return self.__garo\n",
    "    \n",
    "    def get_sero(self):\n",
    "        return self.__sero\n",
    "    \n",
    "    def set_garo(self, garo):\n",
    "        self.__garo = garo\n",
    "    \n",
    "    def set_sero(self, sero):\n",
    "        self.__sero = sero"
   ]
  },
  {
   "cell_type": "code",
   "execution_count": 6,
   "id": "f7a4aa1a-bd3d-4bc2-aeeb-f71363c4fafb",
   "metadata": {},
   "outputs": [
    {
     "name": "stdout",
     "output_type": "stream",
     "text": [
      "14\n",
      "12\n",
      "20\n",
      "14\n",
      "10\n"
     ]
    }
   ],
   "source": [
    "rec1 = Rectangle(3, 4)\n",
    "print(rec1.length())\n",
    "print(rec1.area())\n",
    "\n",
    "rec1.set_garo(rec1.get_garo() + 2) # Rectangle(5, 4)\n",
    "print(rec1.area())\n",
    "\n",
    "rec2 = Rectangle(2, 5)\n",
    "print(rec2.length())\n",
    "print(rec2.area())"
   ]
  }
 ],
 "metadata": {
  "kernelspec": {
   "display_name": "Python 3 (ipykernel)",
   "language": "python",
   "name": "python3"
  },
  "language_info": {
   "codemirror_mode": {
    "name": "ipython",
    "version": 3
   },
   "file_extension": ".py",
   "mimetype": "text/x-python",
   "name": "python",
   "nbconvert_exporter": "python",
   "pygments_lexer": "ipython3",
   "version": "3.9.7"
  }
 },
 "nbformat": 4,
 "nbformat_minor": 5
}
