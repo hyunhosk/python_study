{
 "cells": [
  {
   "cell_type": "markdown",
   "id": "f4f936ea-d0ee-4266-a926-2d4b7dadc3ab",
   "metadata": {},
   "source": [
    "가로,세로\n",
    "길이구하기\n",
    "넓이구하기"
   ]
  },
  {
   "cell_type": "code",
   "execution_count": 61,
   "id": "e1ef6efa-9286-4554-b1b7-e1cb3d3a0a51",
   "metadata": {},
   "outputs": [],
   "source": [
    "class Rectangle:\n",
    "    def __init__(self, garo, sero):\n",
    "        self.__garo = garo\n",
    "        self.__sero = sero\n",
    "    \n",
    "    def get_length(self):\n",
    "        return (self.__garo * 2) + (self.__sero * 2)\n",
    "    \n",
    "    def get_area(self):\n",
    "        return self.__garo * self.__sero\n",
    "    \n",
    "    def get_garo(self):\n",
    "        return self.__garo\n",
    "    \n",
    "    def get_sero(self):\n",
    "        return self.__sero\n",
    "    \n",
    "    def set_garo(self, garo):\n",
    "        self.__garo = garo\n",
    "    \n",
    "    def set_sero(self, sero):\n",
    "        self.__sero = sero\n",
    "    "
   ]
  },
  {
   "cell_type": "code",
   "execution_count": 61,
   "id": "250acef6-ae90-4250-9000-345fc5ac1a27",
   "metadata": {},
   "outputs": [],
   "source": [
    "    def __str__(self):   #문자열 리턴\n",
    "        return ('가로 : %d , 세로 : %d'%(self.__garo, self.__sero))\n",
    "    \n",
    "    def __eq__(self, other_rect):   #같다 아니다 비교해서 리턴\n",
    "        return self.get_area() == other_rect.get_area()\n",
    "    \n",
    "    def __gt__(self, other_rect):   #대소 비교\n",
    "        return self.get_area() > other_rect.get_area()\n",
    "    \n",
    "    def __ge__(self, other_rect):   #크거나 같다 \n",
    "        return self.get_area() >= other_rect.get_area()"
   ]
  },
  {
   "cell_type": "code",
   "execution_count": 63,
   "id": "5d5fb2bd-b0b8-4728-8f0f-9de07bea6b20",
   "metadata": {},
   "outputs": [
    {
     "name": "stdout",
     "output_type": "stream",
     "text": [
      "True\n",
      "False\n",
      "True\n"
     ]
    }
   ],
   "source": [
    "r1 = Rectangle(4,5)\n",
    "r2 = Rectangle(2,10)\n",
    "print(r1 == r2)\n",
    "print(r1 > r2)\n",
    "print(r1 >= r2)"
   ]
  },
  {
   "cell_type": "code",
   "execution_count": 17,
   "id": "f7a4aa1a-bd3d-4bc2-aeeb-f71363c4fafb",
   "metadata": {},
   "outputs": [
    {
     "name": "stdout",
     "output_type": "stream",
     "text": [
      "14\n",
      "12\n",
      "20\n",
      "14\n",
      "10\n"
     ]
    }
   ],
   "source": [
    "rec1 = Rectangle(3, 4)\n",
    "print(rec1.get_length())\n",
    "print(rec1.get_area())\n",
    "\n",
    "rec1.set_garo(rec1.get_garo() + 2) # Rectangle(5, 4)\n",
    "print(rec1.get_area())\n",
    "\n",
    "rec2 = Rectangle(2, 5)\n",
    "print(rec2.get_length())\n",
    "print(rec2.get_area())"
   ]
  },
  {
   "cell_type": "markdown",
   "id": "fe376154-da3f-421b-8437-dde6d37d0a57",
   "metadata": {},
   "source": [
    "---"
   ]
  },
  {
   "cell_type": "markdown",
   "id": "f502ebad-69f6-4ba8-9853-35b513720011",
   "metadata": {},
   "source": [
    "사각형 5개 면적의 합 구하기"
   ]
  },
  {
   "cell_type": "code",
   "execution_count": 28,
   "id": "0da315da-cfc8-472b-91fb-64f9b48866fe",
   "metadata": {},
   "outputs": [
    {
     "name": "stdout",
     "output_type": "stream",
     "text": [
      "6\n",
      "106\n",
      "124\n",
      "220\n",
      "324\n"
     ]
    }
   ],
   "source": [
    "r_list = list()\n",
    "\n",
    "r1 = Rectangle(2, 3)\n",
    "r2 = Rectangle(5, 20)\n",
    "r3 = Rectangle(3, 6)\n",
    "r4 = Rectangle(12, 8)\n",
    "r5 = Rectangle(8, 13)\n",
    "\n",
    "r_list.append(r1)\n",
    "r_list.append(r2)\n",
    "r_list.append(r3)\n",
    "r_list.append(r4)\n",
    "r_list.append(r5)\n",
    "\n",
    "sum = 0\n",
    "for i in r_list:\n",
    "    sum = sum + i.get_area()\n",
    "    print(sum)"
   ]
  },
  {
   "cell_type": "code",
   "execution_count": 29,
   "id": "c87cf670-073d-4b81-96d7-5a080335c13c",
   "metadata": {},
   "outputs": [
    {
     "name": "stdout",
     "output_type": "stream",
     "text": [
      "가로 : 2 , 세로 : 3\n",
      "가로 : 5 , 세로 : 20\n"
     ]
    }
   ],
   "source": [
    "print(r1)\n",
    "print(r2)\n"
   ]
  },
  {
   "cell_type": "code",
   "execution_count": 33,
   "id": "1ebd52ae-2e13-4b7a-8981-1962df62471c",
   "metadata": {},
   "outputs": [
    {
     "name": "stdout",
     "output_type": "stream",
     "text": [
      "<class '__main__.Rectangle'>\n"
     ]
    }
   ],
   "source": [
    "r = r_list[0]\n",
    "print(type(r))"
   ]
  },
  {
   "cell_type": "code",
   "execution_count": null,
   "id": "a54540f6-e8e9-4066-a2d7-244b69da4fe1",
   "metadata": {},
   "outputs": [],
   "source": []
  }
 ],
 "metadata": {
  "kernelspec": {
   "display_name": "Python 3 (ipykernel)",
   "language": "python",
   "name": "python3"
  },
  "language_info": {
   "codemirror_mode": {
    "name": "ipython",
    "version": 3
   },
   "file_extension": ".py",
   "mimetype": "text/x-python",
   "name": "python",
   "nbconvert_exporter": "python",
   "pygments_lexer": "ipython3",
   "version": "3.9.7"
  }
 },
 "nbformat": 4,
 "nbformat_minor": 5
}
