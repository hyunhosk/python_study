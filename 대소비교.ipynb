{
 "cells": [
  {
   "cell_type": "code",
   "execution_count": 11,
   "id": "f8e1054d-5795-445e-9f9d-9d2cbe9802bf",
   "metadata": {},
   "outputs": [
    {
     "name": "stdin",
     "output_type": "stream",
     "text": [
      " 3\n",
      " 2\n",
      " 1\n"
     ]
    },
    {
     "name": "stdout",
     "output_type": "stream",
     "text": [
      "3\n",
      "1\n"
     ]
    }
   ],
   "source": [
    "num1 = int(input())\n",
    "num2 = int(input())\n",
    "num3 = int(input())\n",
    "\n",
    "big = num1\n",
    "small = num1\n",
    "\n",
    "if num1 > num2:\n",
    "    if num1 > num3:\n",
    "        big = num1\n",
    "    else:\n",
    "        big = num3\n",
    "elif num2 > num3:\n",
    "    big = num2\n",
    "else:\n",
    "    big = num3\n",
    "    \n",
    "print(big)\n",
    "\n",
    "if num1 < num2:\n",
    "    if num1 < num3:\n",
    "        small = num1\n",
    "    else:\n",
    "        small = num3\n",
    "elif num2 < num3:\n",
    "    small = num2\n",
    "else:\n",
    "    small = num3\n",
    "\n",
    "print(small)"
   ]
  },
  {
   "cell_type": "code",
   "execution_count": 5,
   "id": "b4d97671-00eb-4cdd-86e4-6e2e681bbdb6",
   "metadata": {},
   "outputs": [
    {
     "name": "stdin",
     "output_type": "stream",
     "text": [
      " 1\n",
      " 2\n",
      " 3\n"
     ]
    },
    {
     "name": "stdout",
     "output_type": "stream",
     "text": [
      "3 1\n"
     ]
    }
   ],
   "source": [
    "num1 = int(input())\n",
    "num2 = int(input())\n",
    "num3 = int(input())\n",
    "\n",
    "big = num1\n",
    "small = num1\n",
    "\n",
    "if num1 > num2 and num1 > num3:\n",
    "    big = num1\n",
    "elif num2 > num1 and num2 > num3:\n",
    "    big = num2\n",
    "else:\n",
    "    big = num3\n",
    "    \n",
    "if num1 < num2 and num1 < num3:\n",
    "    small = num1\n",
    "elif num2 < num1 and num2 < num3:\n",
    "    small = num2\n",
    "else:\n",
    "    small = num3\n",
    "    \n",
    "print(big , small)"
   ]
  }
 ],
 "metadata": {
  "kernelspec": {
   "display_name": "Python 3 (ipykernel)",
   "language": "python",
   "name": "python3"
  },
  "language_info": {
   "codemirror_mode": {
    "name": "ipython",
    "version": 3
   },
   "file_extension": ".py",
   "mimetype": "text/x-python",
   "name": "python",
   "nbconvert_exporter": "python",
   "pygments_lexer": "ipython3",
   "version": "3.9.7"
  }
 },
 "nbformat": 4,
 "nbformat_minor": 5
}
