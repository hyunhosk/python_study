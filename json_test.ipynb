{
 "cells": [
  {
   "cell_type": "code",
   "execution_count": 35,
   "id": "19876320-1213-4a19-81d0-31e5d6437aee",
   "metadata": {},
   "outputs": [
    {
     "name": "stdout",
     "output_type": "stream",
     "text": [
      "<class 'dict'>\n"
     ]
    }
   ],
   "source": [
    "import requests\n",
    "import json\n",
    "\n",
    "response = requests.get('https://api.github.com')\n",
    "# print(response.content)\n",
    "# print(response.text)\n",
    "\n",
    "# response.status_code # 200번이면 제대로 연결\n",
    "#if response.status_code == 200:\n",
    "json_object = json.loads(response.text)\n",
    "print(type(json_object))\n",
    "    \n",
    "with open(\"response_text.json\", \"w\") as res_text:\n",
    "    res_text.write(response.text)\n",
    "    #print(json_object)\n",
    "    #print(json_object[\"label_search_url\"])"
   ]
  }
 ],
 "metadata": {
  "kernelspec": {
   "display_name": "Python 3 (ipykernel)",
   "language": "python",
   "name": "python3"
  },
  "language_info": {
   "codemirror_mode": {
    "name": "ipython",
    "version": 3
   },
   "file_extension": ".py",
   "mimetype": "text/x-python",
   "name": "python",
   "nbconvert_exporter": "python",
   "pygments_lexer": "ipython3",
   "version": "3.9.7"
  }
 },
 "nbformat": 4,
 "nbformat_minor": 5
}
