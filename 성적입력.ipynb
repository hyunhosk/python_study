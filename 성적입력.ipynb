{
 "cells": [
  {
   "cell_type": "markdown",
   "id": "154e73d9-2330-408d-a663-7fc718935303",
   "metadata": {},
   "source": [
    "### 성적입력"
   ]
  },
  {
   "cell_type": "code",
   "execution_count": 17,
   "id": "0af7cda2-3f2f-41ba-8a5e-65774d7fd53a",
   "metadata": {},
   "outputs": [
    {
     "name": "stdin",
     "output_type": "stream",
     "text": [
      "이름을 입력하세요. a\n",
      "국어성적을 입력하세요. 1\n",
      "수학성적을 입력하세요. 2\n",
      "영어성적을 입력하세요. 3\n"
     ]
    },
    {
     "name": "stdout",
     "output_type": "stream",
     "text": [
      "{'name': 'a', 'kor': 1, 'math': 2, 'eng': 3}\n",
      "6\n"
     ]
    }
   ],
   "source": [
    "score_dict = dict()\n",
    "name = input('이름을 입력하세요.')\n",
    "kor = int(input('국어성적을 입력하세요.'))\n",
    "math = int(input('수학성적을 입력하세요.'))\n",
    "eng = int(input('영어성적을 입력하세요.'))\n",
    "#total = score_dict['kor'] + score_dict['math'] + score_dict['eng']\n",
    "\n",
    "score_dict['name'] = name\n",
    "score_dict['kor'] = kor\n",
    "score_dict['math'] = math\n",
    "score_dict['eng'] = eng\n",
    "total = score_dict['kor'] + score_dict['math'] + score_dict['eng']\n",
    "#score_dict['total'] = total\n",
    "\n",
    "print(score_dict)\n",
    "print(total)"
   ]
  },
  {
   "cell_type": "code",
   "execution_count": null,
   "id": "831c94c0-6ae7-4804-bba8-f44e785a0dc9",
   "metadata": {},
   "outputs": [],
   "source": []
  },
  {
   "cell_type": "code",
   "execution_count": 14,
   "id": "22f34b55-6f5d-4ce0-96d7-bdaf09d54d9d",
   "metadata": {},
   "outputs": [
    {
     "name": "stdin",
     "output_type": "stream",
     "text": [
      "이름을 입력하세요.(q 입력시 종료.) a\n",
      "국어성적을 입력하세요. 1\n",
      "수학성적을 입력하세요. 2\n",
      "영어성적을 입력하세요. 3\n"
     ]
    },
    {
     "name": "stdout",
     "output_type": "stream",
     "text": [
      "{'name': 'a', 'kor': 1, 'math': 2, 'eng': 3, 'total': 6}\n",
      "[{'name': 'a', 'kor': 1, 'math': 2, 'eng': 3, 'total': 6}]\n"
     ]
    },
    {
     "name": "stdin",
     "output_type": "stream",
     "text": [
      "이름을 입력하세요.(q 입력시 종료.) b\n",
      "국어성적을 입력하세요. 4\n",
      "수학성적을 입력하세요. 5\n",
      "영어성적을 입력하세요. 6\n"
     ]
    },
    {
     "name": "stdout",
     "output_type": "stream",
     "text": [
      "{'name': 'b', 'kor': 4, 'math': 5, 'eng': 6, 'total': 15}\n",
      "[{'name': 'a', 'kor': 1, 'math': 2, 'eng': 3, 'total': 6}, {'name': 'b', 'kor': 4, 'math': 5, 'eng': 6, 'total': 15}]\n"
     ]
    },
    {
     "name": "stdin",
     "output_type": "stream",
     "text": [
      "이름을 입력하세요.(q 입력시 종료.) q\n"
     ]
    }
   ],
   "source": [
    "score_list = list()\n",
    "while True:\n",
    "    score_dict = dict()\n",
    "    name = input('이름을 입력하세요.(q 입력시 종료.)')\n",
    "    if name == 'q':\n",
    "        break\n",
    "    else:\n",
    "        kor = int(input('국어성적을 입력하세요.'))\n",
    "        math = int(input('수학성적을 입력하세요.'))\n",
    "        eng = int(input('영어성적을 입력하세요.'))\n",
    "        total = kor + math + eng\n",
    "\n",
    "        score_dict['name'] = name\n",
    "        score_dict['kor'] = kor\n",
    "        score_dict['math'] = math\n",
    "        score_dict['eng'] = eng\n",
    "        score_dict['total'] = total\n",
    "        \n",
    "        score_list.append(score_dict)\n",
    "        print(score_dict)\n",
    "        print(score_list)"
   ]
  }
 ],
 "metadata": {
  "kernelspec": {
   "display_name": "Python 3 (ipykernel)",
   "language": "python",
   "name": "python3"
  },
  "language_info": {
   "codemirror_mode": {
    "name": "ipython",
    "version": 3
   },
   "file_extension": ".py",
   "mimetype": "text/x-python",
   "name": "python",
   "nbconvert_exporter": "python",
   "pygments_lexer": "ipython3",
   "version": "3.9.7"
  }
 },
 "nbformat": 4,
 "nbformat_minor": 5
}
