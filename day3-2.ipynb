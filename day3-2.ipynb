{
 "cells": [
  {
   "cell_type": "markdown",
   "id": "d8455413-949c-406e-af67-81905759b80d",
   "metadata": {},
   "source": [
    "### function"
   ]
  },
  {
   "cell_type": "code",
   "execution_count": 15,
   "id": "878a4e8c-a3e7-4a64-ae3f-eff72da75af7",
   "metadata": {},
   "outputs": [],
   "source": [
    "def my_function(n, msg): #함수안의 변수는 다른 영역에 생성됨\n",
    "    print('-' * n)\n",
    "    print(msg)\n",
    "    print('-' * n)"
   ]
  },
  {
   "cell_type": "code",
   "execution_count": 17,
   "id": "b6e4e394-5999-49d7-9ecf-8eabc2180bd6",
   "metadata": {},
   "outputs": [
    {
     "name": "stdin",
     "output_type": "stream",
     "text": [
      " 20\n",
      "  hi\n"
     ]
    },
    {
     "name": "stdout",
     "output_type": "stream",
     "text": [
      "--------------------\n",
      "hi\n",
      "--------------------\n",
      "----------\n",
      "hi\n",
      "----------\n",
      "호출 끝\n"
     ]
    }
   ],
   "source": [
    "x = int(input())\n",
    "msg = input(' ')\n",
    "my_function(x, msg)\n",
    "my_function(10, 'hi')\n",
    "print('호출 끝')"
   ]
  },
  {
   "cell_type": "code",
   "execution_count": 29,
   "id": "6556fa89-9d19-47e3-ac01-f02c369cd83a",
   "metadata": {},
   "outputs": [],
   "source": [
    "def my_add(n, m):\n",
    "    add = n + m\n",
    "    print('합을 출력하겠습니다.')\n",
    "    print('%d + %d = %d'%(n, m, n+m))"
   ]
  },
  {
   "cell_type": "code",
   "execution_count": 30,
   "id": "403ac8e0-2ba4-48dd-9b7e-bcfbc41cdc62",
   "metadata": {},
   "outputs": [
    {
     "name": "stdout",
     "output_type": "stream",
     "text": [
      "합을 출력하겠습니다.\n",
      "13 + 20 = 33\n"
     ]
    }
   ],
   "source": [
    "my_add(13,20)"
   ]
  }
 ],
 "metadata": {
  "kernelspec": {
   "display_name": "Python 3 (ipykernel)",
   "language": "python",
   "name": "python3"
  },
  "language_info": {
   "codemirror_mode": {
    "name": "ipython",
    "version": 3
   },
   "file_extension": ".py",
   "mimetype": "text/x-python",
   "name": "python",
   "nbconvert_exporter": "python",
   "pygments_lexer": "ipython3",
   "version": "3.9.7"
  }
 },
 "nbformat": 4,
 "nbformat_minor": 5
}
