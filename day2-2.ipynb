{
 "cells": [
  {
   "cell_type": "markdown",
   "id": "00e21dd5-2de9-4860-8eba-7c426aaf9d95",
   "metadata": {},
   "source": [
    "### 1. 조건문"
   ]
  },
  {
   "cell_type": "code",
   "execution_count": 20,
   "id": "379ba323-de13-41c8-8448-d72f7b758161",
   "metadata": {},
   "outputs": [
    {
     "name": "stdin",
     "output_type": "stream",
     "text": [
      "나이를 입력하세요 10\n"
     ]
    },
    {
     "name": "stdout",
     "output_type": "stream",
     "text": [
      "성인이 아닙니다.\n"
     ]
    }
   ],
   "source": [
    "age = int(input('나이를 입력하세요'))\n",
    "if age >= 60:\n",
    "    print('노년 입니다.')\n",
    "elif age >= 40:\n",
    "    print('중년 입니다.')\n",
    "elif age >= 20:\n",
    "    print('성인 입니다.')\n",
    "else:\n",
    "    print('성인이 아닙니다.')"
   ]
  },
  {
   "cell_type": "code",
   "execution_count": 28,
   "id": "7c1a3693-e70c-4cac-a408-715cceab0815",
   "metadata": {},
   "outputs": [
    {
     "name": "stdin",
     "output_type": "stream",
     "text": [
      "학점을 입력하세요 33\n"
     ]
    },
    {
     "name": "stdout",
     "output_type": "stream",
     "text": [
      "D 입니다.\n"
     ]
    }
   ],
   "source": [
    "score = int(input('학점을 입력하세요'))\n",
    "if score>=90:\n",
    "    print('A 입니다.')\n",
    "elif score>=70:\n",
    "    print('B 입니다.')\n",
    "elif score>=50:\n",
    "    print('C 입니다.')\n",
    "elif score>=30:\n",
    "    print('D 입니다.')\n",
    "else:\n",
    "    print('F 입니다.')"
   ]
  },
  {
   "cell_type": "code",
   "execution_count": 33,
   "id": "db60b767-526d-4e9b-84d0-48b653ecb008",
   "metadata": {},
   "outputs": [
    {
     "name": "stdin",
     "output_type": "stream",
     "text": [
      "숫자를 입력하세요 5\n"
     ]
    },
    {
     "name": "stdout",
     "output_type": "stream",
     "text": [
      "홀수 입니다.\n"
     ]
    }
   ],
   "source": [
    "num = int(input('숫자를 입력하세요'))\n",
    "if num%2==0:\n",
    "    print('짝수 입니다.')\n",
    "else:\n",
    "    print('홀수 입니다.')"
   ]
  },
  {
   "cell_type": "code",
   "execution_count": 40,
   "id": "94e64d86-90dc-485b-ad5c-dc2ad55681fb",
   "metadata": {},
   "outputs": [
    {
     "name": "stdin",
     "output_type": "stream",
     "text": [
      "숫자를 입력하세요. 9\n"
     ]
    },
    {
     "name": "stdout",
     "output_type": "stream",
     "text": [
      "홀수 입니다.\n"
     ]
    }
   ],
   "source": [
    "num = int(input('숫자를 입력하세요.'))\n",
    "\n",
    "if num > 0:\n",
    "    if num % 2 == 0:\n",
    "        print('짝수 입니다.')\n",
    "    else:\n",
    "        print('홀수 입니다.')\n",
    "else:\n",
    "    print('음수 입니다.')"
   ]
  },
  {
   "cell_type": "markdown",
   "id": "9502827b-4647-4bd1-825a-691dc0448353",
   "metadata": {},
   "source": [
    "### 2. 반복문"
   ]
  },
  {
   "cell_type": "markdown",
   "id": "a63ba709-de2d-4aab-a5e6-f5d63eebdd75",
   "metadata": {},
   "source": [
    "##### 1~10 출력"
   ]
  },
  {
   "cell_type": "code",
   "execution_count": 50,
   "id": "cde9a219-39c6-46e3-b81d-7f83da517ef5",
   "metadata": {},
   "outputs": [
    {
     "name": "stdout",
     "output_type": "stream",
     "text": [
      "1\n",
      "hello 1\n",
      "2\n",
      "hello 2\n",
      "3\n",
      "hello 3\n",
      "4\n",
      "hello 4\n",
      "5\n",
      "hello 5\n",
      "6\n",
      "hello 6\n",
      "7\n",
      "hello 7\n",
      "8\n",
      "hello 8\n",
      "9\n",
      "hello 9\n",
      "10\n",
      "hello 10\n"
     ]
    }
   ],
   "source": [
    "i=1\n",
    "while i<=10:\n",
    "    print(i)\n",
    "    print('hello', str(i))\n",
    "    i += 1"
   ]
  },
  {
   "cell_type": "markdown",
   "id": "3e2b9312-f4ec-48c9-baa0-14368ee45db0",
   "metadata": {},
   "source": [
    "##### 5의 배수만 출력"
   ]
  },
  {
   "cell_type": "code",
   "execution_count": 55,
   "id": "439406e9-3d92-4f2b-81f3-d0b84c3d94a1",
   "metadata": {},
   "outputs": [
    {
     "name": "stdout",
     "output_type": "stream",
     "text": [
      "5\n",
      "10\n",
      "15\n",
      "20\n",
      "25\n",
      "30\n",
      "35\n",
      "40\n",
      "45\n",
      "50\n",
      "55\n",
      "60\n",
      "65\n",
      "70\n",
      "75\n",
      "80\n",
      "85\n",
      "90\n",
      "95\n",
      "100\n"
     ]
    }
   ],
   "source": [
    "i=1\n",
    "while i<=100:\n",
    "    if i % 5 == 0 :\n",
    "        print(i)\n",
    "    i += 1"
   ]
  },
  {
   "cell_type": "markdown",
   "id": "65d10dd9-e81c-4dfc-8ed3-0664cc9b089e",
   "metadata": {},
   "source": [
    "### 3. range 함수"
   ]
  },
  {
   "cell_type": "code",
   "execution_count": 61,
   "id": "b7efd2d4-685f-40c6-b4fc-cc0377fdb0ca",
   "metadata": {},
   "outputs": [
    {
     "name": "stdout",
     "output_type": "stream",
     "text": [
      "range(0, 5)\n",
      "range(0, 10)\n",
      "0\n",
      "1\n",
      "2\n",
      "3\n",
      "4\n",
      "1\n",
      "2\n",
      "3\n",
      "4\n",
      "5\n",
      "1\n",
      "2\n",
      "3\n",
      "4\n",
      "5\n"
     ]
    }
   ],
   "source": [
    "print(range(5))\n",
    "print(range(10))\n",
    "\n",
    "for i in range(5):\n",
    "    print(i)\n",
    "\n",
    "for i in range(5):\n",
    "    print(i + 1)\n",
    "    \n",
    "for i in range(1,6):\n",
    "    print(i)"
   ]
  },
  {
   "cell_type": "code",
   "execution_count": 67,
   "id": "b3f058f3-9f6f-4c8e-a0ca-c7b95ce94e8f",
   "metadata": {},
   "outputs": [
    {
     "name": "stdin",
     "output_type": "stream",
     "text": [
      "a 10.5\n"
     ]
    },
    {
     "name": "stdout",
     "output_type": "stream",
     "text": [
      "abc\n"
     ]
    }
   ],
   "source": [
    "a = float(input('a'))\n",
    "if a > 0:\n",
    "    print('abc')"
   ]
  },
  {
   "cell_type": "markdown",
   "id": "b0f72d63-a2d8-439a-b19c-4e91648cbbb8",
   "metadata": {},
   "source": [
    "### 4. 컬렉션"
   ]
  },
  {
   "cell_type": "code",
   "execution_count": 74,
   "id": "8bfa964b-9bb5-4f3e-9d20-e29ebbfe0020",
   "metadata": {},
   "outputs": [
    {
     "name": "stdout",
     "output_type": "stream",
     "text": [
      "<class 'int'>\n"
     ]
    }
   ],
   "source": [
    "a = (1, 2, 3)\n",
    "print(type(a[1]))"
   ]
  },
  {
   "cell_type": "markdown",
   "id": "d8219b28-28c0-41ad-a006-05827a45bd3b",
   "metadata": {},
   "source": [
    "##### list"
   ]
  },
  {
   "cell_type": "code",
   "execution_count": 106,
   "id": "161adf46-6d0d-407a-9ac9-9c49521d8f36",
   "metadata": {},
   "outputs": [
    {
     "name": "stdout",
     "output_type": "stream",
     "text": [
      "['사과', '배', '귤', '감', '포도', '복숭아']\n",
      "<class 'list'>\n",
      "6\n",
      "사과\n",
      "배 귤\n",
      "<class 'str'>\n",
      "나는 사과를 좋아합니다.\n",
      "나는 배를 좋아합니다.\n",
      "나는 귤를 좋아합니다.\n",
      "나는 감를 좋아합니다.\n",
      "나는 포도를 좋아합니다.\n",
      "나는 복숭아를 좋아합니다.\n",
      "['감', '포도', '복숭아']\n",
      "['오렌지', '배', '귤', '감', '포도', '복숭아']\n"
     ]
    },
    {
     "name": "stdin",
     "output_type": "stream",
     "text": [
      "과일을 입력하세요. 수박\n"
     ]
    },
    {
     "name": "stdout",
     "output_type": "stream",
     "text": [
      "['오렌지', '배', '귤', '감', '포도', '수박']\n"
     ]
    }
   ],
   "source": [
    "fruits = ['사과', '배', '귤', '감', '포도', '복숭아']\n",
    "print(fruits)\n",
    "print(type(fruits))\n",
    "print(len(fruits))\n",
    "print(fruits[0])\n",
    "print(fruits[1],fruits[2])\n",
    "print(type(fruits[0]))\n",
    "\n",
    "for i in fruits:\n",
    "    print('나는 '+i+'를 좋아합니다.')\n",
    "\n",
    "print(fruits[3:])\n",
    "\n",
    "fruits[0] = '오렌지'\n",
    "\n",
    "print(fruits)\n",
    "\n",
    "fruit = input('과일을 입력하세요.')\n",
    "fruits[5] = fruit\n",
    "print(fruits)"
   ]
  },
  {
   "cell_type": "markdown",
   "id": "fc09a501-1e3b-49bc-9dcd-ca7b240b5eb5",
   "metadata": {},
   "source": [
    "##### 리스트 + 반복문"
   ]
  },
  {
   "cell_type": "code",
   "execution_count": 133,
   "id": "76929108-dac3-4df7-9a4c-0d87ad7166f2",
   "metadata": {},
   "outputs": [
    {
     "name": "stdout",
     "output_type": "stream",
     "text": [
      "[1, 2, 3, 4, 5, 6, 7, 8, 9, 10]\n",
      "<class 'list'>\n",
      "6\n",
      "<class 'int'>\n",
      "10\n",
      "55\n",
      "30\n",
      "5\n",
      "[1, 2, 3, 4, 5, 6, 7, 8, 9, 10, 11]\n"
     ]
    }
   ],
   "source": [
    "number = [1, 2, 3, 4, 5, 6, 7, 8, 9, 10]\n",
    "print(number)\n",
    "print(type(number))\n",
    "print(number[5])\n",
    "print(type(number[5]))\n",
    "print(len(number))\n",
    "\n",
    "total = 0\n",
    "for i in number:\n",
    "    total += i \n",
    "print(total)\n",
    "\n",
    "total1 = 0\n",
    "count = 0\n",
    "for i in number:\n",
    "    if i % 2 == 0:\n",
    "        total1 += i\n",
    "        count += 1\n",
    "print(total1)\n",
    "print(count)\n",
    "\n",
    "number.append(11)\n",
    "print(number)"
   ]
  }
 ],
 "metadata": {
  "kernelspec": {
   "display_name": "Python 3 (ipykernel)",
   "language": "python",
   "name": "python3"
  },
  "language_info": {
   "codemirror_mode": {
    "name": "ipython",
    "version": 3
   },
   "file_extension": ".py",
   "mimetype": "text/x-python",
   "name": "python",
   "nbconvert_exporter": "python",
   "pygments_lexer": "ipython3",
   "version": "3.9.7"
  }
 },
 "nbformat": 4,
 "nbformat_minor": 5
}
