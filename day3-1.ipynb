{
 "cells": [
  {
   "cell_type": "markdown",
   "id": "faae5ab3-b8ae-49b6-8984-47a6ba74ed18",
   "metadata": {},
   "source": [
    "### 1. break continue"
   ]
  },
  {
   "cell_type": "markdown",
   "id": "0bcd3da5-b102-483e-88ef-0fea75e81f2a",
   "metadata": {},
   "source": [
    "### break"
   ]
  },
  {
   "cell_type": "code",
   "execution_count": 2,
   "id": "7d0f6863-5cc5-4c14-822f-a769c5daf28c",
   "metadata": {},
   "outputs": [
    {
     "name": "stdout",
     "output_type": "stream",
     "text": [
      "1\n",
      "2\n"
     ]
    }
   ],
   "source": [
    "i = 1\n",
    "while i < 6:\n",
    "    if i == 3:\n",
    "        break\n",
    "    print(i)\n",
    "    \n",
    "    i += 1"
   ]
  },
  {
   "cell_type": "markdown",
   "id": "e7100357-7ba5-4762-897a-7567c79c93bd",
   "metadata": {},
   "source": [
    "### continue"
   ]
  },
  {
   "cell_type": "code",
   "execution_count": 3,
   "id": "db6a75f2-7e3b-4d44-b706-8d3c1aa2c279",
   "metadata": {},
   "outputs": [
    {
     "name": "stdout",
     "output_type": "stream",
     "text": [
      "1\n",
      "2\n",
      "4\n",
      "5\n",
      "6\n"
     ]
    }
   ],
   "source": [
    "i = 0 \n",
    "while i < 6:\n",
    "    i += 1\n",
    "    \n",
    "    if i == 3:\n",
    "        continue\n",
    "    print(i)"
   ]
  },
  {
   "cell_type": "markdown",
   "id": "8f7817b0-4022-4609-b4a2-012f74d2a292",
   "metadata": {},
   "source": [
    "### while ~ else"
   ]
  },
  {
   "cell_type": "code",
   "execution_count": 8,
   "id": "55d76cb0-fda6-4de4-9725-c7284cd35598",
   "metadata": {},
   "outputs": [
    {
     "name": "stdout",
     "output_type": "stream",
     "text": [
      "1\n",
      "2\n",
      "3\n",
      "4\n",
      "5\n",
      " end \n"
     ]
    }
   ],
   "source": [
    "i = 1\n",
    "while i < 6:\n",
    "    print(i)\n",
    "    i += 1\n",
    "else:       #while 끝난 후 else 실행\n",
    "    print(' end ' )     "
   ]
  },
  {
   "cell_type": "markdown",
   "id": "fefb6c38-c6ab-44ec-b675-037915c2ce49",
   "metadata": {},
   "source": [
    "### 2. list"
   ]
  },
  {
   "cell_type": "code",
   "execution_count": 24,
   "id": "f52f7487-ddce-45b9-8a47-09b262f5229f",
   "metadata": {},
   "outputs": [
    {
     "name": "stdout",
     "output_type": "stream",
     "text": [
      "[] <class 'list'>\n",
      "['suv', 'suv'] <class 'list'>\n"
     ]
    }
   ],
   "source": [
    "my_fruits = list()\n",
    "my_cars = list()\n",
    "\n",
    "print(my_fruits, type(my_fruits))\n",
    "print(my_car, type(my_car))"
   ]
  },
  {
   "cell_type": "code",
   "execution_count": 36,
   "id": "2929ff77-fbeb-49c1-abc1-b6657a1906fc",
   "metadata": {},
   "outputs": [
    {
     "name": "stdout",
     "output_type": "stream",
     "text": [
      "['orange', 'orange', 'banana', 'apple', 'apple', 'orange', 'banana'] <class 'list'>\n",
      "['suv', 'suv'] <class 'list'>\n"
     ]
    }
   ],
   "source": [
    "my_fruits.append('apple')\n",
    "my_fruits.append('orange')\n",
    "my_fruits.append('banana')\n",
    "my_cars.append('suv')\n",
    "print(my_fruits, type(my_fruits))\n",
    "print(my_car, type(my_car))"
   ]
  },
  {
   "cell_type": "code",
   "execution_count": 29,
   "id": "8f54bf7e-80ad-4b1d-84af-606c5662cd68",
   "metadata": {},
   "outputs": [
    {
     "name": "stdout",
     "output_type": "stream",
     "text": [
      "['apple', 'orange', 'banana', 'orange', 'orange'] <class 'list'>\n",
      "['suv'] <class 'list'>\n"
     ]
    }
   ],
   "source": [
    "my_fruits.insert(10,'orange')\n",
    "print(my_fruits, type(my_fruits))\n",
    "print(my_cars, type(my_car))"
   ]
  },
  {
   "cell_type": "code",
   "execution_count": 28,
   "id": "e6d3361e-7627-43a8-8f87-e2ad6cf12753",
   "metadata": {},
   "outputs": [
    {
     "name": "stdout",
     "output_type": "stream",
     "text": [
      "4\n",
      "1\n"
     ]
    }
   ],
   "source": [
    "print(len(my_fruits))\n",
    "print(len(my_cars))"
   ]
  },
  {
   "cell_type": "code",
   "execution_count": 32,
   "id": "1adb3a14-406d-4bed-b4a1-c6cfac9e8c31",
   "metadata": {},
   "outputs": [
    {
     "name": "stdout",
     "output_type": "stream",
     "text": [
      "['banana', 'orange']\n",
      "['orange']\n"
     ]
    }
   ],
   "source": [
    "print(my_fruits)\n",
    "\n",
    "my_fruits.remove(my_fruits[0])\n",
    "print(my_fruits)"
   ]
  },
  {
   "cell_type": "code",
   "execution_count": 35,
   "id": "1e1b3886-1dfc-47d0-a44b-0c3e2aed6c87",
   "metadata": {},
   "outputs": [
    {
     "name": "stdout",
     "output_type": "stream",
     "text": [
      "['apple', 'banana', 'orange', 'orange']\n",
      "['orange', 'orange', 'banana', 'apple']\n"
     ]
    }
   ],
   "source": [
    "print(my_fruits)\n",
    "\n",
    "my_fruits.sort(reverse = True)\n",
    "print(my_fruits)"
   ]
  },
  {
   "cell_type": "code",
   "execution_count": 40,
   "id": "dd7b2987-968b-49fa-8eff-dde91f15bc5b",
   "metadata": {},
   "outputs": [
    {
     "name": "stdout",
     "output_type": "stream",
     "text": [
      "['orange', 'orange', 'banana', 'orange']\n",
      "orange\n",
      "['orange', 'orange', 'banana']\n"
     ]
    }
   ],
   "source": [
    "print(my_fruits)\n",
    "a = my_fruits.pop(1)\n",
    "print(a)\n",
    "print(my_fruits)"
   ]
  },
  {
   "cell_type": "markdown",
   "id": "5efe31c3-bf74-48f9-a019-e824e83bf4d1",
   "metadata": {},
   "source": [
    "### 3. tuple"
   ]
  },
  {
   "cell_type": "code",
   "execution_count": 49,
   "id": "d50daf3e-df23-4af2-a97d-f2dd04e4fd8d",
   "metadata": {},
   "outputs": [
    {
     "name": "stdout",
     "output_type": "stream",
     "text": [
      "() <class 'tuple'>\n",
      "() <class 'tuple'>\n"
     ]
    }
   ],
   "source": [
    "my_car = tuple()\n",
    "my_fruits = ()\n",
    "\n",
    "print(my_fruits, type(my_fruits))\n",
    "print(my_car, type(my_car))"
   ]
  },
  {
   "cell_type": "code",
   "execution_count": 61,
   "id": "5dc49124-1232-4f38-ac3e-862541da0488",
   "metadata": {},
   "outputs": [
    {
     "name": "stdout",
     "output_type": "stream",
     "text": [
      "('orange', 'apple', 'banana', 'apple') <class 'tuple'>\n"
     ]
    }
   ],
   "source": [
    "my_fruits = ('orange', 'apple', 'banana', 'apple')\n",
    "\n",
    "print(my_fruits, type(my_fruits))"
   ]
  },
  {
   "cell_type": "markdown",
   "id": "01322973-df2f-41a1-b6e5-0886eb412a51",
   "metadata": {},
   "source": [
    "## tuple -> list\n",
    "## list -> tuple"
   ]
  },
  {
   "cell_type": "code",
   "execution_count": 73,
   "id": "8adcdc22-2171-4558-afd8-752cce0bad0e",
   "metadata": {},
   "outputs": [
    {
     "name": "stdout",
     "output_type": "stream",
     "text": [
      "['orange', 'apple', 'banana', 'apple'] <class 'list'>\n",
      "['orange', 'apple', 'banana', 'apple', 'mango']\n",
      "<class 'tuple'>\n",
      "('orange', 'apple', 'banana', 'apple', 'mango')\n",
      "2\n"
     ]
    }
   ],
   "source": [
    "my_fruits_list = list(my_fruits)  #튜플 -> 리스트\n",
    "print(my_fruits_list, type(my_fruits_list))\n",
    "\n",
    "my_fruits_list.append('mango') \n",
    "print(my_fruits_list)\n",
    "\n",
    "my_fruits_tuple = tuple(my_fruits_list) #리스트 -> 튜플\n",
    "print(type(my_fruits_tuple))\n",
    "\n",
    "a = my_fruits_tuple.count('apple')\n",
    "print(my_fruits_tuple)\n",
    "print(a)"
   ]
  },
  {
   "cell_type": "markdown",
   "id": "52bd04f2-39b5-4428-b297-0a626869afa7",
   "metadata": {},
   "source": [
    "### 3. set"
   ]
  },
  {
   "cell_type": "markdown",
   "id": "d9e3762c-0a30-4453-b7c1-404ea80ebb4b",
   "metadata": {},
   "source": [
    "##### 만들기"
   ]
  },
  {
   "cell_type": "code",
   "execution_count": 78,
   "id": "d5ac8051-4edf-4c43-8e51-2dd7103606fb",
   "metadata": {},
   "outputs": [
    {
     "name": "stdout",
     "output_type": "stream",
     "text": [
      "{'gia', 'hyundai', 'bmw'}\n",
      "<class 'dict'>\n"
     ]
    }
   ],
   "source": [
    "my_fruits = {}\n",
    "my_car = set()\n",
    "\n",
    "my_car.add('bmw')\n",
    "my_car.add('bmw')\n",
    "my_car.add('hyundai')\n",
    "my_car.add('gia')\n",
    "\n",
    "print(my_car)\n",
    "print(type(my_fruits))"
   ]
  },
  {
   "cell_type": "code",
   "execution_count": 79,
   "id": "d1155b7e-626c-4d30-9e3a-901447fc6ca6",
   "metadata": {},
   "outputs": [
    {
     "name": "stdout",
     "output_type": "stream",
     "text": [
      "True\n"
     ]
    }
   ],
   "source": [
    "print('bmw' in my_car)"
   ]
  },
  {
   "cell_type": "markdown",
   "id": "ad2ca312-6f16-46bd-afa0-a9669820702b",
   "metadata": {},
   "source": [
    "##### 입력받아서 추가"
   ]
  },
  {
   "cell_type": "code",
   "execution_count": 84,
   "id": "f0400eed-9d1c-47f9-8dcf-c1d0d7dcce7a",
   "metadata": {},
   "outputs": [
    {
     "name": "stdin",
     "output_type": "stream",
     "text": [
      "점수입력 30\n"
     ]
    },
    {
     "name": "stdout",
     "output_type": "stream",
     "text": [
      "[30]\n"
     ]
    }
   ],
   "source": [
    "score_list = list()\n",
    "score = int(input('점수입력'))\n",
    "score_list.append(score)\n",
    "print(score_list)"
   ]
  },
  {
   "cell_type": "markdown",
   "id": "91a975eb-6db0-4db3-957b-449556e2376c",
   "metadata": {},
   "source": [
    "##### 5개 입력받아서 리스트에 추가"
   ]
  },
  {
   "cell_type": "code",
   "execution_count": 87,
   "id": "61c76225-197e-44e4-afbf-95820d04f112",
   "metadata": {},
   "outputs": [
    {
     "name": "stdin",
     "output_type": "stream",
     "text": [
      "점수입력 10\n",
      "점수입력 20\n",
      "점수입력 30\n",
      "점수입력 40\n",
      "점수입력 50\n"
     ]
    },
    {
     "name": "stdout",
     "output_type": "stream",
     "text": [
      "[10, 20, 30, 40, 50]\n"
     ]
    },
    {
     "name": "stdin",
     "output_type": "stream",
     "text": [
      "점수 입력 10\n",
      "점수 입력 20\n",
      "점수 입력 30\n",
      "점수 입력 40\n",
      "점수 입력 50\n"
     ]
    },
    {
     "name": "stdout",
     "output_type": "stream",
     "text": [
      "[10, 20, 30, 40, 50]\n"
     ]
    }
   ],
   "source": [
    "list_for = list()\n",
    "for i in range(5):\n",
    "    score = int(input('점수입력'))\n",
    "    list_for.append(score)\n",
    "print(list_for)\n",
    "\n",
    "list_while = list()\n",
    "i = 1\n",
    "while i < 6:\n",
    "    score2 = int(input('점수 입력'))\n",
    "    list_while.append(score2)\n",
    "    i += 1\n",
    "print(list_while)\n"
   ]
  },
  {
   "cell_type": "code",
   "execution_count": 88,
   "id": "7a64dd10-9b25-438f-865c-1bd153886446",
   "metadata": {},
   "outputs": [
    {
     "name": "stdin",
     "output_type": "stream",
     "text": [
      "1번째 점수를 입력하세요. 1\n",
      "2번째 점수를 입력하세요. 2\n",
      "3번째 점수를 입력하세요. 3\n",
      "4번째 점수를 입력하세요. 4\n",
      "5번째 점수를 입력하세요. 5\n"
     ]
    },
    {
     "name": "stdout",
     "output_type": "stream",
     "text": [
      "15\n"
     ]
    }
   ],
   "source": [
    "total = 0\n",
    "list_total = list()\n",
    "for n in range(1,6):\n",
    "    score = int(input('%d번째 점수를 입력하세요.'%n))\n",
    "    list_total.append(score)\n",
    "for n in list_total:\n",
    "    total = total + n\n",
    "print(total)"
   ]
  },
  {
   "cell_type": "code",
   "execution_count": 90,
   "id": "254520df-11c9-4e83-8eab-74b32ccb5903",
   "metadata": {},
   "outputs": [
    {
     "name": "stdin",
     "output_type": "stream",
     "text": [
      "1번째 점수를 입력하세요. 10\n",
      "2번째 점수를 입력하세요. 20\n",
      "3번째 점수를 입력하세요. 30\n",
      "4번째 점수를 입력하세요. 40\n",
      "5번째 점수를 입력하세요. 50\n"
     ]
    },
    {
     "name": "stdout",
     "output_type": "stream",
     "text": [
      "150\n"
     ]
    }
   ],
   "source": [
    "total = 0\n",
    "list_total = list()\n",
    "i = 1\n",
    "while i < 6:\n",
    "    score = int(input('%d번째 점수를 입력하세요.' %(i)))\n",
    "    list_total.append(score)\n",
    "    total = total + list_total[i-1]\n",
    "    i += 1\n",
    "print(total)"
   ]
  },
  {
   "cell_type": "markdown",
   "id": "fda80522-4999-4734-88a3-c87490668e98",
   "metadata": {},
   "source": [
    "### 4. dictionary"
   ]
  },
  {
   "cell_type": "code",
   "execution_count": 102,
   "id": "cc0e6d20-45e8-47dd-a514-a4ae7c0d265c",
   "metadata": {},
   "outputs": [
    {
     "name": "stdout",
     "output_type": "stream",
     "text": [
      "{'name': '사공현호', 'age': 28, 'gender': True} <class 'dict'>\n",
      "3\n"
     ]
    }
   ],
   "source": [
    "my_dict = {'name' : '사공현호',\n",
    "           'age' : 28, \n",
    "           'gender' : True}\n",
    "\n",
    "print(my_dict, type(my_dict))\n",
    "print(len(my_dict))"
   ]
  },
  {
   "cell_type": "code",
   "execution_count": 97,
   "id": "103345cd-4b84-447d-97b5-445f4e85347f",
   "metadata": {},
   "outputs": [
    {
     "name": "stdout",
     "output_type": "stream",
     "text": [
      "dict_keys(['name', 'age', 'gender']) <class 'dict_keys'>\n",
      "dict_values(['사공현호', 28, True]) <class 'dict_values'>\n",
      "dict_items([('name', '사공현호'), ('age', 28), ('gender', True)]) <class 'dict_items'>\n"
     ]
    }
   ],
   "source": [
    "keys = my_dict.keys()\n",
    "values = my_dict.values()\n",
    "items = my_dict.items()\n",
    "print(keys, type(keys))\n",
    "print(values, type(values))\n",
    "print(items, type(items))"
   ]
  },
  {
   "cell_type": "code",
   "execution_count": 99,
   "id": "ad719894-1691-4cfc-8704-9a1eb4f05da1",
   "metadata": {},
   "outputs": [
    {
     "name": "stdout",
     "output_type": "stream",
     "text": [
      "사공현호 <class 'str'>\n",
      "사공현호\n"
     ]
    }
   ],
   "source": [
    "name = my_dict.get('name')\n",
    "print(name, type(name))\n",
    "\n",
    "name = my_dict['name']\n",
    "print(name)"
   ]
  },
  {
   "cell_type": "code",
   "execution_count": 103,
   "id": "2480bbeb-fc33-4c2e-b43a-2df1f54e27bf",
   "metadata": {},
   "outputs": [
    {
     "name": "stdout",
     "output_type": "stream",
     "text": [
      "{'name': '사공현호', 'age': 28, 'gender': True}\n",
      "{'name': '사공현호', 'age': 30, 'gender': True, 'addr': 'seoul'}\n"
     ]
    }
   ],
   "source": [
    "print(my_dict)\n",
    "my_dict['age'] = 30\n",
    "my_dict['addr'] = 'seoul'\n",
    "print(my_dict)"
   ]
  },
  {
   "cell_type": "code",
   "execution_count": 3,
   "id": "f043f42b-6810-49de-a525-dcc8f1fe0c7a",
   "metadata": {},
   "outputs": [
    {
     "name": "stdout",
     "output_type": "stream",
     "text": [
      "[{'name': '홍길동', 'age': 22, 'gender': '남'}, {'name': '임꺽정', 'age': 30, 'gender': '남'}] <class 'list'>\n"
     ]
    }
   ],
   "source": [
    "person = [\n",
    "    {'name' : '홍길동',\n",
    "     'age' : 22,\n",
    "     'gender' : '남'},\n",
    "    {'name' : '임꺽정',\n",
    "     'age' : 30,\n",
    "     'gender' : '남'}\n",
    "]\n",
    "\n",
    "print(person, type(person))"
   ]
  },
  {
   "cell_type": "code",
   "execution_count": 4,
   "id": "2de82bff-268e-4e75-b198-172acd3506b4",
   "metadata": {},
   "outputs": [
    {
     "name": "stdout",
     "output_type": "stream",
     "text": [
      "['홍길동', '임꺽정']\n",
      "[22, 30]\n",
      "['남', '남']\n",
      "[dict_values(['홍길동', 22, '남']), dict_values(['임꺽정', 30, '남'])]\n",
      "[dict_keys(['name', 'age', 'gender']), dict_keys(['name', 'age', 'gender'])]\n",
      "[dict_items([('name', '홍길동'), ('age', 22), ('gender', '남')]), dict_items([('name', '임꺽정'), ('age', 30), ('gender', '남')])]\n"
     ]
    }
   ],
   "source": [
    "name_list = list()\n",
    "age_list = list()\n",
    "gender_list = list()\n",
    "for i in person:        #key값만 모으기\n",
    "    name_list.append(i['name'])\n",
    "    age_list.append(i['age'])\n",
    "    gender_list.append(i['gender'])\n",
    "print(name_list)\n",
    "print(age_list)\n",
    "print(gender_list)\n",
    "\n",
    "value_l = list()\n",
    "key_l = list()\n",
    "item_l = list()\n",
    "for i in person:       # value, key, item값 별로 모으기\n",
    "    value_l.append(i.values())\n",
    "    key_l.append(i.keys())\n",
    "    item_l.append(i.items())\n",
    "print(value_l)\n",
    "print(key_l)\n",
    "print(item_l)\n",
    "    "
   ]
  }
 ],
 "metadata": {
  "kernelspec": {
   "display_name": "Python 3 (ipykernel)",
   "language": "python",
   "name": "python3"
  },
  "language_info": {
   "codemirror_mode": {
    "name": "ipython",
    "version": 3
   },
   "file_extension": ".py",
   "mimetype": "text/x-python",
   "name": "python",
   "nbconvert_exporter": "python",
   "pygments_lexer": "ipython3",
   "version": "3.9.7"
  }
 },
 "nbformat": 4,
 "nbformat_minor": 5
}
