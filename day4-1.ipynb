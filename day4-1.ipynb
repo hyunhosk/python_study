{
 "cells": [
  {
   "cell_type": "markdown",
   "id": "5af36059-21c3-4fa6-8e2a-79f25a8d0336",
   "metadata": {},
   "source": [
    "### 1. return"
   ]
  },
  {
   "cell_type": "code",
   "execution_count": 7,
   "id": "da3a8943-08d5-4612-b1c2-a3ed04ff84b3",
   "metadata": {},
   "outputs": [],
   "source": [
    "def my_add(a, b):\n",
    "    x = a + b\n",
    "    \n",
    "    #return x"
   ]
  },
  {
   "cell_type": "code",
   "execution_count": 8,
   "id": "ee2c94d0-1954-44ff-8c60-3e80d40c1cf1",
   "metadata": {},
   "outputs": [
    {
     "name": "stdout",
     "output_type": "stream",
     "text": [
      "None\n"
     ]
    }
   ],
   "source": [
    "a = my_add(10, 20)\n",
    "print(a)"
   ]
  },
  {
   "cell_type": "markdown",
   "id": "7de17253-c28e-485d-a45b-b711c3304470",
   "metadata": {},
   "source": [
    "-----"
   ]
  },
  {
   "cell_type": "code",
   "execution_count": 17,
   "id": "f1719042-5d12-454f-b20b-c6a278efd1f7",
   "metadata": {},
   "outputs": [],
   "source": [
    "def my_evenodd(n):\n",
    "    if n % 2 == 0:\n",
    "        return '짝수'\n",
    "        #s = '짝'\n",
    "    else:\n",
    "        return '홀수'\n",
    "        #s = '홀'"
   ]
  },
  {
   "cell_type": "code",
   "execution_count": 16,
   "id": "f6e3cb0d-cbd3-4729-a1d0-478a22f90d6d",
   "metadata": {},
   "outputs": [
    {
     "name": "stdin",
     "output_type": "stream",
     "text": [
      "숫자입력하세요. 19\n"
     ]
    },
    {
     "name": "stdout",
     "output_type": "stream",
     "text": [
      "홀\n"
     ]
    }
   ],
   "source": [
    "n = int(input('숫자입력하세요.'))\n",
    "a = my_evenodd(n)\n",
    "print(a)"
   ]
  },
  {
   "cell_type": "code",
   "execution_count": 22,
   "id": "739763df-2b54-401c-a1ee-b07afc0136ef",
   "metadata": {},
   "outputs": [],
   "source": [
    "def my_addsub(a, b):\n",
    "    add = a + b\n",
    "    sub = a - b\n",
    "    \n",
    "    return add, sub"
   ]
  },
  {
   "cell_type": "code",
   "execution_count": 27,
   "id": "e4facd34-4f17-4639-8eea-c258e002bc2a",
   "metadata": {},
   "outputs": [
    {
     "name": "stdout",
     "output_type": "stream",
     "text": [
      "<class 'tuple'>\n",
      "15 5\n",
      "[15, 5]\n"
     ]
    }
   ],
   "source": [
    "y = my_addsub(10, 5)\n",
    "print(type(y))\n",
    "print(y[0], y[1])\n",
    "z = list(y)\n",
    "print(z)"
   ]
  },
  {
   "cell_type": "markdown",
   "id": "d3b957fa-5f65-4b94-8445-44eef87e0c7d",
   "metadata": {},
   "source": [
    "-----"
   ]
  },
  {
   "cell_type": "markdown",
   "id": "2e1ebb7f-25fb-4c25-b936-a6c777f27f7d",
   "metadata": {},
   "source": [
    "##### 원 넓이 구하는 함수"
   ]
  },
  {
   "cell_type": "code",
   "execution_count": 28,
   "id": "7211cc89-33ba-450b-a0ab-2d7ec1f5d9b6",
   "metadata": {},
   "outputs": [],
   "source": [
    "def circle_area(n):\n",
    "    area = 3.14 * (n ** 2)\n",
    "    \n",
    "    return area"
   ]
  },
  {
   "cell_type": "code",
   "execution_count": 30,
   "id": "7292a983-9a37-44bb-8498-9147ac2e3bd1",
   "metadata": {},
   "outputs": [
    {
     "name": "stdin",
     "output_type": "stream",
     "text": [
      "반지름 길이 =  5\n"
     ]
    },
    {
     "name": "stdout",
     "output_type": "stream",
     "text": [
      "78.5 <class 'float'>\n"
     ]
    }
   ],
   "source": [
    "n = int(input('반지름 길이 = '))\n",
    "a = circle_area(n)\n",
    "print(a , type(a))"
   ]
  },
  {
   "cell_type": "markdown",
   "id": "f3fdd369-711b-4da0-b2b4-d43638f9c68d",
   "metadata": {},
   "source": [
    "-----"
   ]
  },
  {
   "cell_type": "markdown",
   "id": "07cf948d-c5e7-4fad-ae76-c4e4af9b5691",
   "metadata": {},
   "source": [
    "##### 가족 이름 출력하기"
   ]
  },
  {
   "cell_type": "markdown",
   "id": "72177f67-cae9-454a-97fa-eccf4f03af02",
   "metadata": {},
   "source": [
    "변수앞에 * 붙으면 tuple 자료형"
   ]
  },
  {
   "cell_type": "code",
   "execution_count": 54,
   "id": "870b5983-49a8-47c3-b25d-adfe4ecebe0c",
   "metadata": {},
   "outputs": [],
   "source": [
    "def my_family(*name):\n",
    "    for i in name:\n",
    "        print(i)\n",
    "    print(type(name))"
   ]
  },
  {
   "cell_type": "code",
   "execution_count": 55,
   "id": "e0186a37-9c07-45eb-94c9-c52a1b665b9c",
   "metadata": {},
   "outputs": [
    {
     "name": "stdout",
     "output_type": "stream",
     "text": [
      "a\n",
      "<class 'tuple'>\n",
      "a\n",
      "b\n",
      "<class 'tuple'>\n",
      "a\n",
      "b\n",
      "c\n",
      "<class 'tuple'>\n"
     ]
    }
   ],
   "source": [
    "my_family('a')\n",
    "my_family('a', 'b')\n",
    "my_family('a', 'b', 'c')"
   ]
  },
  {
   "cell_type": "markdown",
   "id": "6426bb01-fa04-46b5-a81a-b4e7e3e37198",
   "metadata": {},
   "source": [
    "-----"
   ]
  },
  {
   "cell_type": "markdown",
   "id": "ecee54c8-e389-4984-994f-d4dd2fab2355",
   "metadata": {},
   "source": [
    "변수가 dict 자료형 일 때"
   ]
  },
  {
   "cell_type": "code",
   "execution_count": 86,
   "id": "a58ff03b-3fb4-4d29-9ecb-f887e415da98",
   "metadata": {},
   "outputs": [],
   "source": [
    "def my_family(**name):\n",
    "    print(name)\n",
    "    print(name['name1'], name['name2'])\n",
    "    print(type(name))"
   ]
  },
  {
   "cell_type": "code",
   "execution_count": 87,
   "id": "c08f0f40-c473-45e3-aee5-a4ce9891d161",
   "metadata": {},
   "outputs": [
    {
     "name": "stdout",
     "output_type": "stream",
     "text": [
      "{'name1': 'kim', 'name2': 'lee'}\n",
      "kim lee\n",
      "<class 'dict'>\n"
     ]
    }
   ],
   "source": [
    "my_family(name1 = 'kim', name2 = 'lee')"
   ]
  },
  {
   "cell_type": "markdown",
   "id": "b41301c6-cad8-4a13-b8d5-07abb5cc452e",
   "metadata": {},
   "source": [
    "-----"
   ]
  },
  {
   "cell_type": "markdown",
   "id": "c30d856f-f3ab-4121-ba16-7ff6a68b164f",
   "metadata": {},
   "source": [
    "숫자 n개 일때 합을 구하는 함수"
   ]
  },
  {
   "cell_type": "code",
   "execution_count": 49,
   "id": "06976d4b-2a47-4e30-a2b8-1534bcc071f0",
   "metadata": {},
   "outputs": [],
   "source": [
    "def total_add(*num):\n",
    "    tot = 0\n",
    "    for i in num:\n",
    "        tot = tot + i\n",
    "    \n",
    "    return tot"
   ]
  },
  {
   "cell_type": "code",
   "execution_count": 50,
   "id": "c73973fb-202b-4b93-83fa-4608e93cfcee",
   "metadata": {},
   "outputs": [
    {
     "name": "stdout",
     "output_type": "stream",
     "text": [
      "10\n"
     ]
    }
   ],
   "source": [
    "a = total_add(1,2,3,4)\n",
    "print(a)"
   ]
  },
  {
   "cell_type": "code",
   "execution_count": 47,
   "id": "9c602572-232a-4a9f-960e-9b6185cff2e9",
   "metadata": {},
   "outputs": [],
   "source": [
    "def total_add1(*num):\n",
    "    print(num)\n",
    "    tot = 0\n",
    "    for i in num:\n",
    "        for j in i: \n",
    "            tot = tot + j\n",
    "    \n",
    "    return tot"
   ]
  },
  {
   "cell_type": "code",
   "execution_count": 48,
   "id": "1f019a31-9463-4269-ac3a-916b086cbec7",
   "metadata": {},
   "outputs": [
    {
     "name": "stdout",
     "output_type": "stream",
     "text": [
      "((1, 2, 3, 4),)\n",
      "10\n"
     ]
    }
   ],
   "source": [
    "num = (1,2,3,4)\n",
    "a = total_add1(num)\n",
    "print(a)"
   ]
  },
  {
   "cell_type": "markdown",
   "id": "ff8c8b46-0f16-47e2-84fb-a437cfa57a3c",
   "metadata": {},
   "source": [
    "---"
   ]
  },
  {
   "cell_type": "markdown",
   "id": "13746e0f-fcb5-4c21-9e0a-322e9fd3a237",
   "metadata": {},
   "source": [
    "함수 기본값 설정"
   ]
  },
  {
   "cell_type": "code",
   "execution_count": 29,
   "id": "2b490f93-1ded-4ecb-9cc4-fdd38a3a4538",
   "metadata": {},
   "outputs": [],
   "source": [
    "def my_country(country = 'Korea'):\n",
    "    print(country)"
   ]
  },
  {
   "cell_type": "code",
   "execution_count": 30,
   "id": "b00a9e19-ca3a-4365-b713-dcf65c48b4c7",
   "metadata": {},
   "outputs": [
    {
     "name": "stdout",
     "output_type": "stream",
     "text": [
      "Korea\n",
      "USA\n"
     ]
    }
   ],
   "source": [
    "my_country()\n",
    "my_country('USA')"
   ]
  },
  {
   "cell_type": "code",
   "execution_count": 31,
   "id": "64f34127-12d4-4725-91e5-570d9e5d82ac",
   "metadata": {},
   "outputs": [],
   "source": [
    "def my_country(stats, country = 'Korea'):     # 기본값 설정 된 변수가 앞에 오면 (country = 'korea' , state) error\n",
    "    print(state, countr)"
   ]
  },
  {
   "cell_type": "markdown",
   "id": "c63b1dc1-71fb-4c79-8005-e1b6228d646f",
   "metadata": {},
   "source": [
    "---"
   ]
  },
  {
   "cell_type": "markdown",
   "id": "22711fc3-e260-425e-88ae-a4fbccf50ed8",
   "metadata": {},
   "source": [
    "숫자 n개 입력받아서 합 구하기"
   ]
  },
  {
   "cell_type": "code",
   "execution_count": 52,
   "id": "451506eb-b55c-4e76-9730-bcf4497732d1",
   "metadata": {},
   "outputs": [],
   "source": [
    "def add_func(n, total_list):\n",
    "    total = 0\n",
    "    for i in total_list:\n",
    "        total = total + i\n",
    "        \n",
    "    return total"
   ]
  },
  {
   "cell_type": "code",
   "execution_count": 54,
   "id": "1919b92c-16b8-4f7f-af10-6776a348e3bd",
   "metadata": {},
   "outputs": [
    {
     "name": "stdin",
     "output_type": "stream",
     "text": [
      "합 구할 숫자 갯수 입력 :  5\n",
      "숫자를 입력하세요 :  10\n",
      "숫자를 입력하세요 :  20\n",
      "숫자를 입력하세요 :  30\n",
      "숫자를 입력하세요 :  40\n",
      "숫자를 입력하세요 :  50\n"
     ]
    },
    {
     "name": "stdout",
     "output_type": "stream",
     "text": [
      "150\n"
     ]
    }
   ],
   "source": [
    "n = int(input('합 구할 숫자 갯수 입력 : '))\n",
    "total_list = []\n",
    "for i in range(n):\n",
    "    num = int(input('숫자를 입력하세요 : '))\n",
    "    total_list.append(num)\n",
    "    \n",
    "total = add_func(n, total_list)\n",
    "print(total)\n",
    "\n",
    "    "
   ]
  },
  {
   "cell_type": "markdown",
   "id": "321f07b0-a272-4236-b1a4-2ef00b267c82",
   "metadata": {},
   "source": [
    "---"
   ]
  },
  {
   "cell_type": "markdown",
   "id": "26bffa77-1039-4960-a348-abf984f097a9",
   "metadata": {},
   "source": [
    "입력 받는 함수 따로 만들어서"
   ]
  },
  {
   "cell_type": "code",
   "execution_count": 76,
   "id": "c5a9f7c0-fa2e-4e2f-9323-d187640ad85a",
   "metadata": {},
   "outputs": [],
   "source": [
    "def input_(n):\n",
    "    input_list = list()\n",
    "    for i in range(n):\n",
    "        a = int(input('숫자를 입력하세요 : '))\n",
    "        input_list.append(a)\n",
    "    \n",
    "    return input_list #list"
   ]
  },
  {
   "cell_type": "code",
   "execution_count": 78,
   "id": "57e39c55-46f8-4ce3-adc1-667a27fea591",
   "metadata": {},
   "outputs": [],
   "source": [
    "def total_(n): # n = list\n",
    "    total = 0\n",
    "    #n = input_(n)\n",
    "    for i in n:\n",
    "        total = total + i\n",
    "        \n",
    "    return total"
   ]
  },
  {
   "cell_type": "code",
   "execution_count": 79,
   "id": "0d266a4f-b4d3-43d4-89fb-bd8c248ce5d7",
   "metadata": {},
   "outputs": [
    {
     "name": "stdin",
     "output_type": "stream",
     "text": [
      "횟수를 입력하세요 :  3\n",
      "숫자를 입력하세요 :  1\n",
      "숫자를 입력하세요 :  2\n",
      "숫자를 입력하세요 :  3\n"
     ]
    },
    {
     "name": "stdout",
     "output_type": "stream",
     "text": [
      "[1, 2, 3] 6\n"
     ]
    }
   ],
   "source": [
    "n = int(input('횟수를 입력하세요 : '))\n",
    "input_list = input_(n)\n",
    "total = total_(input_list)\n",
    "print(input_list, total)\n",
    "\n",
    "#print(total)"
   ]
  },
  {
   "cell_type": "markdown",
   "id": "44bac4f4-68e5-46a6-a550-3d198e1c4c87",
   "metadata": {},
   "source": [
    "---"
   ]
  },
  {
   "cell_type": "code",
   "execution_count": null,
   "id": "4b61a2a2-7f18-4a63-a98b-8fad173ad30e",
   "metadata": {},
   "outputs": [],
   "source": []
  }
 ],
 "metadata": {
  "kernelspec": {
   "display_name": "Python 3 (ipykernel)",
   "language": "python",
   "name": "python3"
  },
  "language_info": {
   "codemirror_mode": {
    "name": "ipython",
    "version": 3
   },
   "file_extension": ".py",
   "mimetype": "text/x-python",
   "name": "python",
   "nbconvert_exporter": "python",
   "pygments_lexer": "ipython3",
   "version": "3.9.7"
  }
 },
 "nbformat": 4,
 "nbformat_minor": 5
}
