{
 "cells": [
  {
   "cell_type": "markdown",
   "id": "ef5383fc-5e0d-4494-943f-28056c0a532e",
   "metadata": {},
   "source": [
    "### 1. Class"
   ]
  },
  {
   "cell_type": "code",
   "execution_count": 45,
   "id": "39fd1f9b-8b05-4d71-817b-342ef095ffc9",
   "metadata": {},
   "outputs": [],
   "source": [
    "class Car():\n",
    "    def __init__(self, id, name, speed):\n",
    "        self.id = id\n",
    "        self.name = name\n",
    "        self.speed = speed\n",
    "        \n",
    "    def my_print(self):\n",
    "        print(self.id, self.name, self.speed)\n",
    "    \n",
    "    def get_id(self):\n",
    "        return self.id\n",
    "    \n",
    "    def get_name(self):\n",
    "        return self.name"
   ]
  },
  {
   "cell_type": "code",
   "execution_count": 49,
   "id": "cd2a255e-ddb2-40b3-87cc-0aca179312f8",
   "metadata": {},
   "outputs": [
    {
     "name": "stdout",
     "output_type": "stream",
     "text": [
      "5555 bmw 100\n",
      "4444 benz 200\n",
      "5555\n",
      "4444\n",
      "bmw\n",
      "benz\n"
     ]
    }
   ],
   "source": [
    "c1 = Car('5555', 'bmw', 100) # 객체 생성\n",
    "c2 = Car('4444', 'benz', 200)\n",
    "\n",
    "# print(c1.id, c1.name, c1.speed)\n",
    "# print(c2.id, c2.name, c2.speed)\n",
    "\n",
    "c1.my_print()\n",
    "c2.my_print()\n",
    "\n",
    "a = c1.get_id()\n",
    "print(a)\n",
    "b = c2.get_id()\n",
    "print(b)\n",
    "c = c1.get_name()\n",
    "print(c)\n",
    "d = c2.get_name()\n",
    "print(d)"
   ]
  },
  {
   "cell_type": "code",
   "execution_count": 50,
   "id": "b757351f-48dd-429d-821f-1def15e5b4e6",
   "metadata": {},
   "outputs": [],
   "source": [
    "cars = [c1, c2]"
   ]
  },
  {
   "cell_type": "code",
   "execution_count": 35,
   "id": "2087ede6-3a71-49e0-9813-8d5b1734255c",
   "metadata": {},
   "outputs": [
    {
     "name": "stdout",
     "output_type": "stream",
     "text": [
      "<class '__main__.Car'>\n",
      "5555 bmw 100\n",
      "<class 'NoneType'>\n"
     ]
    }
   ],
   "source": [
    "print(type(c1))\n",
    "print(type(c1.my_print()))"
   ]
  },
  {
   "cell_type": "markdown",
   "id": "ddfcdeac-0aba-4a42-97e5-3982b4d5815a",
   "metadata": {},
   "source": [
    "---"
   ]
  },
  {
   "cell_type": "code",
   "execution_count": 41,
   "id": "aa8ef72d-7f88-4051-8a41-1514a9031d23",
   "metadata": {},
   "outputs": [],
   "source": [
    "class Person():\n",
    "    def __init__(self, name, age):\n",
    "            self.name = name\n",
    "            self.age = age\n",
    "            \n",
    "    def my_print(self):\n",
    "        print(self.name, self.age)"
   ]
  },
  {
   "cell_type": "code",
   "execution_count": 40,
   "id": "5a9827ab-7868-4480-83cd-2b24c29030e7",
   "metadata": {},
   "outputs": [
    {
     "name": "stdout",
     "output_type": "stream",
     "text": [
      "a 28\n"
     ]
    }
   ],
   "source": [
    "p1 = Person('a', 28)\n",
    "p1.my_print()"
   ]
  },
  {
   "cell_type": "code",
   "execution_count": 63,
   "id": "9a4f8c95-3c78-45a7-a6dd-a4d703ba5b55",
   "metadata": {},
   "outputs": [],
   "source": [
    "class Student():\n",
    "    def __init__(self, name, kor, eng, math):\n",
    "        self.name = name\n",
    "        self.kor = kor\n",
    "        self.eng = eng\n",
    "        self.math = math\n",
    "    \n",
    "    def get_name(self): \n",
    "        return self.name\n",
    "    \n",
    "    def get_kor(self): \n",
    "        return self.kor\n",
    "    \n",
    "    def get_eng(self): \n",
    "        return self.eng\n",
    "    \n",
    "    def get_math(self): \n",
    "        return self.math\n",
    "    \n",
    "    def get_total(self): #한 학생 총점 \n",
    "        total =  self.kor + self.eng + self.math\n",
    "        return total"
   ]
  },
  {
   "cell_type": "code",
   "execution_count": 67,
   "id": "08cc749b-eca8-4f2e-8da3-a53c69c79f68",
   "metadata": {},
   "outputs": [
    {
     "name": "stdin",
     "output_type": "stream",
     "text": [
      "이름 김\n",
      "국어 10\n",
      "영어 20\n",
      "수학 30\n",
      "이름 이\n",
      "국어 30\n",
      "영어 40\n",
      "수학 50\n",
      "이름 박\n",
      "국어 60\n",
      "영어 50\n",
      "수학 40\n",
      "이름 최\n",
      "국어 20\n",
      "영어 10\n",
      "수학 60\n",
      "이름 민\n",
      "국어 20\n",
      "영어 40\n",
      "수학 50\n"
     ]
    },
    {
     "name": "stdout",
     "output_type": "stream",
     "text": [
      "60\n",
      "120\n",
      "150\n",
      "90\n",
      "110\n",
      "140 160 230\n"
     ]
    }
   ],
   "source": [
    "s_list = list()\n",
    "for i in range(5):\n",
    "    name = input('이름')\n",
    "    kor = int(input('국어'))\n",
    "    eng = int(input('영어'))\n",
    "    math = int(input('수학'))\n",
    "    si = Student(name, kor, eng, math)\n",
    "    s_list.append(si)\n",
    "'''\n",
    "s1 = Student('a', 1, 2, 3)\n",
    "s2 = Student('b', 3, 4, 5)\n",
    "s3 = Student('c', 5, 6, 7)\n",
    "s_list = [s1, s2, s3]\n",
    "'''\n",
    "kor_total = 0\n",
    "eng_total = 0\n",
    "math_total = 0\n",
    "\n",
    "for i in s_list:\n",
    "    kor_total = kor_total +  i.get_kor()\n",
    "    eng_total = eng_total + i.get_eng()\n",
    "    math_total = math_total + i.get_math()\n",
    "    print(i.get_total())\n",
    "print(kor_total, eng_total, math_total)"
   ]
  }
 ],
 "metadata": {
  "kernelspec": {
   "display_name": "Python 3 (ipykernel)",
   "language": "python",
   "name": "python3"
  },
  "language_info": {
   "codemirror_mode": {
    "name": "ipython",
    "version": 3
   },
   "file_extension": ".py",
   "mimetype": "text/x-python",
   "name": "python",
   "nbconvert_exporter": "python",
   "pygments_lexer": "ipython3",
   "version": "3.9.7"
  }
 },
 "nbformat": 4,
 "nbformat_minor": 5
}
