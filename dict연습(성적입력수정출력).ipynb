{
 "cells": [
  {
   "cell_type": "markdown",
   "id": "3776f277-0b0e-495f-bbe3-a3adbf10330c",
   "metadata": {},
   "source": [
    "이름 국어 영어 수학 성적 입력받는 함수"
   ]
  },
  {
   "cell_type": "code",
   "execution_count": 41,
   "id": "dc7fcec1-dd3d-42c9-8ea0-02187aae30e3",
   "metadata": {},
   "outputs": [],
   "source": [
    "def score_input():\n",
    "    score_dict = dict()\n",
    "    name = input('이름을 입력하세요')\n",
    "    kor = int(input('국어성적'))\n",
    "    math = int(input('수학성적'))\n",
    "    eng = int(input('영어성적'))\n",
    "    score_dict['name'] = name\n",
    "    score_dict['kor'] = kor\n",
    "    score_dict['math'] = math\n",
    "    score_dict['eng'] = eng\n",
    "    \n",
    "    return score_dict"
   ]
  },
  {
   "cell_type": "code",
   "execution_count": 49,
   "id": "fd0446a4-ad55-4572-aea4-b2a3278c6c1c",
   "metadata": {},
   "outputs": [
    {
     "name": "stdin",
     "output_type": "stream",
     "text": [
      "1. 성적추가, 2. 성적수정, 3. 성적출력, 0. 종료 1\n",
      "이름을 입력하세요 a\n",
      "국어성적 1\n",
      "수학성적 2\n",
      "영어성적 3\n",
      "1. 성적추가, 2. 성적수정, 3. 성적출력, 0. 종료 1\n",
      "이름을 입력하세요 b\n",
      "국어성적 3\n",
      "수학성적 4\n",
      "영어성적 5\n",
      "1. 성적추가, 2. 성적수정, 3. 성적출력, 0. 종료 2\n",
      "변경할 사람 이름 c\n"
     ]
    },
    {
     "name": "stdout",
     "output_type": "stream",
     "text": [
      "오류\n"
     ]
    },
    {
     "name": "stdin",
     "output_type": "stream",
     "text": [
      "1. 성적추가, 2. 성적수정, 3. 성적출력, 0. 종료 0\n"
     ]
    }
   ],
   "source": [
    "    score_list = list()\n",
    "    while True:\n",
    "        n = input('1. 성적추가, 2. 성적수정, 3. 성적출력, 0. 종료')\n",
    "        if n == '0':\n",
    "            break\n",
    "        elif n == '1':\n",
    "            score = score_input()\n",
    "            score_list.append(score)\n",
    "        elif n == '2':\n",
    "            name = input('변경할 사람 이름')\n",
    "            j = 0\n",
    "            for i in score_list:\n",
    "                if name in i.values():\n",
    "                    score = score_input()\n",
    "                    score_list[j] = score\n",
    "                else:\n",
    "                    print('오류')\n",
    "                    break\n",
    "                j += 1\n",
    "        elif n == '3':\n",
    "            print(score_list)\n",
    "        else:\n",
    "            print('오류')"
   ]
  },
  {
   "cell_type": "code",
   "execution_count": 37,
   "id": "48135433-cc7b-4ed5-af5b-be466a6f4da9",
   "metadata": {},
   "outputs": [
    {
     "name": "stdout",
     "output_type": "stream",
     "text": [
      "<class 'dict'>\n",
      "[{'name': '김', 'kor': '1', 'math': '2', 'eng': '3'}]\n",
      "dict_keys(['name', 'kor', 'math', 'eng'])\n"
     ]
    },
    {
     "name": "stdin",
     "output_type": "stream",
     "text": [
      "국어성적 3\n",
      "수학성적 4\n",
      "영어성적 5\n"
     ]
    },
    {
     "name": "stdout",
     "output_type": "stream",
     "text": [
      "{'name': '김', 'kor': 3, 'math': 4, 'eng': 5}\n"
     ]
    }
   ],
   "source": [
    "score_list = [{'name' : '김',\n",
    "               'kor' : '1',\n",
    "               'math' : '2',\n",
    "               'eng' : '3'}]\n",
    "name = '김'\n",
    "print(type(score_list[0]))\n",
    "print(score_list)\n",
    "print(score_list[0].keys())\n",
    "if name in score_list[0].values():\n",
    "    score_dict = dict()\n",
    "    kor = int(input('국어성적'))\n",
    "    math = int(input('수학성적'))\n",
    "    eng = int(input('영어성적'))\n",
    "    score_dict['name'] = name\n",
    "    score_dict['kor'] = kor\n",
    "    score_dict['math'] = math\n",
    "    score_dict['eng'] = eng\n",
    "    score_list[0] = score_dict\n",
    "    \n",
    "print(score_list[0])\n"
   ]
  }
 ],
 "metadata": {
  "kernelspec": {
   "display_name": "Python 3 (ipykernel)",
   "language": "python",
   "name": "python3"
  },
  "language_info": {
   "codemirror_mode": {
    "name": "ipython",
    "version": 3
   },
   "file_extension": ".py",
   "mimetype": "text/x-python",
   "name": "python",
   "nbconvert_exporter": "python",
   "pygments_lexer": "ipython3",
   "version": "3.9.7"
  }
 },
 "nbformat": 4,
 "nbformat_minor": 5
}
