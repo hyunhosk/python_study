{
 "cells": [
  {
   "cell_type": "markdown",
   "id": "fddde7e1-e373-4339-bb1a-07a3b471cd98",
   "metadata": {},
   "source": [
    "### 합 차 곱 나누기"
   ]
  },
  {
   "cell_type": "code",
   "execution_count": 9,
   "id": "dcdb7b1c-e677-4483-9f7e-4605aff04aa4",
   "metadata": {},
   "outputs": [],
   "source": [
    "def plus(x, y):\n",
    "    print('%d + %d = %d'%(x, y, x+y))\n",
    "def minus(x, y):\n",
    "    print('%d - %d = %d'%(x, y, x-y))\n",
    "def mult(x, y):\n",
    "    print('%d * %d = %d'%(x, y, x*y))\n",
    "def div(x, y):\n",
    "    print('%.2f / %.2f = %.2f'%(x, y, x/y))\n",
    "def bmins(x, y):\n",
    "    if x < y:\n",
    "        print('%d - %d = %d'%(y, x, y-x))\n",
    "    else:\n",
    "        print('%d - %d = %d'%(x, y, x-y))"
   ]
  },
  {
   "cell_type": "code",
   "execution_count": 7,
   "id": "473a63de-3560-49b5-89fa-558581341d08",
   "metadata": {},
   "outputs": [
    {
     "name": "stdout",
     "output_type": "stream",
     "text": [
      "20 + 36 = 56\n",
      "129 - 23 = 106\n",
      "12 * 24 = 288\n",
      "14.00 / 3.00 = 4.67\n",
      "30 - 12 = 18\n",
      "30 - 12 = 18\n"
     ]
    }
   ],
   "source": [
    "plus(20,36)\n",
    "minus(129,23)\n",
    "mult(12,24)\n",
    "div(14,3)\n",
    "bmins(12,30)\n",
    "bmins(30,12)"
   ]
  },
  {
   "cell_type": "code",
   "execution_count": 10,
   "id": "e53ec733-a3a0-4a39-bb08-3c5cccfa5b04",
   "metadata": {},
   "outputs": [
    {
     "name": "stdin",
     "output_type": "stream",
     "text": [
      " 20\n",
      " 30\n"
     ]
    },
    {
     "name": "stdout",
     "output_type": "stream",
     "text": [
      "20 + 30 = 50\n",
      "20 - 30 = -10\n",
      "20 * 30 = 600\n",
      "20.00 / 30.00 = 0.67\n",
      "30 - 20 = 10\n"
     ]
    }
   ],
   "source": [
    "a = int(input())\n",
    "b = int(input())\n",
    "plus(a,b)\n",
    "minus(a,b)\n",
    "mult(a,b)\n",
    "div(a,b)\n",
    "bmins(a,b)"
   ]
  }
 ],
 "metadata": {
  "kernelspec": {
   "display_name": "Python 3 (ipykernel)",
   "language": "python",
   "name": "python3"
  },
  "language_info": {
   "codemirror_mode": {
    "name": "ipython",
    "version": 3
   },
   "file_extension": ".py",
   "mimetype": "text/x-python",
   "name": "python",
   "nbconvert_exporter": "python",
   "pygments_lexer": "ipython3",
   "version": "3.9.7"
  }
 },
 "nbformat": 4,
 "nbformat_minor": 5
}
