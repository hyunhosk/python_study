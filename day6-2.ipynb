{
 "cells": [
  {
   "cell_type": "code",
   "execution_count": 5,
   "id": "ffe40b24-1f2d-4e5c-852b-411a5e3bbc5d",
   "metadata": {},
   "outputs": [
    {
     "name": "stdout",
     "output_type": "stream",
     "text": [
      "<class 're.Pattern'>\n",
      "<re.Match object; span=(0, 1), match='a'>\n",
      "<re.Match object; span=(0, 1), match='b'>\n",
      "<re.Match object; span=(0, 1), match='a'>\n"
     ]
    }
   ],
   "source": [
    "import re\n",
    "\n",
    "p = re.compile('[a-z]')\n",
    "\n",
    "print(type(p))\n",
    "print(p.match('a'))\n",
    "print(p.match('b'))\n",
    "print(p.match('ac'))"
   ]
  },
  {
   "cell_type": "code",
   "execution_count": 8,
   "id": "ee13dbcb-5ab2-424a-91f0-e0b4b44da778",
   "metadata": {},
   "outputs": [
    {
     "name": "stdout",
     "output_type": "stream",
     "text": [
      "None\n"
     ]
    }
   ],
   "source": [
    "p = re.compile('a.b')\n",
    "#p = re.compile('a.b', re.DOTALL)\n",
    "\n",
    "print(p.match('a\\nb'))"
   ]
  },
  {
   "cell_type": "code",
   "execution_count": 12,
   "id": "26ac8c84-eaac-4e91-926e-cc4143e074fd",
   "metadata": {},
   "outputs": [
    {
     "name": "stdout",
     "output_type": "stream",
     "text": [
      "<re.Match object; span=(0, 1), match='p'>\n",
      "<re.Match object; span=(0, 1), match='P'>\n",
      "<re.Match object; span=(0, 1), match='P'>\n"
     ]
    }
   ],
   "source": [
    "p = re.compile('[a-z]')\n",
    "p = re.compile('[a-z]', re.I)\n",
    "\n",
    "print(p.match('python'))\n",
    "print(p.match('Python'))\n",
    "print(p.match('PYTHON'))"
   ]
  },
  {
   "cell_type": "code",
   "execution_count": 19,
   "id": "b4076854-1cb2-458c-b57c-52a21d171071",
   "metadata": {},
   "outputs": [
    {
     "name": "stdout",
     "output_type": "stream",
     "text": [
      "['python one', 'python two', 'python three']\n"
     ]
    }
   ],
   "source": [
    "p = re.compile(\"^python\\s\\w+\", re.MULTILINE)\n",
    "\n",
    "data = \"\"\"python one\n",
    "life is too short\n",
    "python two\n",
    "you need python\n",
    "python three\"\"\"\n",
    "\n",
    "print(p.findall(data))"
   ]
  },
  {
   "cell_type": "code",
   "execution_count": 20,
   "id": "1fc07692-5137-4eaa-9303-306baf9bc0c9",
   "metadata": {},
   "outputs": [],
   "source": [
    "import re\n",
    "\n",
    "p = re.compile('[a-z]+')"
   ]
  },
  {
   "cell_type": "code",
   "execution_count": 29,
   "id": "5c334d15-f6b4-4816-a947-9d06211e65bf",
   "metadata": {},
   "outputs": [
    {
     "name": "stdout",
     "output_type": "stream",
     "text": [
      "<re.Match object; span=(0, 5), match='aaaaa'>\n",
      "<re.Match object; span=(0, 8), match='bbbbbbbb'>\n",
      "None\n",
      "['aaa', 'aaa']\n",
      "0\n",
      "4\n"
     ]
    }
   ],
   "source": [
    "print(p.match('aaaaa'))\n",
    "print(p.match('bbbbbbbb'))\n",
    "print(p.match('1aaaa'))\n",
    "print(p.findall('aaa1aaa'))\n",
    "\n",
    "x = p.match('baaa1aaa')\n",
    "print(x.start())\n",
    "print(x.end())"
   ]
  },
  {
   "cell_type": "code",
   "execution_count": 35,
   "id": "d0167d5e-b819-4731-97ed-8c91f242a367",
   "metadata": {},
   "outputs": [
    {
     "name": "stdout",
     "output_type": "stream",
     "text": [
      "<re.Match object; span=(0, 5), match='aaaaa'>\n",
      "<re.Match object; span=(2, 10), match='bbbbbbbb'>\n",
      "<re.Match object; span=(1, 5), match='aaaa'>\n",
      "<re.Match object; span=(1, 6), match='aaaaa'>\n",
      "1\n",
      "6\n"
     ]
    }
   ],
   "source": [
    "print(p.search('aaaaa'))\n",
    "print(p.search('11bbbbbbbb'))\n",
    "print(p.search('1aaaa'))\n",
    "print(p.search('1aaaaa1aaaa'))\n",
    "\n",
    "x = p.search('1aaaaa1aaaa')\n",
    "print(x.start())\n",
    "print(x.end())"
   ]
  },
  {
   "cell_type": "code",
   "execution_count": 37,
   "id": "5bd3b669-9868-4675-82d6-441da5c8d99e",
   "metadata": {},
   "outputs": [
    {
     "name": "stdout",
     "output_type": "stream",
     "text": [
      "['aaa']\n",
      "['aaa']\n",
      "['a', 'a', 'a', 'a', 'a']\n",
      "['aa', 'aaa', 'a', 'aa', 'aaa']\n"
     ]
    }
   ],
   "source": [
    "print(p.findall('aaa'))\n",
    "print(p.findall('11aaa'))\n",
    "print(p.findall('a1a1a1a1a'))\n",
    "print(p.findall('1aa1aaa1a1aa1aaa'))"
   ]
  },
  {
   "cell_type": "code",
   "execution_count": 38,
   "id": "f538b2de-5b7f-4250-9c6e-393380ad8289",
   "metadata": {},
   "outputs": [
    {
     "name": "stdout",
     "output_type": "stream",
     "text": [
      "<re.Match object; span=(0, 1), match='a'>\n",
      "<re.Match object; span=(2, 4), match='bb'>\n",
      "<re.Match object; span=(5, 8), match='ccc'>\n"
     ]
    }
   ],
   "source": [
    "#p.finditer('a1bb1ccc')\n",
    "iterator = p.finditer('a1bb1ccc')\n",
    "\n",
    "for i in iterator:\n",
    "    print(i)"
   ]
  },
  {
   "cell_type": "markdown",
   "id": "af304b48-a8e0-4f21-88c3-10c530be0395",
   "metadata": {},
   "source": [
    "---"
   ]
  },
  {
   "cell_type": "markdown",
   "id": "a707f354-aa45-497d-8c21-fcffd01f9c62",
   "metadata": {},
   "source": [
    "# 리스트에 붙혀넣기"
   ]
  },
  {
   "cell_type": "code",
   "execution_count": 73,
   "id": "1113270d-b7ab-41c8-a4f7-8fa71b2aad43",
   "metadata": {},
   "outputs": [
    {
     "name": "stdout",
     "output_type": "stream",
     "text": [
      "['10', '12', '15', '20']\n",
      "['Kim', 'Lee', 'Park', 'Choi']\n",
      "{'Kim': '10', 'Lee': '12', 'Park': '15', 'Choi': '20'}\n"
     ]
    }
   ],
   "source": [
    "import re\n",
    "\n",
    "Nameage = '''\n",
    "Kim is 10, Lee is 12\n",
    "Park is 15, Choi is 20\n",
    "'''\n",
    "\n",
    "p = re.compile('\\d{1,3}')\n",
    "print(p.findall(Nameage))\n",
    "\n",
    "p2 = re.compile('[A-Z][a-z]+')\n",
    "print(p2.findall(Nameage))\n",
    "\n",
    "name = p2.findall(Nameage)\n",
    "age = p.findall(Nameage)\n",
    "ageDict = dict()\n",
    "\n",
    "a = 0\n",
    "for i in name:\n",
    "    ageDict[i] = age[a] \n",
    "    a += 1\n",
    "print(ageDict)\n"
   ]
  }
 ],
 "metadata": {
  "kernelspec": {
   "display_name": "Python 3 (ipykernel)",
   "language": "python",
   "name": "python3"
  },
  "language_info": {
   "codemirror_mode": {
    "name": "ipython",
    "version": 3
   },
   "file_extension": ".py",
   "mimetype": "text/x-python",
   "name": "python",
   "nbconvert_exporter": "python",
   "pygments_lexer": "ipython3",
   "version": "3.9.7"
  }
 },
 "nbformat": 4,
 "nbformat_minor": 5
}
