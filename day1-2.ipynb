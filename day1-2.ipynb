{
 "cells": [
  {
   "cell_type": "markdown",
   "id": "8b4f1893-8bbf-4103-ab07-c06ed6424bf3",
   "metadata": {},
   "source": [
    "### 대입 값 알아보기"
   ]
  },
  {
   "cell_type": "code",
   "execution_count": 19,
   "id": "34124092-c096-445a-82bb-a4382d81dbf5",
   "metadata": {},
   "outputs": [
    {
     "name": "stdout",
     "output_type": "stream",
     "text": [
      "5\n",
      "a\n",
      "7\n",
      "<class 'int'>\n"
     ]
    }
   ],
   "source": [
    "a = 5\n",
    "print(a)\n",
    "print('a')\n",
    "a = 7\n",
    "print(a)\n",
    "print(type(a))"
   ]
  },
  {
   "cell_type": "markdown",
   "id": "93f8c235-505e-4c5b-bf87-a33a9d2f6208",
   "metadata": {},
   "source": [
    "### 대입 값의 자료형 확인하기"
   ]
  },
  {
   "cell_type": "code",
   "execution_count": 25,
   "id": "9bf4a218-5a4b-4955-9164-032bf9c24dff",
   "metadata": {},
   "outputs": [
    {
     "name": "stdout",
     "output_type": "stream",
     "text": [
      "3.0\n",
      "<class 'float'>\n",
      "hello\n",
      "<class 'str'>\n"
     ]
    }
   ],
   "source": [
    "b = 3.0\n",
    "print(b)\n",
    "print(type(b))\n",
    "b = 'hello'\n",
    "print(b)\n",
    "print(type(b))"
   ]
  },
  {
   "cell_type": "markdown",
   "id": "00265fc3-57b1-4e41-b366-4c27b307a2d2",
   "metadata": {},
   "source": [
    "### 연산"
   ]
  },
  {
   "cell_type": "code",
   "execution_count": 41,
   "id": "46df2e8d-86bc-4537-b299-2a156bda953a",
   "metadata": {},
   "outputs": [
    {
     "name": "stdout",
     "output_type": "stream",
     "text": [
      "12\n",
      "12\n",
      "-2\n",
      "35\n",
      "0.7142857142857143\n"
     ]
    }
   ],
   "source": [
    "a = 5\n",
    "b = 7\n",
    "\n",
    "print(a + b)\n",
    "\n",
    "c = a + b\n",
    "print(c)\n",
    "\n",
    "d = a - b\n",
    "print(d)\n",
    "\n",
    "e = a * b\n",
    "print(e)\n",
    "\n",
    "f = a / b\n",
    "print(f)"
   ]
  },
  {
   "cell_type": "code",
   "execution_count": 44,
   "id": "d428be07-f1eb-4353-83cd-84c79c79ebf3",
   "metadata": {},
   "outputs": [
    {
     "name": "stdout",
     "output_type": "stream",
     "text": [
      "20 20\n"
     ]
    }
   ],
   "source": [
    "a = 3\n",
    "b = 10\n",
    "\n",
    "c = a + b\n",
    "d = a - b\n",
    "\n",
    "e = c - d\n",
    "f = c - ( a - b )\n",
    "print(e, f)"
   ]
  },
  {
   "cell_type": "code",
   "execution_count": 48,
   "id": "b171d20b-7d64-4f89-bd94-dcac80ddc905",
   "metadata": {},
   "outputs": [
    {
     "name": "stdout",
     "output_type": "stream",
     "text": [
      "20\n",
      "<class 'int'>\n"
     ]
    }
   ],
   "source": [
    "a = 3\n",
    "b = 10\n",
    "\n",
    "c = (a + b) - ( a - b ) \n",
    "\n",
    "print(c)\n",
    "print(type(c))"
   ]
  }
 ],
 "metadata": {
  "kernelspec": {
   "display_name": "Python 3 (ipykernel)",
   "language": "python",
   "name": "python3"
  },
  "language_info": {
   "codemirror_mode": {
    "name": "ipython",
    "version": 3
   },
   "file_extension": ".py",
   "mimetype": "text/x-python",
   "name": "python",
   "nbconvert_exporter": "python",
   "pygments_lexer": "ipython3",
   "version": "3.9.7"
  }
 },
 "nbformat": 4,
 "nbformat_minor": 5
}
