{
 "cells": [
  {
   "cell_type": "markdown",
   "id": "e33d59d0-0ae6-4221-8c3b-d6184497216a",
   "metadata": {},
   "source": [
    "### 은행 프로그램"
   ]
  },
  {
   "cell_type": "code",
   "execution_count": 9,
   "id": "aaec8a03-1063-4c1f-b1cf-26bf31a16af9",
   "metadata": {},
   "outputs": [],
   "source": [
    "class Account:\n",
    "    account_cnt = 0\n",
    "    \n",
    "    def __init__(self, num):   # __붙히면 class 밖에서 사용 불가. get함수 만들어서 사용해야 사용 가능.\n",
    "        self.__num = num       \n",
    "        self.__balance = 0\n",
    "        Account.account_cnt += 1\n",
    "        #print(Account.account_cnt)\n",
    "        \n",
    "    def set_num(self, num):\n",
    "        self.__num = num\n",
    "        \n",
    "    def set_balance(self, balance):\n",
    "        self.__balance = balance\n",
    "        \n",
    "    def get_num(self):\n",
    "        return self.__num\n",
    "        \n",
    "    def get_balance(self):\n",
    "        return self.__balance\n",
    "    \n",
    "    # 입금\n",
    "    def deposit(self, money):\n",
    "        self.__balance = self.__balance + money        \n",
    "        \n",
    "    # 출금\n",
    "    def withdraw(self, money):\n",
    "        if money > self.__balance:\n",
    "            print('잔액이 부족합니다.')\n",
    "        else:\n",
    "            self.__balance = self.__balance - money\n",
    "    \n",
    "    # 송금 other쪽을 get, set 함수로 바꿔보기\n",
    "    def transfer(self, money, other):   #유저1 돈을 money만큼 other에게\n",
    "        self.__balance = self.__balance - money   #유저1의 돈을 잔액에서 money만큼 출금\n",
    "        other.set_balance(other.get_balance() + money)\n",
    "        \n",
    "    # 정보 출력\n",
    "    def print_info(self):\n",
    "        print(' %s 님의 잔액은 %d 입니다. ' %(self.__num, self.__balance))\n",
    "    \n",
    "    @classmethod            #############\n",
    "    def print_account_cnt(cls):\n",
    "        print(cls.account_cnt)"
   ]
  },
  {
   "cell_type": "code",
   "execution_count": 2,
   "id": "e18842bd-3203-4f47-9340-249d59ca2202",
   "metadata": {},
   "outputs": [
    {
     "name": "stdout",
     "output_type": "stream",
     "text": [
      "1\n",
      "2\n"
     ]
    }
   ],
   "source": [
    "user1 = Account(1)\n",
    "Account.print_account_cnt()\n",
    "user2 = Account(2)\n",
    "Account.print_account_cnt()"
   ]
  },
  {
   "cell_type": "code",
   "execution_count": 3,
   "id": "6998cbe8-bef9-4115-919b-dec197f72cdd",
   "metadata": {},
   "outputs": [
    {
     "name": "stdout",
     "output_type": "stream",
     "text": [
      "0\n",
      "100\n",
      "300\n",
      " 1 님의 잔액은 200 입니다. \n",
      " 1 님의 잔액은 5200 입니다. \n",
      " 1 님의 잔액은 4200 입니다. \n",
      "잔액이 부족합니다.\n",
      " 1 님의 잔액은 4200 입니다. \n"
     ]
    }
   ],
   "source": [
    "print(user1.get_balance())\n",
    "\n",
    "user1.deposit(100)\n",
    "print(user1.get_balance())\n",
    "\n",
    "user1.deposit(200)\n",
    "print(user1.get_balance())\n",
    "\n",
    "user1.withdraw(100)\n",
    "user1.print_info()\n",
    "\n",
    "user1.deposit(5000)\n",
    "user1.print_info()\n",
    "\n",
    "user1.withdraw(1000)\n",
    "user1.print_info()\n",
    "\n",
    "user1.withdraw(10000)\n",
    "user1.print_info()\n"
   ]
  },
  {
   "cell_type": "code",
   "execution_count": 10,
   "id": "bbd24563-dcc3-4e07-9557-fe866084b875",
   "metadata": {},
   "outputs": [
    {
     "name": "stdout",
     "output_type": "stream",
     "text": [
      " 1 님의 잔액은 4000 입니다. \n",
      " 2 님의 잔액은 200 입니다. \n",
      " 1 님의 잔액은 3800 입니다. \n",
      " 2 님의 잔액은 400 입니다. \n"
     ]
    }
   ],
   "source": [
    "user1.print_info()\n",
    "user2.print_info()\n",
    "user1.transfer(200, user2)\n",
    "user1.print_info()\n",
    "user2.print_info()"
   ]
  },
  {
   "cell_type": "code",
   "execution_count": 3,
   "id": "0fdfae37-ba8a-48af-9f86-ca93b2462784",
   "metadata": {},
   "outputs": [
    {
     "name": "stdout",
     "output_type": "stream",
     "text": [
      "2\n",
      " 2 님의 잔액은 2000 입니다. \n",
      " 2 님의 잔액은 1500 입니다. \n"
     ]
    }
   ],
   "source": [
    "user2.deposit(2000)\n",
    "user2.print_info()\n",
    "\n",
    "user2.withdraw(500)\n",
    "user2.print_info()"
   ]
  }
 ],
 "metadata": {
  "kernelspec": {
   "display_name": "Python 3 (ipykernel)",
   "language": "python",
   "name": "python3"
  },
  "language_info": {
   "codemirror_mode": {
    "name": "ipython",
    "version": 3
   },
   "file_extension": ".py",
   "mimetype": "text/x-python",
   "name": "python",
   "nbconvert_exporter": "python",
   "pygments_lexer": "ipython3",
   "version": "3.9.7"
  }
 },
 "nbformat": 4,
 "nbformat_minor": 5
}
