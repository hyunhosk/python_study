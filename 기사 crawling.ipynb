{
 "cells": [
  {
   "cell_type": "markdown",
   "id": "f2ae41dc-d26e-4227-9a3f-e8c9a54e9b97",
   "metadata": {},
   "source": [
    "# 기사 Crawling"
   ]
  },
  {
   "cell_type": "code",
   "execution_count": 14,
   "id": "ceaddeff-bc99-4496-b135-dbb4b8fcb595",
   "metadata": {},
   "outputs": [
    {
     "name": "stdout",
     "output_type": "stream",
     "text": [
      "[<a class=\"news_tit\" href=\"https://www.chosun.com/economy/industry-company/2022/01/04/5RBS7KTE6JFWVNJX4BCKC4VKJ4/?utm_source=naver&amp;utm_medium=referral&amp;utm_campaign=naver-news\" onclick=\"return goOtherCR(this, 'a=nws_all*h.tit&amp;r=1&amp;i=880000ED_000000000000000003663976&amp;g=023.0003663976&amp;u='+urlencode(this.href));\" target=\"_blank\" title=\"한 벌에 12만원…BTS도 놀란 ‘BTS 잠옷’ 가격\">한 벌에 12만원…<mark>BTS</mark>도 놀란 ‘<mark>BTS</mark> 잠옷’ 가격</a>, <a class=\"news_tit\" href=\"https://www.seoul.co.kr/news/newsView.php?id=20220105500019&amp;wlog_tag3=naver\" onclick=\"return goOtherCR(this, 'a=nws_all*h.tit&amp;r=4&amp;i=880000D1_000000000000000003242562&amp;g=081.0003242562&amp;u='+urlencode(this.href));\" target=\"_blank\" title=\"BTS 뷔가 부른 OST, 한국 첫 빌보드 ‘핫 100‘ 진입\"><mark>BTS</mark> 뷔가 부른 OST, 한국 첫 빌보드 ‘핫 100‘ 진입</a>, <a class=\"news_tit\" href=\"http://www.fnnews.com/news/202201040847465379\" onclick=\"return goOtherCR(this, 'a=nws_all*h.tit&amp;r=7&amp;i=880000FF_000000000000000004766273&amp;g=014.0004766273&amp;u='+urlencode(this.href));\" target=\"_blank\" title=\"네이버웹툰, BTS 슈퍼캐스팅 옥외광고 코엑스 케이팝 스퀘어에 공개\">네이버웹툰, <mark>BTS</mark> 슈퍼캐스팅 옥외광고 코엑스 케이팝 스퀘어에 공개</a>, <a class=\"news_tit\" href=\"http://yna.kr/AKR20220105005100075?did=1195m\" onclick=\"return goOtherCR(this, 'a=nws_all*a.tit&amp;r=10&amp;i=880000D8_000000000000000012897843&amp;g=001.0012897843&amp;u='+urlencode(this.href));\" target=\"_blank\" title=\"BTS 후보 오른 그래미 시상식, 오미크론 여파 연기 가능성\"><mark>BTS</mark> 후보 오른 그래미 시상식, 오미크론 여파 연기 가능성</a>]\n",
      "한 벌에 12만원…BTS도 놀란 ‘BTS 잠옷’ 가격\n",
      "['한 벌에 12만원…BTS도 놀란 ‘BTS 잠옷’ 가격']\n",
      "['https://www.chosun.com/economy/industry-company/2022/01/04/5RBS7KTE6JFWVNJX4BCKC4VKJ4/?utm_source=naver&utm_medium=referral&utm_campaign=naver-news']\n",
      "BTS 뷔가 부른 OST, 한국 첫 빌보드 ‘핫 100‘ 진입\n",
      "['BTS 뷔가 부른 OST, 한국 첫 빌보드 ‘핫 100‘ 진입']\n",
      "['https://www.seoul.co.kr/news/newsView.php?id=20220105500019&wlog_tag3=naver']\n",
      "네이버웹툰, BTS 슈퍼캐스팅 옥외광고 코엑스 케이팝 스퀘어에 공개\n",
      "['네이버웹툰, BTS 슈퍼캐스팅 옥외광고 코엑스 케이팝 스퀘어에 공개']\n",
      "['http://www.fnnews.com/news/202201040847465379']\n",
      "BTS 후보 오른 그래미 시상식, 오미크론 여파 연기 가능성\n",
      "['BTS 후보 오른 그래미 시상식, 오미크론 여파 연기 가능성']\n",
      "['http://yna.kr/AKR20220105005100075?did=1195m']\n"
     ]
    }
   ],
   "source": [
    "import requests\n",
    "from bs4 import BeautifulSoup\n",
    "\n",
    "response = requests.get(\"https://search.naver.com/search.naver?where=nexearch&sm=top_hty&fbm=1&ie=utf8&query=bts\")\n",
    "\n",
    "#print(response.text)\n",
    "html_doc = response.text\n",
    "soup = BeautifulSoup(html_doc, \"html.parser\") #\"html.parser\" -> html문서를 읽겠다\n",
    "\n",
    "\n",
    "title_ = soup.select_one('#main_pack > section.sc_new.sp_nnews._prs_nws_all > div > div.group_news > ul')\n",
    "#print(title_)\n",
    "\n",
    "news_list = title_.select('li > div >  div > a')\n",
    "print(news_list)\n",
    "for n in news_list:\n",
    "    print(n.get_text())  # <a> </a> 사이에 있는 텍스트만\n",
    "    print(n.get_attribute_list('title'))  #<a title =\" \"  > 안에 있는 텍스트만\n",
    "    print(n.get_attribute_list('href'))   #<a href =\" \"  > 안에 있는 텍스트만"
   ]
  },
  {
   "cell_type": "code",
   "execution_count": 15,
   "id": "00709342-e5c7-462e-9170-db8881890701",
   "metadata": {},
   "outputs": [
    {
     "ename": "AttributeError",
     "evalue": "ResultSet object has no attribute 'get_text'. You're probably treating a list of elements like a single element. Did you call find_all() when you meant to call find()?",
     "output_type": "error",
     "traceback": [
      "\u001b[1;31m---------------------------------------------------------------------------\u001b[0m",
      "\u001b[1;31mAttributeError\u001b[0m                            Traceback (most recent call last)",
      "\u001b[1;32m~\\AppData\\Local\\Temp/ipykernel_3360/4073942500.py\u001b[0m in \u001b[0;36m<module>\u001b[1;34m\u001b[0m\n\u001b[0;32m      1\u001b[0m \u001b[0ma\u001b[0m \u001b[1;33m=\u001b[0m \u001b[0msoup\u001b[0m\u001b[1;33m.\u001b[0m\u001b[0mselect\u001b[0m\u001b[1;33m(\u001b[0m\u001b[1;34m'a'\u001b[0m\u001b[1;33m)\u001b[0m\u001b[1;33m\u001b[0m\u001b[1;33m\u001b[0m\u001b[0m\n\u001b[0;32m      2\u001b[0m \u001b[1;32mfor\u001b[0m \u001b[0mi\u001b[0m \u001b[1;32min\u001b[0m \u001b[0ma\u001b[0m\u001b[1;33m:\u001b[0m\u001b[1;33m\u001b[0m\u001b[1;33m\u001b[0m\u001b[0m\n\u001b[1;32m----> 3\u001b[1;33m     \u001b[0mprint\u001b[0m\u001b[1;33m(\u001b[0m\u001b[0ma\u001b[0m\u001b[1;33m.\u001b[0m\u001b[0mget_text\u001b[0m\u001b[1;33m(\u001b[0m\u001b[1;33m)\u001b[0m\u001b[1;33m)\u001b[0m\u001b[1;33m\u001b[0m\u001b[1;33m\u001b[0m\u001b[0m\n\u001b[0m",
      "\u001b[1;32m~\\anaconda3\\lib\\site-packages\\bs4\\element.py\u001b[0m in \u001b[0;36m__getattr__\u001b[1;34m(self, key)\u001b[0m\n\u001b[0;32m   2251\u001b[0m     \u001b[1;32mdef\u001b[0m \u001b[0m__getattr__\u001b[0m\u001b[1;33m(\u001b[0m\u001b[0mself\u001b[0m\u001b[1;33m,\u001b[0m \u001b[0mkey\u001b[0m\u001b[1;33m)\u001b[0m\u001b[1;33m:\u001b[0m\u001b[1;33m\u001b[0m\u001b[1;33m\u001b[0m\u001b[0m\n\u001b[0;32m   2252\u001b[0m         \u001b[1;34m\"\"\"Raise a helpful exception to explain a common code fix.\"\"\"\u001b[0m\u001b[1;33m\u001b[0m\u001b[1;33m\u001b[0m\u001b[0m\n\u001b[1;32m-> 2253\u001b[1;33m         raise AttributeError(\n\u001b[0m\u001b[0;32m   2254\u001b[0m             \u001b[1;34m\"ResultSet object has no attribute '%s'. You're probably treating a list of elements like a single element. Did you call find_all() when you meant to call find()?\"\u001b[0m \u001b[1;33m%\u001b[0m \u001b[0mkey\u001b[0m\u001b[1;33m\u001b[0m\u001b[1;33m\u001b[0m\u001b[0m\n\u001b[0;32m   2255\u001b[0m         )\n",
      "\u001b[1;31mAttributeError\u001b[0m: ResultSet object has no attribute 'get_text'. You're probably treating a list of elements like a single element. Did you call find_all() when you meant to call find()?"
     ]
    }
   ],
   "source": [
    "a = soup.select('a')\n",
    "for i in a:\n",
    "    print(a.get_text())"
   ]
  }
 ],
 "metadata": {
  "kernelspec": {
   "display_name": "Python 3 (ipykernel)",
   "language": "python",
   "name": "python3"
  },
  "language_info": {
   "codemirror_mode": {
    "name": "ipython",
    "version": 3
   },
   "file_extension": ".py",
   "mimetype": "text/x-python",
   "name": "python",
   "nbconvert_exporter": "python",
   "pygments_lexer": "ipython3",
   "version": "3.9.7"
  }
 },
 "nbformat": 4,
 "nbformat_minor": 5
}
