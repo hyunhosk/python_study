{
 "cells": [
  {
   "cell_type": "markdown",
   "id": "78bbf564-8825-463f-8fdb-c7fe5f3f0952",
   "metadata": {},
   "source": [
    "### json, python"
   ]
  },
  {
   "cell_type": "code",
   "execution_count": 13,
   "id": "866b89a2-d92b-4d04-ae22-b7c4c35e183b",
   "metadata": {},
   "outputs": [
    {
     "name": "stdout",
     "output_type": "stream",
     "text": [
      "<class 'list'> [{'name': 'kim', 'age': 31, 'city': 'New York'}, {'name': 'lee', 'age': 29, 'city': 'Seoul'}]\n",
      "dict_keys(['name', 'age', 'city'])\n",
      "31\n"
     ]
    }
   ],
   "source": [
    "import json\n",
    "\n",
    "json_string = '''\n",
    "                [\n",
    "                {\"name\" : \"kim\", \n",
    "                \"age\" : 31, \n",
    "                \"city\" : \"New York\"},\n",
    "                {\"name\" : \"lee\", \n",
    "                \"age\" : 29, \n",
    "                \"city\" : \"Seoul\"}\n",
    "                ]\n",
    "                '''\n",
    "\n",
    "python_list = json.loads(json_string)\n",
    "\n",
    "print(type(python_list), python_list)\n",
    "print(python_list[0].keys())\n",
    "\n",
    "for n in python_list:\n",
    "    if n['age'] > 30:\n",
    "        print(n['age'])"
   ]
  },
  {
   "cell_type": "code",
   "execution_count": 15,
   "id": "7c13cffa-5124-46e2-a2b1-ad3298f1a86e",
   "metadata": {},
   "outputs": [
    {
     "name": "stdout",
     "output_type": "stream",
     "text": [
      "<class 'str'> [{\"name\": \"kim\", \"age\": 31, \"city\": \"New York\"}, {\"name\": \"lee\", \"age\": 29, \"city\": \"Seoul\"}]\n"
     ]
    }
   ],
   "source": [
    "json_list = json.dumps(python_list)\n",
    "\n",
    "print(type(json_list), json_list)"
   ]
  },
  {
   "cell_type": "markdown",
   "id": "99262181-bf1e-4818-a40b-3fa719e35438",
   "metadata": {},
   "source": [
    "---"
   ]
  },
  {
   "cell_type": "markdown",
   "id": "428cc231-e92e-4cfb-adfd-a1ebc3c53879",
   "metadata": {},
   "source": [
    "### 파일 불러오기"
   ]
  },
  {
   "cell_type": "code",
   "execution_count": 41,
   "id": "32781e1d-3985-4f9a-aa61-4ae9b56bc7ab",
   "metadata": {},
   "outputs": [],
   "source": [
    "f = open(\"test.txt\", \"w\", encoding = \"utf-8\")\n",
    "\n",
    "f.write(\"텍스트 파일을 새로 만들고 텍스트를 씁니다.\\n\")\n",
    "f.write(\"text 파일을 새로 만들고 텍스트를 씁니다.\\n\")\n",
    "f.write(\"테스트3\\n\")\n",
    "f.write(\"테스트4\\n\")\n",
    "f.close()"
   ]
  },
  {
   "cell_type": "code",
   "execution_count": 68,
   "id": "33a3a01c-383b-4e19-b57c-a4b4d70ad874",
   "metadata": {},
   "outputs": [
    {
     "name": "stdout",
     "output_type": "stream",
     "text": [
      "텍스트 파일을 새로 만들고 텍스트를 씁니다.\n",
      "\n",
      "text 파일을 새로 만들고 텍스트를 씁니다.\n",
      "\n",
      "테스트3\n",
      "\n",
      "테스트4\n",
      "\n"
     ]
    },
    {
     "data": {
      "text/plain": [
       "<function TextIOWrapper.close()>"
      ]
     },
     "execution_count": 68,
     "metadata": {},
     "output_type": "execute_result"
    }
   ],
   "source": [
    "f = open(\"test.txt\", \"r\", encoding = \"utf-8\")\n",
    "\n",
    "# print( f.readline() )\n",
    "# print( f.readline() )\n",
    "# print( f.readline() )\n",
    "\n",
    "# while True:\n",
    "#     x = f.readline()\n",
    "#     if x :    # == if x != '': , if x == True:\n",
    "#         print(x)\n",
    "#     else :\n",
    "#         break\n",
    "\n",
    "#print(type(f.readlines()))\n",
    "for i in f.readlines():\n",
    "    print(i)\n",
    "\n",
    "\n",
    "f.close"
   ]
  },
  {
   "cell_type": "code",
   "execution_count": 69,
   "id": "2fe1a933-3998-41b0-99c3-6765f6b5aaa7",
   "metadata": {},
   "outputs": [],
   "source": [
    "with open(\"test.txt\", \"a\", encoding = \" utf-8 \") as test:\n",
    "    test.write(\"테스트5\\n\")\n",
    "    test.write(\"테스트6\\n\")"
   ]
  },
  {
   "cell_type": "code",
   "execution_count": 73,
   "id": "d0220ae8-8ebd-4d5e-8967-2710e398f240",
   "metadata": {},
   "outputs": [
    {
     "name": "stdout",
     "output_type": "stream",
     "text": [
      "텍스트 파일을 새로 만들고 텍스트를 씁니다.\n",
      "\n",
      "text 파일을 새로 만들고 텍스트를 씁니다.\n",
      "\n",
      "테스트3\n",
      "\n",
      "테스트4\n",
      "\n",
      "테스트5\n",
      "\n",
      "테스트6\n",
      "\n"
     ]
    }
   ],
   "source": [
    "test = open(\"test.txt\", \"r\", encoding = \"utf-8\")\n",
    "#print(type(test.readlines()))\n",
    "for i in test.readlines():\n",
    "    print(i)"
   ]
  },
  {
   "cell_type": "code",
   "execution_count": 66,
   "id": "4d9ff4d4-a696-462c-874b-05f249fbbfca",
   "metadata": {},
   "outputs": [],
   "source": [
    "with open(\"text.txt\", \"w\", encoding = \"utf-8\") as text:\n",
    "    text.write(\"test 1\\n\")\n",
    "    text.write(\"test 2\\n\")\n",
    "    text.write(\"test 3\\n\")"
   ]
  },
  {
   "cell_type": "code",
   "execution_count": 67,
   "id": "4bac4953-7392-4192-be6d-ad10cfab6735",
   "metadata": {},
   "outputs": [
    {
     "name": "stdout",
     "output_type": "stream",
     "text": [
      "test 1\n",
      "\n",
      "test 2\n",
      "\n",
      "test 3\n",
      "\n"
     ]
    }
   ],
   "source": [
    "text = open(\"text.txt\", \"r\", encoding = \"utf-8\")\n",
    "\n",
    "for i in text.readlines():\n",
    "    print(i)"
   ]
  },
  {
   "cell_type": "code",
   "execution_count": 80,
   "id": "fc7d51bf-9bc7-42f1-9f49-aceeb55bc31d",
   "metadata": {},
   "outputs": [
    {
     "name": "stdout",
     "output_type": "stream",
     "text": [
      "[{'name': 'kim', 'age': 31, 'city': 'New York'}, {'name': 'lee', 'age': 29, 'city': 'Seoul'}]\n",
      "<class 'list'>\n"
     ]
    }
   ],
   "source": [
    "with open(\"test.json\", \"w\", encoding = \"utf-8\") as j_test:\n",
    "    j_test.write('''\n",
    "                [\n",
    "                {\"name\" : \"kim\", \n",
    "                \"age\" : 31, \n",
    "                \"city\" : \"New York\"},\n",
    "                {\"name\" : \"lee\", \n",
    "                \"age\" : 29, \n",
    "                \"city\" : \"Seoul\"}\n",
    "                ]\n",
    "                ''')\n",
    "\n",
    "with open(\"test.json\", \"r\", encoding = \"utf-8\") as f:\n",
    "        pp = json.load(f)\n",
    "        print(pp)\n",
    "        print(type(pp))"
   ]
  }
 ],
 "metadata": {
  "kernelspec": {
   "display_name": "Python 3 (ipykernel)",
   "language": "python",
   "name": "python3"
  },
  "language_info": {
   "codemirror_mode": {
    "name": "ipython",
    "version": 3
   },
   "file_extension": ".py",
   "mimetype": "text/x-python",
   "name": "python",
   "nbconvert_exporter": "python",
   "pygments_lexer": "ipython3",
   "version": "3.9.7"
  }
 },
 "nbformat": 4,
 "nbformat_minor": 5
}
