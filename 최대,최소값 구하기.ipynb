{
 "cells": [
  {
   "cell_type": "markdown",
   "id": "381ca8a3-24ed-4462-a382-37e7e4db66e0",
   "metadata": {},
   "source": [
    "#### list의 숫자 중 최대,최소값 구하기"
   ]
  },
  {
   "cell_type": "code",
   "execution_count": 13,
   "id": "3c84cd16-3e52-488f-8f5e-901ebb9a7e82",
   "metadata": {},
   "outputs": [
    {
     "name": "stdout",
     "output_type": "stream",
     "text": [
      "10\n",
      "1\n"
     ]
    }
   ],
   "source": [
    "numbers = [1, 2, 3, 4, 5, 6, 7, 8, 9, 10]\n",
    "\n",
    "maxnum = numbers[0] #최대\n",
    "minnum = numbers[0]\n",
    "\n",
    "for num in numbers:\n",
    "    if num > maxnum:\n",
    "        maxnum = num\n",
    "    elif num < minnum:\n",
    "        minnum = num\n",
    "print(maxnum)\n",
    "print(minnum)"
   ]
  }
 ],
 "metadata": {
  "kernelspec": {
   "display_name": "Python 3 (ipykernel)",
   "language": "python",
   "name": "python3"
  },
  "language_info": {
   "codemirror_mode": {
    "name": "ipython",
    "version": 3
   },
   "file_extension": ".py",
   "mimetype": "text/x-python",
   "name": "python",
   "nbconvert_exporter": "python",
   "pygments_lexer": "ipython3",
   "version": "3.9.7"
  }
 },
 "nbformat": 4,
 "nbformat_minor": 5
}
