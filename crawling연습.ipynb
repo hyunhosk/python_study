{
 "cells": [
  {
   "cell_type": "markdown",
   "id": "763de98c-eb01-4c33-8aea-eb59ce29402c",
   "metadata": {},
   "source": [
    "# crawling 연습"
   ]
  },
  {
   "cell_type": "code",
   "execution_count": 43,
   "id": "c0e24278-e272-47e7-a7fa-a0f38e70b067",
   "metadata": {},
   "outputs": [
    {
     "name": "stderr",
     "output_type": "stream",
     "text": [
      "C:\\Users\\BIT\\AppData\\Local\\Temp/ipykernel_9068/1688955220.py:4: DeprecationWarning: executable_path has been deprecated, please pass in a Service object\n",
      "  driver = webdriver.Chrome('driver/chromedriver')\n",
      "C:\\Users\\BIT\\AppData\\Local\\Temp/ipykernel_9068/1688955220.py:8: DeprecationWarning: find_elements_by_* commands are deprecated. Please use find_elements() instead\n",
      "  ai = driver.find_elements_by_css_selector('#main_pack > section.sc_new.sp_nreview._prs_rvw._au_view_collection > div > div._svp_list > panel-list > div > ul')\n"
     ]
    },
    {
     "name": "stdout",
     "output_type": "stream",
     "text": [
      "AI주식 보다 높은 수익률을 원한다면\n",
      "ROGin AI 안전하고 검증된 소셜 트레이딩 플랫폼 소개\n",
      "주식 ai 실제 수익 낼 수 있을까\n",
      "머신러닝 배워서 AI 전문가 되자\n",
      "제이엘케이 주가 뷰노 의료AI 관련주 분석\n",
      "홈트앱 AI로 즐기는 운동 어플 하우핏\n",
      "12월 28일 주식 시황 및 예상 주도섹터 _ 삼성전자 로봇 AI, 위드코로나 러시아 가스관 전기차 자율주행...\n",
      "[한국 AI 1번지] (3) 곽재도 AICA 본부장 \"韓 AI 부흥, 광주광역시에서\"\n",
      "인공지능 스피커 누구 캔들과 아마존 알렉사 AI 스피커를 동시에!\n"
     ]
    }
   ],
   "source": [
    "from selenium import webdriver\n",
    "\n",
    "#브라우저 생성\n",
    "driver = webdriver.Chrome('driver/chromedriver')\n",
    "#웹사이트 열기\n",
    "driver.get('https://search.naver.com/search.naver?where=nexearch&sm=top_hty&fbm=0&ie=utf8&query=ai')\n",
    "\n",
    "ai = driver.find_elements_by_css_selector('#main_pack > section.sc_new.sp_nreview._prs_rvw._au_view_collection > div > div._svp_list > panel-list > div > ul')\n",
    "\n",
    "\n",
    "\n",
    "for i in ai:\n",
    "    #print(i.find_elements_by_tag_name('a'))\n",
    "    #x = i.find_elements_by_tag_name('a')\n",
    "    #x = i.find_elements_by_class_name('api_txt_lines')\n",
    "    x = i.find_elements_by_css_selector('.api_txt_lines:nth-child(2)')\n",
    "    #print(x)\n",
    "    \n",
    "for i in x:\n",
    "    print(i.text)"
   ]
  }
 ],
 "metadata": {
  "kernelspec": {
   "display_name": "Python 3 (ipykernel)",
   "language": "python",
   "name": "python3"
  },
  "language_info": {
   "codemirror_mode": {
    "name": "ipython",
    "version": 3
   },
   "file_extension": ".py",
   "mimetype": "text/x-python",
   "name": "python",
   "nbconvert_exporter": "python",
   "pygments_lexer": "ipython3",
   "version": "3.9.7"
  }
 },
 "nbformat": 4,
 "nbformat_minor": 5
}
