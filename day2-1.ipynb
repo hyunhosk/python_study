{
 "cells": [
  {
   "cell_type": "markdown",
   "id": "c53447be-fca0-4a39-b2e6-1145428300d8",
   "metadata": {},
   "source": [
    "### 1. 문자열 더하기"
   ]
  },
  {
   "cell_type": "code",
   "execution_count": 2,
   "id": "8c790c5f-1e1d-464d-97b6-ae77953cdc47",
   "metadata": {},
   "outputs": [
    {
     "name": "stdout",
     "output_type": "stream",
     "text": [
      "57\n",
      "<class 'str'>\n"
     ]
    }
   ],
   "source": [
    "a = '5'\n",
    "b = '7'\n",
    "print(a + b)\n",
    "\n",
    "c = a + b\n",
    "print(type(c))"
   ]
  },
  {
   "cell_type": "markdown",
   "id": "8094612c-5b1e-416f-812d-0ba6051f04b1",
   "metadata": {},
   "source": [
    "### 2. 변수에 입력 받기"
   ]
  },
  {
   "cell_type": "code",
   "execution_count": 19,
   "id": "7c763503-b47d-4887-977f-25f3f4c57109",
   "metadata": {},
   "outputs": [
    {
     "name": "stdin",
     "output_type": "stream",
     "text": [
      "숫자를 입력하세요. 100\n",
      "숫자를 입력하세요. 2\n"
     ]
    },
    {
     "name": "stdout",
     "output_type": "stream",
     "text": [
      "100\n",
      "2\n",
      "1002\n",
      "<class 'str'>\n",
      "<class 'str'>\n",
      "100\n",
      "<class 'int'>\n",
      "2\n",
      "<class 'int'>\n",
      "102\n"
     ]
    }
   ],
   "source": [
    "x = input('숫자를 입력하세요.')\n",
    "y = input('숫자를 입력하세요.')\n",
    "print(x)\n",
    "print(y)\n",
    "\n",
    "print(x + y)\n",
    "print(type(x))\n",
    "print(type(y))\n",
    "\n",
    "x1 = int(x)\n",
    "print(x1)\n",
    "print(type(x1))\n",
    "\n",
    "y1 = int(y)\n",
    "print(y1)\n",
    "print(type(y1))\n",
    "\n",
    "print(x1 + y1)"
   ]
  },
  {
   "cell_type": "markdown",
   "id": "0a19e5b0-a1ae-4a3c-b41f-2b8d963a2767",
   "metadata": {},
   "source": [
    "#### 3. 성적 평균 구하기"
   ]
  },
  {
   "cell_type": "code",
   "execution_count": 52,
   "id": "45f9a55a-9d82-4b04-8365-66494c28b835",
   "metadata": {},
   "outputs": [
    {
     "name": "stdin",
     "output_type": "stream",
     "text": [
      "국어성적 입력하세요 40\n",
      "수학성적 입력하세요 50\n",
      "영어성적 입력하세요 60\n"
     ]
    },
    {
     "name": "stdout",
     "output_type": "stream",
     "text": [
      "150.0\n",
      "50.0\n",
      "점수 합계는 150 입니다. 평균은 50.00 입니다.\n"
     ]
    }
   ],
   "source": [
    "korean_Score = input('국어성적 입력하세요')\n",
    "math_Score = input('수학성적 입력하세요')\n",
    "english_Score = input('영어성적 입력하세요')\n",
    "\n",
    "korean_Score = float(korean_Score)\n",
    "math_Score = float(math_Score)\n",
    "english_Score = float(english_Score)\n",
    "\n",
    "add = korean_Score + math_Score + english_Score\n",
    "print(add)\n",
    "\n",
    "korean_Score = int(korean_Score)\n",
    "math_Score = int(math_Score)\n",
    "english_Score = int(english_Score)\n",
    "\n",
    "add = korean_Score + math_Score + english_Score\n",
    "avg = add / 3\n",
    "print(avg)\n",
    "\n",
    "print('점수 합계는 %d 입니다. 평균은 %.2f 입니다.' %(add, avg))"
   ]
  },
  {
   "cell_type": "code",
   "execution_count": 45,
   "id": "c1af2c63-c196-4f40-9a11-ee8de9abcaad",
   "metadata": {},
   "outputs": [
    {
     "name": "stdin",
     "output_type": "stream",
     "text": [
      "이름을 입력하세요 사공현호\n"
     ]
    },
    {
     "name": "stdout",
     "output_type": "stream",
     "text": [
      "내 이름은 사공현호 입니다\n"
     ]
    }
   ],
   "source": [
    "name = input('이름을 입력하세요')\n",
    "print('내 이름은 ' + name + ' 입니다')"
   ]
  },
  {
   "cell_type": "code",
   "execution_count": 53,
   "id": "17d1df82-99ce-49c7-be87-5a1b7cf7a1be",
   "metadata": {},
   "outputs": [
    {
     "name": "stdout",
     "output_type": "stream",
     "text": [
      "--------------------------------------------------\n"
     ]
    }
   ],
   "source": [
    "print('-' * 50)"
   ]
  },
  {
   "cell_type": "code",
   "execution_count": 67,
   "id": "62b39802-d85f-48a9-8ddb-affb15053abd",
   "metadata": {},
   "outputs": [
    {
     "name": "stdin",
     "output_type": "stream",
     "text": [
      "이름 :  사공\n",
      "국어 :  20\n",
      "영어 :  50\n",
      "수학 :  60\n"
     ]
    },
    {
     "name": "stdout",
     "output_type": "stream",
     "text": [
      "----------------------------------------------------------------------------------------------------\n",
      "이름:사공\t 국어:20\t 영어:50\t 수학:60\t총점:130\t평균:43.33\n",
      "이름 : 사공 \t국어 : 20 \t영어 : 50 \t수학 : 60 \t총합 : 130 \t평균 :43.33\n"
     ]
    }
   ],
   "source": [
    "name = input('이름 : ')\n",
    "korean = int(input('국어 : '))\n",
    "english = int(input('영어 : '))\n",
    "math = int(input('수학 : '))\n",
    "\n",
    "'''\n",
    "korean = int(korean)\n",
    "english = int(english)\n",
    "math = int(math)\n",
    "'''\n",
    "\n",
    "total = korean + english + math\n",
    "average = total / 3\n",
    "\n",
    "print('-' * 100)\n",
    "print(\"이름:%s\\t 국어:%d\\t 영어:%d\\t 수학:%d\\t총점:%d\\t평균:%.2f\" %(name, korean, english, math, total, average))\n",
    "print('이름 :', name,'\\t국어 :', korean,'\\t영어 :', english,'\\t수학 :', math,'\\t총합 :', total,'\\t평균 :%.2f'%(average))\n"
   ]
  },
  {
   "cell_type": "markdown",
   "id": "f28a0498-14f4-4b00-bce1-7f72b1ea7826",
   "metadata": {},
   "source": [
    "### 4. 불린 자료형"
   ]
  },
  {
   "cell_type": "code",
   "execution_count": 73,
   "id": "6bb385da-d00d-4c8e-8a9d-1f92cb84fea4",
   "metadata": {
    "tags": []
   },
   "outputs": [
    {
     "name": "stdout",
     "output_type": "stream",
     "text": [
      "True\n",
      "True\n",
      "False\n",
      "False\n",
      "False\n",
      "True\n",
      "<class 'bool'>\n",
      "0\n"
     ]
    }
   ],
   "source": [
    "data = 50\n",
    "score = 100\n",
    "a = data > score\n",
    "\n",
    "print( data < score )\n",
    "print( data <= score )\n",
    "print( data > score )\n",
    "print( data >= score )\n",
    "print( data == score )\n",
    "print( data != score )\n",
    "print(type(a))\n",
    "\n",
    "print( score % data )"
   ]
  },
  {
   "cell_type": "code",
   "execution_count": 74,
   "id": "df7865e5-fd6e-474d-899d-bcf0fafecc91",
   "metadata": {},
   "outputs": [
    {
     "name": "stdout",
     "output_type": "stream",
     "text": [
      "True\n",
      "True\n"
     ]
    }
   ],
   "source": [
    "score = 10\n",
    "print( score >= 0 and score <= 100 )\n",
    "print( score >= 0 or score <= 100 )"
   ]
  },
  {
   "cell_type": "code",
   "execution_count": 75,
   "id": "c3f0fb49-90ce-4133-a176-9c8f08a1e4f1",
   "metadata": {},
   "outputs": [
    {
     "name": "stdin",
     "output_type": "stream",
     "text": [
      "숫자를 입력하세요 30\n",
      "숫자를 입력하세요 40\n"
     ]
    },
    {
     "name": "stdout",
     "output_type": "stream",
     "text": [
      "True\n",
      "True\n",
      "False\n",
      "False\n",
      "False\n",
      "True\n"
     ]
    }
   ],
   "source": [
    "a = int(input('숫자를 입력하세요'))\n",
    "b = int(input('숫자를 입력하세요'))\n",
    "\n",
    "print( a < b )\n",
    "print( a <= b )\n",
    "print( a > b )\n",
    "print( a >= b )\n",
    "print( a == b )\n",
    "print( a != b )"
   ]
  }
 ],
 "metadata": {
  "kernelspec": {
   "display_name": "Python 3 (ipykernel)",
   "language": "python",
   "name": "python3"
  },
  "language_info": {
   "codemirror_mode": {
    "name": "ipython",
    "version": 3
   },
   "file_extension": ".py",
   "mimetype": "text/x-python",
   "name": "python",
   "nbconvert_exporter": "python",
   "pygments_lexer": "ipython3",
   "version": "3.9.7"
  }
 },
 "nbformat": 4,
 "nbformat_minor": 5
}
