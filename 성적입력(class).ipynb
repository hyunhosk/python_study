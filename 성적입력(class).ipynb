{
 "cells": [
  {
   "cell_type": "code",
   "execution_count": 2,
   "id": "114737a5-ee8e-4904-b893-eebb05eb3976",
   "metadata": {},
   "outputs": [],
   "source": [
    "class Student():\n",
    "    def __init__(self, name, kor, eng, math):\n",
    "        self.name = name\n",
    "        self.kor = kor\n",
    "        self.eng = eng\n",
    "        self.math = math\n",
    "    \n",
    "    def get_name(self): \n",
    "        return self.name\n",
    "    \n",
    "    def get_kor(self): \n",
    "        return self.kor\n",
    "    \n",
    "    def get_eng(self): \n",
    "        return self.eng\n",
    "    \n",
    "    def get_math(self): \n",
    "        return self.math\n",
    "    \n",
    "    def get_total(self): #한 학생 총점 \n",
    "        total =  self.kor + self.eng + self.math\n",
    "        return total"
   ]
  },
  {
   "cell_type": "code",
   "execution_count": 10,
   "id": "e5705225-d6e5-4eda-96f9-dc471cda96c1",
   "metadata": {},
   "outputs": [
    {
     "name": "stdin",
     "output_type": "stream",
     "text": [
      "이름 a\n",
      "국어 1\n",
      "영어 2\n",
      "수학 3\n",
      "이름 b\n",
      "국어 2\n",
      "영어 3\n",
      "수학 4\n",
      "이름 c\n",
      "국어 4\n",
      "영어 5\n",
      "수학 6\n"
     ]
    },
    {
     "name": "stdout",
     "output_type": "stream",
     "text": [
      "a 학생의 점수 합은 6 입니다.\n",
      "b 학생의 점수 합은 9 입니다.\n",
      "c 학생의 점수 합은 15 입니다.\n"
     ]
    }
   ],
   "source": [
    "s_list = list()\n",
    "for i in range(3):\n",
    "    name = input('이름')\n",
    "    kor = int(input('국어'))\n",
    "    eng = int(input('영어'))\n",
    "    math = int(input('수학'))\n",
    "    si = Student(name, kor, eng, math)\n",
    "    s_list.append(si)\n",
    "'''\n",
    "s1 = Student('a', 1, 2, 3)\n",
    "s2 = Student('b', 3, 4, 5)\n",
    "s3 = Student('c', 5, 6, 7)\n",
    "s_list = [s1, s2, s3]\n",
    "'''\n",
    "kor_total = 0\n",
    "eng_total = 0\n",
    "math_total = 0\n",
    "\n",
    "for i in s_list:\n",
    "    kor_total = kor_total +  i.get_kor()\n",
    "    eng_total = eng_total + i.get_eng()\n",
    "    math_total = math_total + i.get_math()\n",
    "    print('%s 학생의 점수 합은 %d 입니다.'%(i.get_name(), i.get_total()))\n",
    "print('모든 학생의 국어점수 합은 %d 입니다.'%kor_total)\n",
    "print('모든 학생의 영어점수 합은 %d 입니다.'%eng_total)\n",
    "print('모든 학생의 수학점수 합은 %d 입니다.'%math_total)\n"
   ]
  }
 ],
 "metadata": {
  "kernelspec": {
   "display_name": "Python 3 (ipykernel)",
   "language": "python",
   "name": "python3"
  },
  "language_info": {
   "codemirror_mode": {
    "name": "ipython",
    "version": 3
   },
   "file_extension": ".py",
   "mimetype": "text/x-python",
   "name": "python",
   "nbconvert_exporter": "python",
   "pygments_lexer": "ipython3",
   "version": "3.9.7"
  }
 },
 "nbformat": 4,
 "nbformat_minor": 5
}
