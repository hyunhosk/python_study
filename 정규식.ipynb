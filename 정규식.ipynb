{
 "cells": [
  {
   "cell_type": "markdown",
   "id": "9c081530-30c1-43e9-a265-ca812cba3d57",
   "metadata": {},
   "source": [
    "정규 표현식"
   ]
  },
  {
   "cell_type": "markdown",
   "id": "5bcc4522-d533-4571-a730-8db9c4514984",
   "metadata": {},
   "source": [
    "번호"
   ]
  },
  {
   "cell_type": "code",
   "execution_count": 31,
   "id": "b000e468-f7f4-4d74-81a2-cd09320575d2",
   "metadata": {},
   "outputs": [],
   "source": [
    "import requests\n",
    "import re\n",
    "\n",
    "response = requests.get('http://www.summet.com/dmsi/html/codesamples/addresses.html')\n",
    "id_text = response.text\n",
    "\n",
    "#정규식 설정\n",
    "p = re.compile('\\(\\d{3}\\) \\d{3}-\\d{4}')\n",
    "number_list = p.findall(id_text)\n",
    "#print(number_list)\n",
    "\n",
    "f = open(\"number.txt\", \"w\")\n",
    "\n",
    "for i in number_list:\n",
    "    f.write(i + '\\n') # == f.writelines(i)\n",
    "    \n",
    "f.close()"
   ]
  },
  {
   "cell_type": "markdown",
   "id": "ba5d012e-100f-411e-9740-c4dadc8911c1",
   "metadata": {},
   "source": [
    "주소"
   ]
  },
  {
   "cell_type": "code",
   "execution_count": 33,
   "id": "f5e95a9e-a64f-421e-b9df-b07298aed157",
   "metadata": {},
   "outputs": [],
   "source": [
    "q = re.compile('\\d{5}')\n",
    "adress_list = q.findall(id_text)\n",
    "\n",
    "f = open(\"adress.txt\", \"w\")\n",
    "\n",
    "for i in adress_list:\n",
    "    f.write(i + '\\n')\n",
    "    \n",
    "f.close()"
   ]
  }
 ],
 "metadata": {
  "kernelspec": {
   "display_name": "Python 3 (ipykernel)",
   "language": "python",
   "name": "python3"
  },
  "language_info": {
   "codemirror_mode": {
    "name": "ipython",
    "version": 3
   },
   "file_extension": ".py",
   "mimetype": "text/x-python",
   "name": "python",
   "nbconvert_exporter": "python",
   "pygments_lexer": "ipython3",
   "version": "3.9.7"
  }
 },
 "nbformat": 4,
 "nbformat_minor": 5
}
