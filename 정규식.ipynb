{
 "cells": [
  {
   "cell_type": "markdown",
   "id": "9c081530-30c1-43e9-a265-ca812cba3d57",
   "metadata": {},
   "source": [
    "정규 표현식"
   ]
  },
  {
   "cell_type": "markdown",
   "id": "5bcc4522-d533-4571-a730-8db9c4514984",
   "metadata": {},
   "source": [
    "번호"
   ]
  },
  {
   "cell_type": "code",
   "execution_count": 31,
   "id": "b000e468-f7f4-4d74-81a2-cd09320575d2",
   "metadata": {},
   "outputs": [],
   "source": [
    "import requests\n",
    "import re\n",
    "\n",
    "response = requests.get('http://www.summet.com/dmsi/html/codesamples/addresses.html')\n",
    "id_text = response.text\n",
    "\n",
    "#정규식 설정\n",
    "p = re.compile('\\(\\d{3}\\) \\d{3}-\\d{4}')\n",
    "number_list = p.findall(id_text)\n",
    "#print(number_list)\n",
    "\n",
    "f = open(\"number.txt\", \"w\")\n",
    "\n",
    "for i in number_list:\n",
    "    f.write(i + '\\n') # == f.writelines(i)\n",
    "    \n",
    "f.close()"
   ]
  },
  {
   "cell_type": "markdown",
   "id": "ba5d012e-100f-411e-9740-c4dadc8911c1",
   "metadata": {},
   "source": [
    "주소"
   ]
  },
  {
   "cell_type": "code",
   "execution_count": 34,
   "id": "f5e95a9e-a64f-421e-b9df-b07298aed157",
   "metadata": {},
   "outputs": [],
   "source": [
    "q = re.compile('\\d{5}')\n",
    "address_list = q.findall(id_text)\n",
    "\n",
    "f = open(\"address.txt\", \"w\")\n",
    "\n",
    "for i in adress_list:\n",
    "    f.write(i + '\\n')\n",
    "    \n",
    "f.close()"
   ]
  },
  {
   "cell_type": "code",
   "execution_count": 50,
   "id": "0cf2f2e4-4733-4196-91a5-2e49d67c77f5",
   "metadata": {},
   "outputs": [
    {
     "name": "stdout",
     "output_type": "stream",
     "text": [
      "['<li>Cecilia Chapman', '<li>Iris Watson', '<li>Celeste Slater', '<li>Theodore Lowe', '<li>Calista Wise', '<li>Kyla Olsen', '<li>Forrest Ray', '<li>Hiroko Potter', '<li>Nyssa Vazquez', '<li>Lawrence Moreno', '<li>Ina Moran', '<li>Aaron Hawkins', '<li>Hedy Greene', '<li>Melvin Porter', '<li>Keefe Sellers', '<li>Joan Romero', '<li>Davis Patrick', '<li>Leilani Boyer', '<li>Colby Bernard', '<li>Bryar Pitts', '<li>Rahim Henderson', '<li>Noelle Adams', '<li>Lillith Daniel', '<li>Adria Russell', '<li>Hilda Haynes', '<li>Sheila Mcintosh', '<li>Rebecca Chambers', '<li>Christian Emerson', '<li>Nevada Ware', '<li>Margaret Joseph', '<li>Edward Nieves', '<li>Imani Talley', '<li>Bertha Riggs', '<li>Wallace Ross', '<li>Chester Bennett', '<li>Castor Richardson', '<li>Sonya Jordan', '<li>Harrison Mcguire', '<li>Malcolm Long', '<li>Raymond Levy', '<li>Hedley Ingram', '<li>David Mathews', '<li>Xyla Cash', '<li>Madeline Gregory', '<li>Griffith Daniels', '<li>Anne Beasley', '<li>Chaney Bennett', '<li>Daniel Bernard', '<li>Willow Hunt', '<li>Judith Floyd', '<li>Seth Farley', '<li>Zephania Sanders', '<li>Calista Merritt', '<li>Craig Williams', '<li>Lee Preston', '<li>Katelyn Cooper', '<li>Lacy Eaton', '<li>Driscoll Leach', '<li>Merritt Watson', '<li>Nehru Holmes', '<li>Quamar Rivera', '<li>Hiram Mullins', '<li>Kim Fletcher', '<li>Rigel Koch', '<li>Jeanette Sharpe', '<li>Dahlia Lee', '<li>Howard Hayden', '<li>Hyatt Kramer', '<li>Sonya Ray', '<li>Cara Whitehead', '<li>Blythe Carroll', '<li>Dale Griffin', '<li>Haviva Holcomb', '<li>Ezra Duffy', '<li>Eleanor Jennings', '<li>Remedios Hester', '<li>Jasper Carney', '<li>Vielka Nielsen', '<li>Wilma Pace', '<li>Palmer Gay', '<li>Lyle Sutton', '<li>Ina Burt', '<li>Cleo Best', '<li>Hu Park', '<li>Liberty Walton', '<li>Aaron Trujillo', '<li>Elmo Lopez', '<li>Emerson Espinoza', '<li>Daniel Malone', '<li>Dante Bennett', '<li>Sade Higgins', '<li>Zorita Anderson', '<li>Jordan Calderon', '<li>Ivor Delgado', '<li>Pascale Patton', '<li>Nasim Strong', '<li>Keaton Underwood', '<li>Keegan Blair', '<li>Tamara Howe']\n"
     ]
    }
   ],
   "source": [
    "r = re.compile('<li>[A-Z][a-z]* [A-z][a-z]*')\n",
    "name_list = r.findall(id_text)\n",
    "print(name_list)"
   ]
  },
  {
   "cell_type": "code",
   "execution_count": 49,
   "id": "096f59de-842b-4b95-9a49-dc88dd93948d",
   "metadata": {},
   "outputs": [],
   "source": [
    "q = re.compile('\\d{5}')\n",
    "address_list = q.findall(id_text)\n",
    "\n",
    "f = open(\"address.csv\", \"w\")\n",
    "a = 0\n",
    "for i in adress_list:\n",
    "    #f.write(i + ',' + number_list[a] + '\\n')\n",
    "    f.write(i + ',%s\\n'%(number_list[a]))\n",
    "    a += 1\n",
    "f.close()"
   ]
  }
 ],
 "metadata": {
  "kernelspec": {
   "display_name": "Python 3 (ipykernel)",
   "language": "python",
   "name": "python3"
  },
  "language_info": {
   "codemirror_mode": {
    "name": "ipython",
    "version": 3
   },
   "file_extension": ".py",
   "mimetype": "text/x-python",
   "name": "python",
   "nbconvert_exporter": "python",
   "pygments_lexer": "ipython3",
   "version": "3.9.7"
  }
 },
 "nbformat": 4,
 "nbformat_minor": 5
}
