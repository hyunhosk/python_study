{
 "cells": [
  {
   "cell_type": "markdown",
   "id": "d0cd9ede-521b-4f1e-a993-1788e2938122",
   "metadata": {},
   "source": [
    "### 1. 표준출력 print()"
   ]
  },
  {
   "cell_type": "code",
   "execution_count": 25,
   "id": "237afb40-7c25-418b-b000-cccad34a181b",
   "metadata": {},
   "outputs": [
    {
     "name": "stdout",
     "output_type": "stream",
     "text": [
      "1\n",
      "3.0\n"
     ]
    }
   ],
   "source": [
    "print(1)\n",
    "print(3.0)"
   ]
  },
  {
   "cell_type": "code",
   "execution_count": 26,
   "id": "765b42f6-ab82-419d-a8e1-6c8ac9e84fe4",
   "metadata": {},
   "outputs": [
    {
     "name": "stdout",
     "output_type": "stream",
     "text": [
      "5.0\n"
     ]
    }
   ],
   "source": [
    "print(5.0)"
   ]
  },
  {
   "cell_type": "code",
   "execution_count": 28,
   "id": "53d4735c-d89f-4ed2-b6d5-adba893ae270",
   "metadata": {},
   "outputs": [
    {
     "name": "stdout",
     "output_type": "stream",
     "text": [
      "안녕하세요\n"
     ]
    }
   ],
   "source": [
    "print('안녕하세요')"
   ]
  },
  {
   "cell_type": "code",
   "execution_count": 29,
   "id": "3bd4db4a-051e-4485-b210-2c75026aa1fd",
   "metadata": {},
   "outputs": [
    {
     "name": "stdout",
     "output_type": "stream",
     "text": [
      "사공현호\n"
     ]
    }
   ],
   "source": [
    "print('사공현호')"
   ]
  },
  {
   "cell_type": "code",
   "execution_count": 33,
   "id": "0079d2a6-95e3-45e2-a07e-f166bb5f6576",
   "metadata": {},
   "outputs": [
    {
     "name": "stdout",
     "output_type": "stream",
     "text": [
      "안녕하세요 \n",
      "사공현호 입니다.\n",
      "안녕하세요 \t사공현호 입니다.\n"
     ]
    }
   ],
   "source": [
    "print('안녕하세요 \\n사공현호 입니다.')\n",
    "print('안녕하세요 \\t사공현호 입니다.') #\\t 탭문자"
   ]
  },
  {
   "cell_type": "markdown",
   "id": "f5a0d7ca-6a39-43f5-9c7c-ba07ac5099fa",
   "metadata": {},
   "source": [
    "### 2. 표준입력 input()"
   ]
  },
  {
   "cell_type": "code",
   "execution_count": 36,
   "id": "02c234df-d149-41b6-97f9-a3c458dd85f6",
   "metadata": {},
   "outputs": [
    {
     "name": "stdin",
     "output_type": "stream",
     "text": [
      "이름을 입력하세요 tkrhdgusgh\n"
     ]
    },
    {
     "data": {
      "text/plain": [
       "'tkrhdgusgh'"
      ]
     },
     "execution_count": 36,
     "metadata": {},
     "output_type": "execute_result"
    }
   ],
   "source": [
    "input('이름을 입력하세요')"
   ]
  },
  {
   "cell_type": "markdown",
   "id": "104bd8a7-6923-4933-b193-3db833afc7f5",
   "metadata": {},
   "source": [
    "### 3. "
   ]
  },
  {
   "cell_type": "code",
   "execution_count": 42,
   "id": "5eb741af-42fc-4ecc-ab99-74c59612c5b1",
   "metadata": {},
   "outputs": [
    {
     "name": "stdout",
     "output_type": "stream",
     "text": [
      "안녕하세요\n",
      "안녕하세요\n",
      "반갑습니다.\n"
     ]
    }
   ],
   "source": [
    "print('안녕하세요')\n",
    "print('안녕하세요') ; print('반갑습니다.')"
   ]
  },
  {
   "cell_type": "markdown",
   "id": "fdbec98c-7e4c-4901-ae19-249daa60e705",
   "metadata": {},
   "source": [
    "### 4. 블록규칙"
   ]
  },
  {
   "cell_type": "markdown",
   "id": "23bba2b0-f9f4-432f-a3b7-c4d3125a7aee",
   "metadata": {},
   "source": [
    "##### 들여쓰기로 결정됨"
   ]
  },
  {
   "cell_type": "code",
   "execution_count": 60,
   "id": "ddb1e33c-0c8c-4d93-b163-acf6f3c15835",
   "metadata": {},
   "outputs": [
    {
     "name": "stdout",
     "output_type": "stream",
     "text": [
      "끝\n"
     ]
    }
   ],
   "source": [
    "age = 10\n",
    "if(age>=20):\n",
    "    print('성인입니다.')\n",
    "print('끝')"
   ]
  },
  {
   "cell_type": "markdown",
   "id": "3beb299d-3008-4cdd-9455-1ecf6f7380c3",
   "metadata": {},
   "source": [
    "### 5. 주석"
   ]
  },
  {
   "cell_type": "markdown",
   "id": "8610853b-cea6-44c1-a030-b3b3ba021f6c",
   "metadata": {},
   "source": [
    "\" ctrl + / \"  선택한 줄 주석처리\n",
    "\n",
    "'''\n",
    "주석처리\n",
    "'''\n",
    "\n",
    "\"\"\"\n",
    "주석처리\n",
    "\"\"\""
   ]
  },
  {
   "cell_type": "code",
   "execution_count": 65,
   "id": "57e5ab99-3575-4ad9-aac4-3300e5aaf7f0",
   "metadata": {},
   "outputs": [
    {
     "data": {
      "text/plain": [
       "'\\n주석\\n'"
      ]
     },
     "execution_count": 65,
     "metadata": {},
     "output_type": "execute_result"
    }
   ],
   "source": [
    "'''\n",
    "주석\n",
    "'''\n"
   ]
  },
  {
   "cell_type": "code",
   "execution_count": 2,
   "id": "ba03b5e4-48d4-4251-a60b-32b8322519b0",
   "metadata": {},
   "outputs": [
    {
     "name": "stdout",
     "output_type": "stream",
     "text": [
      "dd\n"
     ]
    }
   ],
   "source": [
    "\"\"\"\n",
    "주석\n",
    "\"\"\"\n",
    "print(\"dd\")"
   ]
  }
 ],
 "metadata": {
  "kernelspec": {
   "display_name": "Python 3 (ipykernel)",
   "language": "python",
   "name": "python3"
  },
  "language_info": {
   "codemirror_mode": {
    "name": "ipython",
    "version": 3
   },
   "file_extension": ".py",
   "mimetype": "text/x-python",
   "name": "python",
   "nbconvert_exporter": "python",
   "pygments_lexer": "ipython3",
   "version": "3.9.7"
  }
 },
 "nbformat": 4,
 "nbformat_minor": 5
}
