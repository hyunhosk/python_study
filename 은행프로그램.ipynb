{
 "cells": [
  {
   "cell_type": "markdown",
   "id": "db69d63f-72f5-44b1-9cc1-d056f297a111",
   "metadata": {},
   "source": [
    "## account를 키보드로 입력\n",
    "ex) 1. 계좌개설 2. 입금 3. 출금 4. 송금"
   ]
  },
  {
   "cell_type": "code",
   "execution_count": 1,
   "id": "8803bd20-62b4-493d-bbf8-d0968db20d42",
   "metadata": {},
   "outputs": [],
   "source": [
    "class Account:\n",
    "    def __init__(self, name):\n",
    "        self.__name = name\n",
    "        self.__money = 0\n",
    "    \n",
    "    def get_name(self):\n",
    "        return self.__name\n",
    "    \n",
    "    def set_name(self, name):\n",
    "        self.__name = name\n",
    "        \n",
    "    def get_money(self):\n",
    "        return self.__money\n",
    "    \n",
    "    def set_money(self, money):\n",
    "        self.__money = money\n",
    "        \n",
    "    #     #이름변경\n",
    "    # def change_id(self, name):\n",
    "    #     self.set_name(name)\n",
    "        \n",
    "        #입금\n",
    "    def deposit(self, money):\n",
    "        self.__money = self.__money + money\n",
    "        \n",
    "        #출금\n",
    "    def withdraw(self, money):\n",
    "        if money > self.__money:                     #잔액 < 출금액\n",
    "            print('잔액이 부족합니다.') \n",
    "        else:\n",
    "            self.__money = self.__money - money\n",
    "            \n",
    "        #송금\n",
    "    def transfer(self, money, other):\n",
    "        if money > self.__money:\n",
    "            print('잔액이 부족합니다.')\n",
    "        else:\n",
    "            self.__money = self.__money - money\n",
    "            other.set_money(other.get_money() + money)\n"
   ]
  },
  {
   "cell_type": "code",
   "execution_count": 9,
   "id": "13c6ba2b-084d-4771-9338-17278a9591bf",
   "metadata": {},
   "outputs": [],
   "source": [
    "#계좌 개설\n",
    "def make_id():\n",
    "    name = input('이름을 입력하세요.')\n",
    "    name = Account(name)\n",
    "    name_l.append(name)\n",
    "  \n",
    "#  #입금\n",
    "# def deposit(name_l):\n",
    "#     account_name = input('계좌 이름을 입력하세요.')\n",
    "#     for i in name_l:\n",
    "#         if account_name == i.get_name():\n",
    "#         money = int(input('금액을 입력하세요.'))\n",
    "#         i.deposit(money)\n",
    "\n",
    "# def withdraw(name_l):\n",
    "#     account_name = input('계좌 이름을 입력하세요.')\n",
    "#     for i in name_l:\n",
    "#         if account_name == i.get_name():\n",
    "#         money = int(input('금액을 입력하세요.'))\n",
    "#         i.deposit(money)\n"
   ]
  },
  {
   "cell_type": "code",
   "execution_count": 6,
   "id": "1651d446-dae4-4210-8220-3c5a8ad36a3f",
   "metadata": {},
   "outputs": [
    {
     "name": "stdin",
     "output_type": "stream",
     "text": [
      "1 : 계좌개설 / 2 : 입금 / 3 : 출금 / 4 : 송금 / 5 : 잔액확인 / 0 : 종료 0\n"
     ]
    }
   ],
   "source": [
    "name_l = list()\n",
    "while True:\n",
    "    num = input('1 : 계좌개설 / 2 : 입금 / 3 : 출금 / 4 : 송금 / 5 : 잔액확인 / 0 : 종료')\n",
    "    if num == '0':\n",
    "        break\n",
    "        #개설\n",
    "    elif num == '1':\n",
    "        make_id()\n",
    "        #입금\n",
    "    elif num == '2':\n",
    "        account_name = input('계좌 이름을 입력하세요.')\n",
    "        for i in name_l:\n",
    "            if account_name == i.get_name():\n",
    "                money = int(input('금액을 입력하세요.'))\n",
    "                i.deposit(money)\n",
    "                \n",
    "        #출금\n",
    "    elif num == '3':\n",
    "        account_name = input('계좌 이름을 입력하세요.')\n",
    "        for i in name_l:\n",
    "            if account_name == i.get_name():\n",
    "                money = int(input('금액을 입력하세요.'))\n",
    "                i.withdraw(money)\n",
    "\n",
    "        #송금\n",
    "    elif num == '4':\n",
    "        account_name = input('출금계좌 이름을 입력하세요.')\n",
    "        for i in name_l:\n",
    "            if account_name == i.get_name():\n",
    "                receiver_name = input('입금계좌 이름을 입력하세요.')\n",
    "                for j in name_l:\n",
    "                    if receiver_name == j.get_name():\n",
    "                        money = int(input('금액을 입력하세요.'))\n",
    "                        i.transfer(money, j)\n",
    "\n",
    "        #잔액확인\n",
    "    elif num == '5':\n",
    "        account_name = input('출금계좌 이름을 입력하세요.')\n",
    "        for i in name_l:\n",
    "            if account_name == i.get_name():\n",
    "                print(i.get_money())\n",
    "                break"
   ]
  }
 ],
 "metadata": {
  "kernelspec": {
   "display_name": "Python 3 (ipykernel)",
   "language": "python",
   "name": "python3"
  },
  "language_info": {
   "codemirror_mode": {
    "name": "ipython",
    "version": 3
   },
   "file_extension": ".py",
   "mimetype": "text/x-python",
   "name": "python",
   "nbconvert_exporter": "python",
   "pygments_lexer": "ipython3",
   "version": "3.9.7"
  }
 },
 "nbformat": 4,
 "nbformat_minor": 5
}
